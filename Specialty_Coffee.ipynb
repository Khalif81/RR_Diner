{
 "cells": [
  {
   "cell_type": "markdown",
   "metadata": {
    "colab_type": "text",
    "id": "Jm0w3zN4DuVK"
   },
   "source": [
    "# **Springboard Decision Tree Specialty Coffee Case Study - Tier 3**\n",
    "\n",
    "\n"
   ]
  },
  {
   "cell_type": "markdown",
   "metadata": {
    "colab_type": "text",
    "id": "BhqpAY7GDuVN"
   },
   "source": [
    "# The Scenario\n",
    "\n",
    "Imagine you've just finished the Springboard Data Science Career Track course, and have been hired by a rising popular specialty coffee company - RR Diner Coffee - as a data scientist. Congratulations!\n",
    "\n",
    "RR Diner Coffee sells two types of thing:\n",
    "- specialty coffee beans, in bulk (by the kilogram only) \n",
    "- coffee equipment and merchandise (grinders, brewing equipment, mugs, books, t-shirts).\n",
    "\n",
    "RR Diner Coffee has three stores, two in Europe and one in the USA. The flagshap store is in the USA, and everything is quality assessed there, before being shipped out. Customers further away from the USA flagship store have higher shipping charges. \n",
    "\n",
    "You've been taken on at RR Diner Coffee because the company are turning towards using data science and machine learning to systematically make decisions about which coffee farmers they should strike deals with. \n",
    "\n",
    "RR Diner Coffee typically buys coffee from farmers, processes it on site, brings it back to the USA, roasts it, packages it, markets it, and ships it (only in bulk, and after quality assurance) to customers internationally. These customers all own coffee shops in major cities like New York, Paris, London, Hong Kong, Tokyo, and Berlin. \n",
    "\n",
    "Now, RR Diner Coffee has a decision about whether to strike a deal with a legendary coffee farm (known as the **Hidden Farm**) in rural China: there are rumours their coffee tastes of lychee and dark chocolate, while also being as sweet as apple juice. \n",
    "\n",
    "It's a risky decision, as the deal will be expensive, and the coffee might not be bought by customers. The stakes are high: times are tough, stocks are low, farmers are reverting to old deals with the larger enterprises and the publicity of selling *Hidden Farm* coffee could save the RR Diner Coffee business. \n",
    "\n",
    "Your first job, then, is ***to build a decision tree to predict how many units of the Hidden Farm Chinese coffee will be purchased by RR Diner Coffee's most loyal customers.*** \n",
    "\n",
    "To this end, you and your team have conducted a survey of 710 of the most loyal RR Diner Coffee customers, collecting data on the customers':\n",
    "- age\n",
    "- gender \n",
    "- salary \n",
    "- whether they have bought at least one RR Diner Coffee product online\n",
    "- their distance from the flagship store in the USA (standardized to a number between 0 and 11) \n",
    "- how much they spent on RR Diner Coffee products on the week of the survey \n",
    "- how much they spent on RR Diner Coffee products in the month preeding the survey\n",
    "- the number of RR Diner coffee bean shipments each customer has ordered over the preceding year. \n",
    "\n",
    "You also asked each customer participating in the survey whether they would buy the Hidden Farm coffee, and some (but not all) of the customers gave responses to that question. \n",
    "\n",
    "You sit back and think: if more than 70% of the interviewed customers are likely to buy the Hidden Farm coffee, you will strike the deal with the local Hidden Farm farmers and sell the coffee. Otherwise, you won't strike the deal and the Hidden Farm coffee will remain in legends only. There's some doubt in your mind about whether 70% is a reasonable threshold, but it'll do for the moment. \n",
    "\n",
    "To solve the problem, then, you will build a decision tree to implement a classification solution. \n",
    "\n",
    "\n",
    "-------------------------------\n",
    "As ever, this notebook is **tiered**, meaning you can elect that tier that is right for your confidence and skill level. There are 3 tiers, with tier 1 being the easiest and tier 3 being the hardest. This is ***tier 3***, so it will be challenging. \n",
    "\n",
    "**1. Sourcing and loading** \n",
    "- Import packages\n",
    "- Load data\n",
    "- Explore the data\n",
    "\n",
    " \n",
    "**2. Cleaning, transforming and visualizing**\n",
    "- Cleaning the data\n",
    "- Train/test split\n",
    "  \n",
    "  \n",
    "**3. Modelling** \n",
    "- Model 1: Entropy model - no max_depth\n",
    "- Model 2: Gini impurity model - no max_depth\n",
    "- Model 3: Entropy model - max depth 3\n",
    "- Model 4: Gini impurity model - max depth 3\n",
    "\n",
    "\n",
    "**4. Evaluating and concluding** \n",
    "- How many customers will buy Hidden Farm coffee?\n",
    "- Decision\n",
    "\n",
    "**5. Random Forest** \n",
    "- Import necessary modules\n",
    "- Model\n",
    "- Revise conclusion\n",
    "    "
   ]
  },
  {
   "cell_type": "markdown",
   "metadata": {
    "colab_type": "text",
    "id": "nciXGXtCDuVO"
   },
   "source": [
    "# 0. Overview\n",
    "\n",
    "This notebook uses decision trees to determine whether the factors of salary, gender, age, how much money the customer spent last week and during the preceding month on RR Diner Coffee products, how many kilogram coffee bags the customer bought over the last year, whether they have bought at least one RR Diner Coffee product online, and their distance from the flagship store in the USA, could predict whether customers would purchase the Hidden Farm coffee if a deal with its farmers were struck. "
   ]
  },
  {
   "cell_type": "markdown",
   "metadata": {
    "colab_type": "text",
    "id": "5fSgD2h9DuVP"
   },
   "source": [
    "# 1. Sourcing and loading\n",
    "## 1a. Import Packages"
   ]
  },
  {
   "cell_type": "code",
   "execution_count": 190,
   "metadata": {
    "colab": {},
    "colab_type": "code",
    "id": "CfGkTcLvDuVQ"
   },
   "outputs": [],
   "source": [
    "import pandas as pd\n",
    "import numpy as np\n",
    "from sklearn import tree, metrics\n",
    "from sklearn.model_selection import train_test_split\n",
    "import seaborn as sns\n",
    "import matplotlib.pyplot as plt\n",
    "from io import StringIO  \n",
    "from IPython.display import Image  \n",
    "import pydotplus"
   ]
  },
  {
   "cell_type": "markdown",
   "metadata": {
    "colab_type": "text",
    "id": "ZLgxyhNrDuVT"
   },
   "source": [
    "## 1b. Load data "
   ]
  },
  {
   "cell_type": "code",
   "execution_count": 191,
   "metadata": {
    "colab": {},
    "colab_type": "code",
    "id": "chW2ozlnDuVU"
   },
   "outputs": [],
   "source": [
    "# Read in the data to a variable called coffeeData\n",
    "filename='Data/RRDinerCoffeeData.csv'\n",
    "coffeeData=pd.read_csv(filename)"
   ]
  },
  {
   "cell_type": "markdown",
   "metadata": {
    "colab_type": "text",
    "id": "qnMVYf2NDuVW"
   },
   "source": [
    "## 1c. Explore the data"
   ]
  },
  {
   "cell_type": "markdown",
   "metadata": {
    "colab_type": "text",
    "id": "U5Qm4obyDuVX"
   },
   "source": [
    "As we've seen, exploration entails doing things like checking out the **initial appearance** of the data with head(), the **dimensions** of our data with .shape, the **data types** of the variables with .info(), the **number of non-null values**, how much **memory** is being used to store the data, and finally the major summary statistcs capturing **central tendancy, dispersion and the null-excluding shape of the dataset's distribution**. \n",
    "\n",
    "How much of this can you do yourself by this point in the course? Have a real go. "
   ]
  },
  {
   "cell_type": "code",
   "execution_count": 192,
   "metadata": {
    "colab": {},
    "colab_type": "code",
    "id": "cHEKFT4SDuVY"
   },
   "outputs": [
    {
     "data": {
      "text/html": [
       "<div>\n",
       "<style scoped>\n",
       "    .dataframe tbody tr th:only-of-type {\n",
       "        vertical-align: middle;\n",
       "    }\n",
       "\n",
       "    .dataframe tbody tr th {\n",
       "        vertical-align: top;\n",
       "    }\n",
       "\n",
       "    .dataframe thead th {\n",
       "        text-align: right;\n",
       "    }\n",
       "</style>\n",
       "<table border=\"1\" class=\"dataframe\">\n",
       "  <thead>\n",
       "    <tr style=\"text-align: right;\">\n",
       "      <th></th>\n",
       "      <th>Age</th>\n",
       "      <th>Gender</th>\n",
       "      <th>num_coffeeBags_per_year</th>\n",
       "      <th>spent_week</th>\n",
       "      <th>spent_month</th>\n",
       "      <th>SlrAY</th>\n",
       "      <th>Distance</th>\n",
       "      <th>Online</th>\n",
       "      <th>Decision</th>\n",
       "    </tr>\n",
       "  </thead>\n",
       "  <tbody>\n",
       "    <tr>\n",
       "      <th>0</th>\n",
       "      <td>36</td>\n",
       "      <td>Female</td>\n",
       "      <td>0</td>\n",
       "      <td>24</td>\n",
       "      <td>73</td>\n",
       "      <td>42789</td>\n",
       "      <td>0.003168</td>\n",
       "      <td>0</td>\n",
       "      <td>1.0</td>\n",
       "    </tr>\n",
       "    <tr>\n",
       "      <th>1</th>\n",
       "      <td>24</td>\n",
       "      <td>Male</td>\n",
       "      <td>0</td>\n",
       "      <td>44</td>\n",
       "      <td>164</td>\n",
       "      <td>74035</td>\n",
       "      <td>0.520906</td>\n",
       "      <td>0</td>\n",
       "      <td>NaN</td>\n",
       "    </tr>\n",
       "    <tr>\n",
       "      <th>2</th>\n",
       "      <td>24</td>\n",
       "      <td>Male</td>\n",
       "      <td>0</td>\n",
       "      <td>39</td>\n",
       "      <td>119</td>\n",
       "      <td>30563</td>\n",
       "      <td>0.916005</td>\n",
       "      <td>1</td>\n",
       "      <td>1.0</td>\n",
       "    </tr>\n",
       "    <tr>\n",
       "      <th>3</th>\n",
       "      <td>20</td>\n",
       "      <td>Male</td>\n",
       "      <td>0</td>\n",
       "      <td>30</td>\n",
       "      <td>107</td>\n",
       "      <td>13166</td>\n",
       "      <td>0.932098</td>\n",
       "      <td>1</td>\n",
       "      <td>NaN</td>\n",
       "    </tr>\n",
       "    <tr>\n",
       "      <th>4</th>\n",
       "      <td>24</td>\n",
       "      <td>Female</td>\n",
       "      <td>0</td>\n",
       "      <td>20</td>\n",
       "      <td>36</td>\n",
       "      <td>14244</td>\n",
       "      <td>0.965881</td>\n",
       "      <td>0</td>\n",
       "      <td>1.0</td>\n",
       "    </tr>\n",
       "  </tbody>\n",
       "</table>\n",
       "</div>"
      ],
      "text/plain": [
       "   Age  Gender  num_coffeeBags_per_year  spent_week  spent_month  SlrAY  \\\n",
       "0   36  Female                        0          24           73  42789   \n",
       "1   24    Male                        0          44          164  74035   \n",
       "2   24    Male                        0          39          119  30563   \n",
       "3   20    Male                        0          30          107  13166   \n",
       "4   24  Female                        0          20           36  14244   \n",
       "\n",
       "   Distance  Online  Decision  \n",
       "0  0.003168       0       1.0  \n",
       "1  0.520906       0       NaN  \n",
       "2  0.916005       1       1.0  \n",
       "3  0.932098       1       NaN  \n",
       "4  0.965881       0       1.0  "
      ]
     },
     "execution_count": 192,
     "metadata": {},
     "output_type": "execute_result"
    }
   ],
   "source": [
    "# Call head() on your data \n",
    "coffeeData.head()"
   ]
  },
  {
   "cell_type": "code",
   "execution_count": 193,
   "metadata": {
    "colab": {},
    "colab_type": "code",
    "id": "rDshwA7tDuVa"
   },
   "outputs": [
    {
     "data": {
      "text/plain": [
       "(702, 9)"
      ]
     },
     "execution_count": 193,
     "metadata": {},
     "output_type": "execute_result"
    }
   ],
   "source": [
    "# Call .shape on your data\n",
    "coffeeData.shape"
   ]
  },
  {
   "cell_type": "code",
   "execution_count": 194,
   "metadata": {
    "colab": {},
    "colab_type": "code",
    "id": "iCxo0tomDuVc"
   },
   "outputs": [
    {
     "name": "stdout",
     "output_type": "stream",
     "text": [
      "<class 'pandas.core.frame.DataFrame'>\n",
      "RangeIndex: 702 entries, 0 to 701\n",
      "Data columns (total 9 columns):\n",
      " #   Column                   Non-Null Count  Dtype  \n",
      "---  ------                   --------------  -----  \n",
      " 0   Age                      702 non-null    int64  \n",
      " 1   Gender                   702 non-null    object \n",
      " 2   num_coffeeBags_per_year  702 non-null    int64  \n",
      " 3   spent_week               702 non-null    int64  \n",
      " 4   spent_month              702 non-null    int64  \n",
      " 5   SlrAY                    702 non-null    int64  \n",
      " 6   Distance                 702 non-null    float64\n",
      " 7   Online                   702 non-null    int64  \n",
      " 8   Decision                 474 non-null    float64\n",
      "dtypes: float64(2), int64(6), object(1)\n",
      "memory usage: 49.5+ KB\n"
     ]
    }
   ],
   "source": [
    "# Call info() on your data\n",
    "coffeeData.info()"
   ]
  },
  {
   "cell_type": "code",
   "execution_count": 195,
   "metadata": {
    "colab": {},
    "colab_type": "code",
    "id": "t0ZdmaUeDuVe"
   },
   "outputs": [
    {
     "data": {
      "text/html": [
       "<div>\n",
       "<style scoped>\n",
       "    .dataframe tbody tr th:only-of-type {\n",
       "        vertical-align: middle;\n",
       "    }\n",
       "\n",
       "    .dataframe tbody tr th {\n",
       "        vertical-align: top;\n",
       "    }\n",
       "\n",
       "    .dataframe thead th {\n",
       "        text-align: right;\n",
       "    }\n",
       "</style>\n",
       "<table border=\"1\" class=\"dataframe\">\n",
       "  <thead>\n",
       "    <tr style=\"text-align: right;\">\n",
       "      <th></th>\n",
       "      <th>Age</th>\n",
       "      <th>num_coffeeBags_per_year</th>\n",
       "      <th>spent_week</th>\n",
       "      <th>spent_month</th>\n",
       "      <th>SlrAY</th>\n",
       "      <th>Distance</th>\n",
       "      <th>Online</th>\n",
       "      <th>Decision</th>\n",
       "    </tr>\n",
       "  </thead>\n",
       "  <tbody>\n",
       "    <tr>\n",
       "      <th>count</th>\n",
       "      <td>702.000000</td>\n",
       "      <td>702.000000</td>\n",
       "      <td>702.000000</td>\n",
       "      <td>702.000000</td>\n",
       "      <td>702.000000</td>\n",
       "      <td>702.000000</td>\n",
       "      <td>702.000000</td>\n",
       "      <td>474.000000</td>\n",
       "    </tr>\n",
       "    <tr>\n",
       "      <th>mean</th>\n",
       "      <td>34.243590</td>\n",
       "      <td>2.710826</td>\n",
       "      <td>32.853276</td>\n",
       "      <td>107.923077</td>\n",
       "      <td>43819.843305</td>\n",
       "      <td>4.559186</td>\n",
       "      <td>0.531339</td>\n",
       "      <td>0.639241</td>\n",
       "    </tr>\n",
       "    <tr>\n",
       "      <th>std</th>\n",
       "      <td>13.927945</td>\n",
       "      <td>1.593629</td>\n",
       "      <td>15.731878</td>\n",
       "      <td>55.348485</td>\n",
       "      <td>26192.626943</td>\n",
       "      <td>3.116275</td>\n",
       "      <td>0.499373</td>\n",
       "      <td>0.480728</td>\n",
       "    </tr>\n",
       "    <tr>\n",
       "      <th>min</th>\n",
       "      <td>16.000000</td>\n",
       "      <td>0.000000</td>\n",
       "      <td>0.000000</td>\n",
       "      <td>0.000000</td>\n",
       "      <td>1617.000000</td>\n",
       "      <td>0.003168</td>\n",
       "      <td>0.000000</td>\n",
       "      <td>0.000000</td>\n",
       "    </tr>\n",
       "    <tr>\n",
       "      <th>25%</th>\n",
       "      <td>23.000000</td>\n",
       "      <td>1.000000</td>\n",
       "      <td>24.250000</td>\n",
       "      <td>62.000000</td>\n",
       "      <td>22812.250000</td>\n",
       "      <td>1.877812</td>\n",
       "      <td>0.000000</td>\n",
       "      <td>0.000000</td>\n",
       "    </tr>\n",
       "    <tr>\n",
       "      <th>50%</th>\n",
       "      <td>28.000000</td>\n",
       "      <td>3.000000</td>\n",
       "      <td>36.000000</td>\n",
       "      <td>113.500000</td>\n",
       "      <td>41975.000000</td>\n",
       "      <td>4.196167</td>\n",
       "      <td>1.000000</td>\n",
       "      <td>1.000000</td>\n",
       "    </tr>\n",
       "    <tr>\n",
       "      <th>75%</th>\n",
       "      <td>46.000000</td>\n",
       "      <td>4.000000</td>\n",
       "      <td>43.000000</td>\n",
       "      <td>150.750000</td>\n",
       "      <td>60223.000000</td>\n",
       "      <td>6.712022</td>\n",
       "      <td>1.000000</td>\n",
       "      <td>1.000000</td>\n",
       "    </tr>\n",
       "    <tr>\n",
       "      <th>max</th>\n",
       "      <td>90.000000</td>\n",
       "      <td>5.000000</td>\n",
       "      <td>62.000000</td>\n",
       "      <td>210.000000</td>\n",
       "      <td>182058.000000</td>\n",
       "      <td>10.986203</td>\n",
       "      <td>1.000000</td>\n",
       "      <td>1.000000</td>\n",
       "    </tr>\n",
       "  </tbody>\n",
       "</table>\n",
       "</div>"
      ],
      "text/plain": [
       "              Age  num_coffeeBags_per_year  spent_week  spent_month  \\\n",
       "count  702.000000               702.000000  702.000000   702.000000   \n",
       "mean    34.243590                 2.710826   32.853276   107.923077   \n",
       "std     13.927945                 1.593629   15.731878    55.348485   \n",
       "min     16.000000                 0.000000    0.000000     0.000000   \n",
       "25%     23.000000                 1.000000   24.250000    62.000000   \n",
       "50%     28.000000                 3.000000   36.000000   113.500000   \n",
       "75%     46.000000                 4.000000   43.000000   150.750000   \n",
       "max     90.000000                 5.000000   62.000000   210.000000   \n",
       "\n",
       "               SlrAY    Distance      Online    Decision  \n",
       "count     702.000000  702.000000  702.000000  474.000000  \n",
       "mean    43819.843305    4.559186    0.531339    0.639241  \n",
       "std     26192.626943    3.116275    0.499373    0.480728  \n",
       "min      1617.000000    0.003168    0.000000    0.000000  \n",
       "25%     22812.250000    1.877812    0.000000    0.000000  \n",
       "50%     41975.000000    4.196167    1.000000    1.000000  \n",
       "75%     60223.000000    6.712022    1.000000    1.000000  \n",
       "max    182058.000000   10.986203    1.000000    1.000000  "
      ]
     },
     "execution_count": 195,
     "metadata": {},
     "output_type": "execute_result"
    }
   ],
   "source": [
    "# Call describe() on your data to get the relevant summary statistics for your data \n",
    "coffeeData.describe()"
   ]
  },
  {
   "cell_type": "markdown",
   "metadata": {
    "colab_type": "text",
    "id": "INkujJ6QDuVg"
   },
   "source": [
    "# 2. Cleaning, transforming and visualizing\n",
    "## 2a. Cleaning the data"
   ]
  },
  {
   "cell_type": "markdown",
   "metadata": {
    "colab_type": "text",
    "id": "wIMW_rbdDuVh"
   },
   "source": [
    "Some datasets don't require any cleaning, but almost all do. This one does. We need to replace '1.0' and '0.0' in the 'Decision' column by 'YES' and 'NO' respectively, clean up the values of the 'gender' column, and change the column names to words which maximize meaning and clarity. "
   ]
  },
  {
   "cell_type": "markdown",
   "metadata": {
    "colab_type": "text",
    "id": "EEXdBALeDuVi"
   },
   "source": [
    "First, let's change the name of `spent_week`, `spent_month`, and `SlrAY` to `spent_last_week` and `spent_last_month` and `salary` respectively."
   ]
  },
  {
   "cell_type": "code",
   "execution_count": 196,
   "metadata": {
    "colab": {},
    "colab_type": "code",
    "id": "rhxy23pbDuVi"
   },
   "outputs": [
    {
     "data": {
      "text/plain": [
       "Index(['Age', 'Gender', 'num_coffeeBags_per_year', 'spent_week', 'spent_month',\n",
       "       'SlrAY', 'Distance', 'Online', 'Decision'],\n",
       "      dtype='object')"
      ]
     },
     "execution_count": 196,
     "metadata": {},
     "output_type": "execute_result"
    }
   ],
   "source": [
    "# Check out the names of our data's columns \n",
    "coffeeData.columns"
   ]
  },
  {
   "cell_type": "code",
   "execution_count": 197,
   "metadata": {
    "colab": {},
    "colab_type": "code",
    "id": "C_D1m6ryDuVk"
   },
   "outputs": [],
   "source": [
    "# Make the relevant name changes to spent_week and spent_per_week.\n",
    "new_col_names = {'spent_week': 'spent_last_week', \n",
    "                 'spent_month': 'spent_last_month',\n",
    "                 'SlrAY': 'salary'}\n",
    "coffeeData.rename(new_col_names, axis=1, inplace=True)"
   ]
  },
  {
   "cell_type": "code",
   "execution_count": 198,
   "metadata": {
    "colab": {},
    "colab_type": "code",
    "id": "3cmdaeg8DuVm"
   },
   "outputs": [
    {
     "data": {
      "text/plain": [
       "Index(['Age', 'Gender', 'num_coffeeBags_per_year', 'spent_last_week',\n",
       "       'spent_last_month', 'salary', 'Distance', 'Online', 'Decision'],\n",
       "      dtype='object')"
      ]
     },
     "execution_count": 198,
     "metadata": {},
     "output_type": "execute_result"
    }
   ],
   "source": [
    "# Check out the column names\n",
    "coffeeData.columns"
   ]
  },
  {
   "cell_type": "code",
   "execution_count": 199,
   "metadata": {
    "colab": {},
    "colab_type": "code",
    "id": "XJK-wbfODuVp"
   },
   "outputs": [
    {
     "data": {
      "text/plain": [
       "Male      355\n",
       "Female    340\n",
       "male        1\n",
       "female      1\n",
       "f           1\n",
       "M           1\n",
       "FEMALE      1\n",
       "F           1\n",
       "MALE        1\n",
       "Name: Gender, dtype: int64"
      ]
     },
     "execution_count": 199,
     "metadata": {},
     "output_type": "execute_result"
    }
   ],
   "source": [
    "# Let's have a closer look at the gender column. Its values need cleaning.\n",
    "coffeeData['Gender'].value_counts()"
   ]
  },
  {
   "cell_type": "code",
   "execution_count": 200,
   "metadata": {
    "colab": {},
    "colab_type": "code",
    "id": "88bITtgzDuVr"
   },
   "outputs": [
    {
     "data": {
      "text/plain": [
       "array(['Female', 'Male', 'female', 'F', 'f ', 'FEMALE', 'MALE', 'male',\n",
       "       'M'], dtype=object)"
      ]
     },
     "execution_count": 200,
     "metadata": {},
     "output_type": "execute_result"
    }
   ],
   "source": [
    "# See the gender column's unique values \n",
    "coffeeData['Gender'].unique()"
   ]
  },
  {
   "cell_type": "markdown",
   "metadata": {
    "colab_type": "text",
    "id": "-eGzgGR1DuVt"
   },
   "source": [
    "We can see a bunch of inconsistency here.\n",
    "\n",
    "Use replace() to make the values of the `gender` column just `Female` and `Male`."
   ]
  },
  {
   "cell_type": "code",
   "execution_count": 201,
   "metadata": {
    "colab": {},
    "colab_type": "code",
    "id": "h0FOX3I3DuVu"
   },
   "outputs": [],
   "source": [
    "# Replace all alternate values for the Female entry with 'Female'\n",
    "Female_replace={'female': 'Female',\n",
    "                'F': 'Female',\n",
    "                'f ': 'Female',\n",
    "                'FEMALE': 'Female'\n",
    "               }\n",
    "coffeeData['Gender'].replace(Female_replace, inplace=True)"
   ]
  },
  {
   "cell_type": "code",
   "execution_count": 202,
   "metadata": {
    "colab": {},
    "colab_type": "code",
    "id": "5TThfHgCDuVw"
   },
   "outputs": [
    {
     "data": {
      "text/plain": [
       "array(['Female', 'Male', 'MALE', 'male', 'M'], dtype=object)"
      ]
     },
     "execution_count": 202,
     "metadata": {},
     "output_type": "execute_result"
    }
   ],
   "source": [
    "# Check out the unique values for the 'gender' column\n",
    "coffeeData['Gender'].unique()"
   ]
  },
  {
   "cell_type": "code",
   "execution_count": 203,
   "metadata": {
    "colab": {},
    "colab_type": "code",
    "id": "4wRKBvSHDuVy"
   },
   "outputs": [],
   "source": [
    "# Replace all alternate values with \"Male\"\n",
    "Male_replace={'MALE': 'Male',\n",
    "                'male': 'Male',\n",
    "                'M': 'Male'\n",
    "               }\n",
    "coffeeData['Gender'].replace(Male_replace, inplace=True)"
   ]
  },
  {
   "cell_type": "code",
   "execution_count": 204,
   "metadata": {
    "colab": {},
    "colab_type": "code",
    "id": "nhBUkXIADuV0"
   },
   "outputs": [
    {
     "data": {
      "text/plain": [
       "Male      358\n",
       "Female    344\n",
       "Name: Gender, dtype: int64"
      ]
     },
     "execution_count": 204,
     "metadata": {},
     "output_type": "execute_result"
    }
   ],
   "source": [
    "# Let's check the unique values of the column \"gender\"\n",
    "coffeeData['Gender'].value_counts()"
   ]
  },
  {
   "cell_type": "code",
   "execution_count": 205,
   "metadata": {
    "colab": {},
    "colab_type": "code",
    "id": "AdhhO4WHDuV2"
   },
   "outputs": [
    {
     "data": {
      "text/plain": [
       "1.0    303\n",
       "0.0    171\n",
       "Name: Decision, dtype: int64"
      ]
     },
     "execution_count": 205,
     "metadata": {},
     "output_type": "execute_result"
    }
   ],
   "source": [
    "# Check out the unique values of the column 'Decision'\n",
    "coffeeData['Decision'].value_counts()"
   ]
  },
  {
   "cell_type": "markdown",
   "metadata": {
    "colab_type": "text",
    "id": "m1JuiY-iDuV5"
   },
   "source": [
    "We now want to replace `1.0` and `0.0` in the `Decision` column by `YES` and `NO` respectively."
   ]
  },
  {
   "cell_type": "code",
   "execution_count": 206,
   "metadata": {
    "colab": {},
    "colab_type": "code",
    "id": "QsK6gYPgDuV5"
   },
   "outputs": [],
   "source": [
    "# Replace 1.0 and 0.0 by 'Yes' and 'No'\n",
    "Decision_Replace={1.0:'YES',\n",
    "                 0.0: 'NO'}\n",
    "coffeeData['Decision'].replace(Decision_Replace, inplace=True)"
   ]
  },
  {
   "cell_type": "code",
   "execution_count": 207,
   "metadata": {
    "colab": {},
    "colab_type": "code",
    "id": "YtHnTZuWDuV9"
   },
   "outputs": [
    {
     "data": {
      "text/plain": [
       "YES    303\n",
       "NO     171\n",
       "Name: Decision, dtype: int64"
      ]
     },
     "execution_count": 207,
     "metadata": {},
     "output_type": "execute_result"
    }
   ],
   "source": [
    "# Check that our replacing those values with 'YES' and 'NO' worked, with unique()\n",
    "coffeeData['Decision'].value_counts()"
   ]
  },
  {
   "cell_type": "markdown",
   "metadata": {
    "colab_type": "text",
    "id": "CKCt-fBlDuWB"
   },
   "source": [
    "## 2b. Train/test split\n",
    "To execute the train/test split properly, we need to do five things: \n",
    "1. Drop all rows with a null value in the `Decision` column, and save the result as NOPrediction: a dataset that will contain all known values for the decision \n",
    "2. Visualize the data using scatter and boxplots of several variables in the y-axis and the decision on the x-axis\n",
    "3. Get the subset of coffeeData with null values in the `Decision` column, and save that subset as Prediction\n",
    "4. Divide the NOPrediction subset into X and y, and then further divide those subsets into train and test subsets for X and y respectively\n",
    "5. Create dummy variables to deal with categorical inputs"
   ]
  },
  {
   "cell_type": "markdown",
   "metadata": {
    "colab_type": "text",
    "id": "ysHdkIaQDuWB"
   },
   "source": [
    "### 1. Drop all null values within the `Decision` column, and save the result as NoPrediction"
   ]
  },
  {
   "cell_type": "code",
   "execution_count": 208,
   "metadata": {
    "colab": {},
    "colab_type": "code",
    "id": "pvgH6SM4DuWC"
   },
   "outputs": [
    {
     "data": {
      "text/html": [
       "<div>\n",
       "<style scoped>\n",
       "    .dataframe tbody tr th:only-of-type {\n",
       "        vertical-align: middle;\n",
       "    }\n",
       "\n",
       "    .dataframe tbody tr th {\n",
       "        vertical-align: top;\n",
       "    }\n",
       "\n",
       "    .dataframe thead th {\n",
       "        text-align: right;\n",
       "    }\n",
       "</style>\n",
       "<table border=\"1\" class=\"dataframe\">\n",
       "  <thead>\n",
       "    <tr style=\"text-align: right;\">\n",
       "      <th></th>\n",
       "      <th>Age</th>\n",
       "      <th>num_coffeeBags_per_year</th>\n",
       "      <th>spent_last_week</th>\n",
       "      <th>spent_last_month</th>\n",
       "      <th>salary</th>\n",
       "      <th>Distance</th>\n",
       "      <th>Online</th>\n",
       "    </tr>\n",
       "  </thead>\n",
       "  <tbody>\n",
       "    <tr>\n",
       "      <th>count</th>\n",
       "      <td>474.000000</td>\n",
       "      <td>474.000000</td>\n",
       "      <td>474.000000</td>\n",
       "      <td>474.000000</td>\n",
       "      <td>474.000000</td>\n",
       "      <td>474.000000</td>\n",
       "      <td>474.000000</td>\n",
       "    </tr>\n",
       "    <tr>\n",
       "      <th>mean</th>\n",
       "      <td>35.417722</td>\n",
       "      <td>2.590717</td>\n",
       "      <td>32.592827</td>\n",
       "      <td>106.727848</td>\n",
       "      <td>44731.892405</td>\n",
       "      <td>5.102898</td>\n",
       "      <td>0.512658</td>\n",
       "    </tr>\n",
       "    <tr>\n",
       "      <th>std</th>\n",
       "      <td>13.604135</td>\n",
       "      <td>1.585211</td>\n",
       "      <td>15.758109</td>\n",
       "      <td>56.101085</td>\n",
       "      <td>25567.674430</td>\n",
       "      <td>3.354891</td>\n",
       "      <td>0.500368</td>\n",
       "    </tr>\n",
       "    <tr>\n",
       "      <th>min</th>\n",
       "      <td>16.000000</td>\n",
       "      <td>0.000000</td>\n",
       "      <td>0.000000</td>\n",
       "      <td>0.000000</td>\n",
       "      <td>3150.000000</td>\n",
       "      <td>0.003168</td>\n",
       "      <td>0.000000</td>\n",
       "    </tr>\n",
       "    <tr>\n",
       "      <th>25%</th>\n",
       "      <td>25.000000</td>\n",
       "      <td>1.000000</td>\n",
       "      <td>24.000000</td>\n",
       "      <td>60.000000</td>\n",
       "      <td>27284.250000</td>\n",
       "      <td>2.077965</td>\n",
       "      <td>0.000000</td>\n",
       "    </tr>\n",
       "    <tr>\n",
       "      <th>50%</th>\n",
       "      <td>29.000000</td>\n",
       "      <td>3.000000</td>\n",
       "      <td>35.000000</td>\n",
       "      <td>113.500000</td>\n",
       "      <td>42791.500000</td>\n",
       "      <td>4.832168</td>\n",
       "      <td>1.000000</td>\n",
       "    </tr>\n",
       "    <tr>\n",
       "      <th>75%</th>\n",
       "      <td>49.000000</td>\n",
       "      <td>4.000000</td>\n",
       "      <td>43.000000</td>\n",
       "      <td>150.000000</td>\n",
       "      <td>61621.750000</td>\n",
       "      <td>7.869086</td>\n",
       "      <td>1.000000</td>\n",
       "    </tr>\n",
       "    <tr>\n",
       "      <th>max</th>\n",
       "      <td>90.000000</td>\n",
       "      <td>5.000000</td>\n",
       "      <td>62.000000</td>\n",
       "      <td>210.000000</td>\n",
       "      <td>172658.000000</td>\n",
       "      <td>10.986203</td>\n",
       "      <td>1.000000</td>\n",
       "    </tr>\n",
       "  </tbody>\n",
       "</table>\n",
       "</div>"
      ],
      "text/plain": [
       "              Age  num_coffeeBags_per_year  spent_last_week  spent_last_month  \\\n",
       "count  474.000000               474.000000       474.000000        474.000000   \n",
       "mean    35.417722                 2.590717        32.592827        106.727848   \n",
       "std     13.604135                 1.585211        15.758109         56.101085   \n",
       "min     16.000000                 0.000000         0.000000          0.000000   \n",
       "25%     25.000000                 1.000000        24.000000         60.000000   \n",
       "50%     29.000000                 3.000000        35.000000        113.500000   \n",
       "75%     49.000000                 4.000000        43.000000        150.000000   \n",
       "max     90.000000                 5.000000        62.000000        210.000000   \n",
       "\n",
       "              salary    Distance      Online  \n",
       "count     474.000000  474.000000  474.000000  \n",
       "mean    44731.892405    5.102898    0.512658  \n",
       "std     25567.674430    3.354891    0.500368  \n",
       "min      3150.000000    0.003168    0.000000  \n",
       "25%     27284.250000    2.077965    0.000000  \n",
       "50%     42791.500000    4.832168    1.000000  \n",
       "75%     61621.750000    7.869086    1.000000  \n",
       "max    172658.000000   10.986203    1.000000  "
      ]
     },
     "execution_count": 208,
     "metadata": {},
     "output_type": "execute_result"
    }
   ],
   "source": [
    "# NoPrediction will contain all known values for the decision\n",
    "# Call dropna() on coffeeData, and store the result in a variable NOPrediction \n",
    "# Call describe() on the Decision column of NoPrediction after calling dropna() on coffeeData\n",
    "NOPrediction=coffeeData.dropna()\n",
    "NOPrediction.describe()"
   ]
  },
  {
   "cell_type": "markdown",
   "metadata": {
    "colab_type": "text",
    "id": "XfTK5Ec6DuWE"
   },
   "source": [
    "### 2. Visualize the data using scatter and boxplots of several variables in the y-axis and the decision on the x-axis"
   ]
  },
  {
   "cell_type": "code",
   "execution_count": 209,
   "metadata": {
    "colab": {},
    "colab_type": "code",
    "id": "5O-M-t3tDuWE"
   },
   "outputs": [
    {
     "data": {
      "image/png": "[encoded data removed]",
      "text/plain": [
       "<Figure size 432x288 with 1 Axes>"
      ]
     },
     "metadata": {},
     "output_type": "display_data"
    }
   ],
   "source": [
    "# Exploring our new NOPrediction dataset\n",
    "# Make a boxplot on NOPrediction where the x axis is Decision, and the y axis is spent_last_week\n",
    "X_='Decision'\n",
    "Y_='spent_last_week'\n",
    "Data_=NOPrediction\n",
    "\n",
    "sns.set_theme(style=\"whitegrid\")\n",
    "_ = sns.boxplot(x=X_, y=Y_, data=Data_)"
   ]
  },
  {
   "cell_type": "markdown",
   "metadata": {
    "colab_type": "text",
    "id": "mVqg_HI7DuWG"
   },
   "source": [
    "Can you admissibly conclude anything from this boxplot? Write your answer here:\n",
    "\n",
    "Those who spent more last week were more likely to say YES. Looking at a threshold of around 33 USD, 0.75 of YES were above the threshold, and 0.75 of NO were below.  But it's not clear the proportion of those who spent >33  USD said YES and the proportion of those who spent <33 USD said NO."
   ]
  },
  {
   "cell_type": "code",
   "execution_count": 210,
   "metadata": {
    "colab": {},
    "colab_type": "code",
    "id": "q-AyXWSxDuWH"
   },
   "outputs": [
    {
     "data": {
      "image/png": "[encoded data removed]",
      "text/plain": [
       "<Figure size 432x288 with 1 Axes>"
      ]
     },
     "metadata": {},
     "output_type": "display_data"
    }
   ],
   "source": [
    "# Make a scatterplot on NOPrediction, where x is distance, y is spent_last_month and hue is Decision \n",
    "X_='Distance'\n",
    "Y_='spent_last_month'\n",
    "Data_=NOPrediction\n",
    "Hue_='Decision'\n",
    "\n",
    "sns.scatterplot(x=X_, y=Y_, data=Data_, hue=Hue_);"
   ]
  },
  {
   "cell_type": "markdown",
   "metadata": {
    "colab_type": "text",
    "id": "I_nr36yZDuWJ"
   },
   "source": [
    "Can you admissibly conclude anything from this scatterplot? Remember: we are trying to build a tree to classify unseen examples. Write your answer here:\n",
    "\n",
    "There threshold where some combination of distance and amount of spend last month correlates very well with the decision.  Higher spend and lesser distance correlate more with YES."
   ]
  },
  {
   "cell_type": "markdown",
   "metadata": {
    "colab_type": "text",
    "id": "oQBPyvehDuWK"
   },
   "source": [
    "### 3. Get the subset of coffeeData with null values in the Decision column, and save that subset as Prediction"
   ]
  },
  {
   "cell_type": "code",
   "execution_count": 211,
   "metadata": {
    "colab": {},
    "colab_type": "code",
    "id": "vcCednqUDuWL"
   },
   "outputs": [],
   "source": [
    "# Get just those rows whose value for the Decision column is null  \n",
    "Prediction=coffeeData.loc[coffeeData['Decision'].isna()==True]\n"
   ]
  },
  {
   "cell_type": "code",
   "execution_count": 212,
   "metadata": {
    "colab": {},
    "colab_type": "code",
    "id": "aenlmp9NDuWM"
   },
   "outputs": [
    {
     "data": {
      "text/html": [
       "<div>\n",
       "<style scoped>\n",
       "    .dataframe tbody tr th:only-of-type {\n",
       "        vertical-align: middle;\n",
       "    }\n",
       "\n",
       "    .dataframe tbody tr th {\n",
       "        vertical-align: top;\n",
       "    }\n",
       "\n",
       "    .dataframe thead th {\n",
       "        text-align: right;\n",
       "    }\n",
       "</style>\n",
       "<table border=\"1\" class=\"dataframe\">\n",
       "  <thead>\n",
       "    <tr style=\"text-align: right;\">\n",
       "      <th></th>\n",
       "      <th>Age</th>\n",
       "      <th>num_coffeeBags_per_year</th>\n",
       "      <th>spent_last_week</th>\n",
       "      <th>spent_last_month</th>\n",
       "      <th>salary</th>\n",
       "      <th>Distance</th>\n",
       "      <th>Online</th>\n",
       "    </tr>\n",
       "  </thead>\n",
       "  <tbody>\n",
       "    <tr>\n",
       "      <th>count</th>\n",
       "      <td>228.000000</td>\n",
       "      <td>228.000000</td>\n",
       "      <td>228.000000</td>\n",
       "      <td>228.000000</td>\n",
       "      <td>228.000000</td>\n",
       "      <td>228.000000</td>\n",
       "      <td>228.000000</td>\n",
       "    </tr>\n",
       "    <tr>\n",
       "      <th>mean</th>\n",
       "      <td>31.802632</td>\n",
       "      <td>2.960526</td>\n",
       "      <td>33.394737</td>\n",
       "      <td>110.407895</td>\n",
       "      <td>41923.741228</td>\n",
       "      <td>3.428836</td>\n",
       "      <td>0.570175</td>\n",
       "    </tr>\n",
       "    <tr>\n",
       "      <th>std</th>\n",
       "      <td>14.302293</td>\n",
       "      <td>1.585514</td>\n",
       "      <td>15.697930</td>\n",
       "      <td>53.786536</td>\n",
       "      <td>27406.768360</td>\n",
       "      <td>2.153102</td>\n",
       "      <td>0.496140</td>\n",
       "    </tr>\n",
       "    <tr>\n",
       "      <th>min</th>\n",
       "      <td>16.000000</td>\n",
       "      <td>0.000000</td>\n",
       "      <td>0.000000</td>\n",
       "      <td>0.000000</td>\n",
       "      <td>1617.000000</td>\n",
       "      <td>0.010048</td>\n",
       "      <td>0.000000</td>\n",
       "    </tr>\n",
       "    <tr>\n",
       "      <th>25%</th>\n",
       "      <td>22.000000</td>\n",
       "      <td>2.000000</td>\n",
       "      <td>25.750000</td>\n",
       "      <td>65.000000</td>\n",
       "      <td>15911.500000</td>\n",
       "      <td>1.699408</td>\n",
       "      <td>0.000000</td>\n",
       "    </tr>\n",
       "    <tr>\n",
       "      <th>50%</th>\n",
       "      <td>25.000000</td>\n",
       "      <td>3.000000</td>\n",
       "      <td>37.000000</td>\n",
       "      <td>113.500000</td>\n",
       "      <td>40987.500000</td>\n",
       "      <td>3.208673</td>\n",
       "      <td>1.000000</td>\n",
       "    </tr>\n",
       "    <tr>\n",
       "      <th>75%</th>\n",
       "      <td>39.000000</td>\n",
       "      <td>4.000000</td>\n",
       "      <td>44.000000</td>\n",
       "      <td>151.250000</td>\n",
       "      <td>58537.000000</td>\n",
       "      <td>5.261184</td>\n",
       "      <td>1.000000</td>\n",
       "    </tr>\n",
       "    <tr>\n",
       "      <th>max</th>\n",
       "      <td>67.000000</td>\n",
       "      <td>5.000000</td>\n",
       "      <td>62.000000</td>\n",
       "      <td>210.000000</td>\n",
       "      <td>182058.000000</td>\n",
       "      <td>10.871566</td>\n",
       "      <td>1.000000</td>\n",
       "    </tr>\n",
       "  </tbody>\n",
       "</table>\n",
       "</div>"
      ],
      "text/plain": [
       "              Age  num_coffeeBags_per_year  spent_last_week  spent_last_month  \\\n",
       "count  228.000000               228.000000       228.000000        228.000000   \n",
       "mean    31.802632                 2.960526        33.394737        110.407895   \n",
       "std     14.302293                 1.585514        15.697930         53.786536   \n",
       "min     16.000000                 0.000000         0.000000          0.000000   \n",
       "25%     22.000000                 2.000000        25.750000         65.000000   \n",
       "50%     25.000000                 3.000000        37.000000        113.500000   \n",
       "75%     39.000000                 4.000000        44.000000        151.250000   \n",
       "max     67.000000                 5.000000        62.000000        210.000000   \n",
       "\n",
       "              salary    Distance      Online  \n",
       "count     228.000000  228.000000  228.000000  \n",
       "mean    41923.741228    3.428836    0.570175  \n",
       "std     27406.768360    2.153102    0.496140  \n",
       "min      1617.000000    0.010048    0.000000  \n",
       "25%     15911.500000    1.699408    0.000000  \n",
       "50%     40987.500000    3.208673    1.000000  \n",
       "75%     58537.000000    5.261184    1.000000  \n",
       "max    182058.000000   10.871566    1.000000  "
      ]
     },
     "execution_count": 212,
     "metadata": {},
     "output_type": "execute_result"
    }
   ],
   "source": [
    "# Call describe() on Prediction\n",
    "Prediction.describe()"
   ]
  },
  {
   "cell_type": "markdown",
   "metadata": {
    "colab_type": "text",
    "id": "zmN_BPwFDuWO"
   },
   "source": [
    "### 4. Divide the NOPrediction subset into X and y"
   ]
  },
  {
   "cell_type": "code",
   "execution_count": 213,
   "metadata": {
    "colab": {},
    "colab_type": "code",
    "id": "00WtPVYSDuWP"
   },
   "outputs": [
    {
     "data": {
      "text/plain": [
       "Index(['Age', 'Gender', 'num_coffeeBags_per_year', 'spent_last_week',\n",
       "       'spent_last_month', 'salary', 'Distance', 'Online', 'Decision'],\n",
       "      dtype='object')"
      ]
     },
     "execution_count": 213,
     "metadata": {},
     "output_type": "execute_result"
    }
   ],
   "source": [
    "# Check the names of the columns of NOPrediction\n",
    "NOPrediction.columns"
   ]
  },
  {
   "cell_type": "code",
   "execution_count": 214,
   "metadata": {
    "colab": {},
    "colab_type": "code",
    "id": "oPi2gMLfDuWQ"
   },
   "outputs": [],
   "source": [
    "# Let's do our feature selection.\n",
    "# Make a variable called 'features', and a list containing the strings of every column except \"Decision\"\n",
    "features= ['Age', 'Gender', 'num_coffeeBags_per_year', 'spent_last_week',\n",
    "       'spent_last_month', 'salary', 'Distance', 'Online']\n",
    "\n",
    "# Make an explanatory variable called X, and assign it: NoPrediction[features]\n",
    "X=NOPrediction[features]\n",
    "\n",
    "# Make a dependent variable called y, and assign it: NoPrediction.Decision\n",
    "y=NOPrediction.Decision"
   ]
  },
  {
   "cell_type": "markdown",
   "metadata": {
    "colab_type": "text",
    "id": "R-d3XOv8DuWW"
   },
   "source": [
    "### 5. Create dummy variables to deal with categorical inputs\n",
    "One-hot encoding replaces each unique value of a given column with a new column, and puts a 1 in the new column for a given row just if its initial value for the original column matches the new column. Check out [this resource](https://hackernoon.com/what-is-one-hot-encoding-why-and-when-do-you-have-to-use-it-e3c6186d008f) if you haven't seen one-hot-encoding before. \n",
    "\n",
    "**Note**: We will do this before we do our train/test split as to do it after could mean that some categories only end up in the train or test split of our data by chance and this would then lead to different shapes of data for our `X_train` and `X_test` which could/would cause downstream issues when fitting or predicting using a trained model."
   ]
  },
  {
   "cell_type": "code",
   "execution_count": 215,
   "metadata": {
    "colab": {},
    "colab_type": "code",
    "id": "xXHGDZkZDuWW"
   },
   "outputs": [
    {
     "data": {
      "text/html": [
       "<div>\n",
       "<style scoped>\n",
       "    .dataframe tbody tr th:only-of-type {\n",
       "        vertical-align: middle;\n",
       "    }\n",
       "\n",
       "    .dataframe tbody tr th {\n",
       "        vertical-align: top;\n",
       "    }\n",
       "\n",
       "    .dataframe thead th {\n",
       "        text-align: right;\n",
       "    }\n",
       "</style>\n",
       "<table border=\"1\" class=\"dataframe\">\n",
       "  <thead>\n",
       "    <tr style=\"text-align: right;\">\n",
       "      <th></th>\n",
       "      <th>Age</th>\n",
       "      <th>num_coffeeBags_per_year</th>\n",
       "      <th>spent_last_week</th>\n",
       "      <th>spent_last_month</th>\n",
       "      <th>salary</th>\n",
       "      <th>Distance</th>\n",
       "      <th>Online</th>\n",
       "      <th>Gender_Female</th>\n",
       "      <th>Gender_Male</th>\n",
       "    </tr>\n",
       "  </thead>\n",
       "  <tbody>\n",
       "    <tr>\n",
       "      <th>0</th>\n",
       "      <td>36</td>\n",
       "      <td>0</td>\n",
       "      <td>24</td>\n",
       "      <td>73</td>\n",
       "      <td>42789</td>\n",
       "      <td>0.003168</td>\n",
       "      <td>0</td>\n",
       "      <td>1</td>\n",
       "      <td>0</td>\n",
       "    </tr>\n",
       "    <tr>\n",
       "      <th>2</th>\n",
       "      <td>24</td>\n",
       "      <td>0</td>\n",
       "      <td>39</td>\n",
       "      <td>119</td>\n",
       "      <td>30563</td>\n",
       "      <td>0.916005</td>\n",
       "      <td>1</td>\n",
       "      <td>0</td>\n",
       "      <td>1</td>\n",
       "    </tr>\n",
       "    <tr>\n",
       "      <th>4</th>\n",
       "      <td>24</td>\n",
       "      <td>0</td>\n",
       "      <td>20</td>\n",
       "      <td>36</td>\n",
       "      <td>14244</td>\n",
       "      <td>0.965881</td>\n",
       "      <td>0</td>\n",
       "      <td>1</td>\n",
       "      <td>0</td>\n",
       "    </tr>\n",
       "    <tr>\n",
       "      <th>5</th>\n",
       "      <td>20</td>\n",
       "      <td>0</td>\n",
       "      <td>23</td>\n",
       "      <td>28</td>\n",
       "      <td>14293</td>\n",
       "      <td>1.036346</td>\n",
       "      <td>1</td>\n",
       "      <td>1</td>\n",
       "      <td>0</td>\n",
       "    </tr>\n",
       "    <tr>\n",
       "      <th>6</th>\n",
       "      <td>34</td>\n",
       "      <td>0</td>\n",
       "      <td>55</td>\n",
       "      <td>202</td>\n",
       "      <td>91035</td>\n",
       "      <td>1.134851</td>\n",
       "      <td>0</td>\n",
       "      <td>1</td>\n",
       "      <td>0</td>\n",
       "    </tr>\n",
       "    <tr>\n",
       "      <th>...</th>\n",
       "      <td>...</td>\n",
       "      <td>...</td>\n",
       "      <td>...</td>\n",
       "      <td>...</td>\n",
       "      <td>...</td>\n",
       "      <td>...</td>\n",
       "      <td>...</td>\n",
       "      <td>...</td>\n",
       "      <td>...</td>\n",
       "    </tr>\n",
       "    <tr>\n",
       "      <th>696</th>\n",
       "      <td>29</td>\n",
       "      <td>5</td>\n",
       "      <td>20</td>\n",
       "      <td>74</td>\n",
       "      <td>29799</td>\n",
       "      <td>10.455068</td>\n",
       "      <td>0</td>\n",
       "      <td>1</td>\n",
       "      <td>0</td>\n",
       "    </tr>\n",
       "    <tr>\n",
       "      <th>697</th>\n",
       "      <td>45</td>\n",
       "      <td>5</td>\n",
       "      <td>61</td>\n",
       "      <td>201</td>\n",
       "      <td>80260</td>\n",
       "      <td>10.476341</td>\n",
       "      <td>0</td>\n",
       "      <td>1</td>\n",
       "      <td>0</td>\n",
       "    </tr>\n",
       "    <tr>\n",
       "      <th>698</th>\n",
       "      <td>54</td>\n",
       "      <td>5</td>\n",
       "      <td>44</td>\n",
       "      <td>116</td>\n",
       "      <td>44077</td>\n",
       "      <td>10.693889</td>\n",
       "      <td>1</td>\n",
       "      <td>0</td>\n",
       "      <td>1</td>\n",
       "    </tr>\n",
       "    <tr>\n",
       "      <th>699</th>\n",
       "      <td>63</td>\n",
       "      <td>5</td>\n",
       "      <td>33</td>\n",
       "      <td>117</td>\n",
       "      <td>43081</td>\n",
       "      <td>10.755194</td>\n",
       "      <td>1</td>\n",
       "      <td>0</td>\n",
       "      <td>1</td>\n",
       "    </tr>\n",
       "    <tr>\n",
       "      <th>701</th>\n",
       "      <td>90</td>\n",
       "      <td>5</td>\n",
       "      <td>39</td>\n",
       "      <td>170</td>\n",
       "      <td>15098</td>\n",
       "      <td>10.891566</td>\n",
       "      <td>0</td>\n",
       "      <td>0</td>\n",
       "      <td>1</td>\n",
       "    </tr>\n",
       "  </tbody>\n",
       "</table>\n",
       "<p>474 rows × 9 columns</p>\n",
       "</div>"
      ],
      "text/plain": [
       "     Age  num_coffeeBags_per_year  spent_last_week  spent_last_month  salary  \\\n",
       "0     36                        0               24                73   42789   \n",
       "2     24                        0               39               119   30563   \n",
       "4     24                        0               20                36   14244   \n",
       "5     20                        0               23                28   14293   \n",
       "6     34                        0               55               202   91035   \n",
       "..   ...                      ...              ...               ...     ...   \n",
       "696   29                        5               20                74   29799   \n",
       "697   45                        5               61               201   80260   \n",
       "698   54                        5               44               116   44077   \n",
       "699   63                        5               33               117   43081   \n",
       "701   90                        5               39               170   15098   \n",
       "\n",
       "      Distance  Online  Gender_Female  Gender_Male  \n",
       "0     0.003168       0              1            0  \n",
       "2     0.916005       1              0            1  \n",
       "4     0.965881       0              1            0  \n",
       "5     1.036346       1              1            0  \n",
       "6     1.134851       0              1            0  \n",
       "..         ...     ...            ...          ...  \n",
       "696  10.455068       0              1            0  \n",
       "697  10.476341       0              1            0  \n",
       "698  10.693889       1              0            1  \n",
       "699  10.755194       1              0            1  \n",
       "701  10.891566       0              0            1  \n",
       "\n",
       "[474 rows x 9 columns]"
      ]
     },
     "execution_count": 215,
     "metadata": {},
     "output_type": "execute_result"
    }
   ],
   "source": [
    "# One-hot encode all features in X.\n",
    "pd.get_dummies(X)"
   ]
  },
  {
   "cell_type": "code",
   "execution_count": 216,
   "metadata": {},
   "outputs": [
    {
     "data": {
      "text/html": [
       "<div>\n",
       "<style scoped>\n",
       "    .dataframe tbody tr th:only-of-type {\n",
       "        vertical-align: middle;\n",
       "    }\n",
       "\n",
       "    .dataframe tbody tr th {\n",
       "        vertical-align: top;\n",
       "    }\n",
       "\n",
       "    .dataframe thead th {\n",
       "        text-align: right;\n",
       "    }\n",
       "</style>\n",
       "<table border=\"1\" class=\"dataframe\">\n",
       "  <thead>\n",
       "    <tr style=\"text-align: right;\">\n",
       "      <th></th>\n",
       "      <th>Age</th>\n",
       "      <th>num_coffeeBags_per_year</th>\n",
       "      <th>spent_last_week</th>\n",
       "      <th>spent_last_month</th>\n",
       "      <th>salary</th>\n",
       "      <th>Distance</th>\n",
       "      <th>Online</th>\n",
       "      <th>Gender_Female</th>\n",
       "    </tr>\n",
       "  </thead>\n",
       "  <tbody>\n",
       "    <tr>\n",
       "      <th>0</th>\n",
       "      <td>36</td>\n",
       "      <td>0</td>\n",
       "      <td>24</td>\n",
       "      <td>73</td>\n",
       "      <td>42789</td>\n",
       "      <td>0.003168</td>\n",
       "      <td>0</td>\n",
       "      <td>1</td>\n",
       "    </tr>\n",
       "    <tr>\n",
       "      <th>2</th>\n",
       "      <td>24</td>\n",
       "      <td>0</td>\n",
       "      <td>39</td>\n",
       "      <td>119</td>\n",
       "      <td>30563</td>\n",
       "      <td>0.916005</td>\n",
       "      <td>1</td>\n",
       "      <td>0</td>\n",
       "    </tr>\n",
       "    <tr>\n",
       "      <th>4</th>\n",
       "      <td>24</td>\n",
       "      <td>0</td>\n",
       "      <td>20</td>\n",
       "      <td>36</td>\n",
       "      <td>14244</td>\n",
       "      <td>0.965881</td>\n",
       "      <td>0</td>\n",
       "      <td>1</td>\n",
       "    </tr>\n",
       "    <tr>\n",
       "      <th>5</th>\n",
       "      <td>20</td>\n",
       "      <td>0</td>\n",
       "      <td>23</td>\n",
       "      <td>28</td>\n",
       "      <td>14293</td>\n",
       "      <td>1.036346</td>\n",
       "      <td>1</td>\n",
       "      <td>1</td>\n",
       "    </tr>\n",
       "    <tr>\n",
       "      <th>6</th>\n",
       "      <td>34</td>\n",
       "      <td>0</td>\n",
       "      <td>55</td>\n",
       "      <td>202</td>\n",
       "      <td>91035</td>\n",
       "      <td>1.134851</td>\n",
       "      <td>0</td>\n",
       "      <td>1</td>\n",
       "    </tr>\n",
       "    <tr>\n",
       "      <th>...</th>\n",
       "      <td>...</td>\n",
       "      <td>...</td>\n",
       "      <td>...</td>\n",
       "      <td>...</td>\n",
       "      <td>...</td>\n",
       "      <td>...</td>\n",
       "      <td>...</td>\n",
       "      <td>...</td>\n",
       "    </tr>\n",
       "    <tr>\n",
       "      <th>696</th>\n",
       "      <td>29</td>\n",
       "      <td>5</td>\n",
       "      <td>20</td>\n",
       "      <td>74</td>\n",
       "      <td>29799</td>\n",
       "      <td>10.455068</td>\n",
       "      <td>0</td>\n",
       "      <td>1</td>\n",
       "    </tr>\n",
       "    <tr>\n",
       "      <th>697</th>\n",
       "      <td>45</td>\n",
       "      <td>5</td>\n",
       "      <td>61</td>\n",
       "      <td>201</td>\n",
       "      <td>80260</td>\n",
       "      <td>10.476341</td>\n",
       "      <td>0</td>\n",
       "      <td>1</td>\n",
       "    </tr>\n",
       "    <tr>\n",
       "      <th>698</th>\n",
       "      <td>54</td>\n",
       "      <td>5</td>\n",
       "      <td>44</td>\n",
       "      <td>116</td>\n",
       "      <td>44077</td>\n",
       "      <td>10.693889</td>\n",
       "      <td>1</td>\n",
       "      <td>0</td>\n",
       "    </tr>\n",
       "    <tr>\n",
       "      <th>699</th>\n",
       "      <td>63</td>\n",
       "      <td>5</td>\n",
       "      <td>33</td>\n",
       "      <td>117</td>\n",
       "      <td>43081</td>\n",
       "      <td>10.755194</td>\n",
       "      <td>1</td>\n",
       "      <td>0</td>\n",
       "    </tr>\n",
       "    <tr>\n",
       "      <th>701</th>\n",
       "      <td>90</td>\n",
       "      <td>5</td>\n",
       "      <td>39</td>\n",
       "      <td>170</td>\n",
       "      <td>15098</td>\n",
       "      <td>10.891566</td>\n",
       "      <td>0</td>\n",
       "      <td>0</td>\n",
       "    </tr>\n",
       "  </tbody>\n",
       "</table>\n",
       "<p>474 rows × 8 columns</p>\n",
       "</div>"
      ],
      "text/plain": [
       "     Age  num_coffeeBags_per_year  spent_last_week  spent_last_month  salary  \\\n",
       "0     36                        0               24                73   42789   \n",
       "2     24                        0               39               119   30563   \n",
       "4     24                        0               20                36   14244   \n",
       "5     20                        0               23                28   14293   \n",
       "6     34                        0               55               202   91035   \n",
       "..   ...                      ...              ...               ...     ...   \n",
       "696   29                        5               20                74   29799   \n",
       "697   45                        5               61               201   80260   \n",
       "698   54                        5               44               116   44077   \n",
       "699   63                        5               33               117   43081   \n",
       "701   90                        5               39               170   15098   \n",
       "\n",
       "      Distance  Online  Gender_Female  \n",
       "0     0.003168       0              1  \n",
       "2     0.916005       1              0  \n",
       "4     0.965881       0              1  \n",
       "5     1.036346       1              1  \n",
       "6     1.134851       0              1  \n",
       "..         ...     ...            ...  \n",
       "696  10.455068       0              1  \n",
       "697  10.476341       0              1  \n",
       "698  10.693889       1              0  \n",
       "699  10.755194       1              0  \n",
       "701  10.891566       0              0  \n",
       "\n",
       "[474 rows x 8 columns]"
      ]
     },
     "execution_count": 216,
     "metadata": {},
     "output_type": "execute_result"
    }
   ],
   "source": [
    "X=pd.get_dummies(X).drop('Gender_Male', axis=1)\n",
    "X"
   ]
  },
  {
   "cell_type": "markdown",
   "metadata": {
    "colab_type": "text",
    "id": "Jdn_dHlkDuWS"
   },
   "source": [
    "### 6. Further divide those subsets into train and test subsets for X and y respectively: X_train, X_test, y_train, y_test"
   ]
  },
  {
   "cell_type": "code",
   "execution_count": 217,
   "metadata": {
    "colab": {},
    "colab_type": "code",
    "id": "RqbHQza-DuWT"
   },
   "outputs": [],
   "source": [
    "# Call train_test_split on X, y. Make the test_size = 0.25, and random_state = 246\n",
    "X_train, X_test, y_train, y_test=train_test_split(X, y, test_size=0.25, random_state=246)"
   ]
  },
  {
   "cell_type": "markdown",
   "metadata": {
    "colab_type": "text",
    "id": "nqvyCX-6DuWb"
   },
   "source": [
    "# 3. Modelling\n",
    "It's useful to look at the scikit-learn documentation on decision trees https://scikit-learn.org/stable/modules/tree.html before launching into applying them. If you haven't seen them before, take a look at that link, in particular the section `1.10.5.` "
   ]
  },
  {
   "cell_type": "markdown",
   "metadata": {
    "colab_type": "text",
    "id": "RIm9IN5HDuWc"
   },
   "source": [
    "## Model 1: Entropy model - no max_depth\n",
    "\n",
    "We'll give you a little more guidance here, as the Python is hard to deduce, and scikitlearn takes some getting used to.\n",
    "\n",
    "Theoretically, let's remind ourselves of what's going on with a decision tree implementing an entropy model.\n",
    "\n",
    "Ross Quinlan's **ID3 Algorithm** was one of the first, and one of the most basic, to use entropy as a metric.\n",
    "\n",
    "**Entropy** is a measure of how uncertain we are about which category the data-points fall into at a given point in the tree. The **Information gain** of a specific feature with a threshold (such as 'spent_last_month <= 138.0') is the difference in entropy that exists before and after splitting on that feature; i.e., the information we gain about the categories of the data-points by splitting on that feature and that threshold. \n",
    "\n",
    "Naturally, we want to minimize entropy and maximize information gain. Quinlan's ID3 algorithm is designed to output a tree such that the features at each node, starting from the root, and going all the way down to the leaves, have maximial information gain. We want a tree whose leaves have elements that are *homogeneous*, that is, all of the same category. \n",
    "\n",
    "The first model will be the hardest. Persevere and you'll reap the rewards: you can use almost exactly the same code for the other models. "
   ]
  },
  {
   "cell_type": "code",
   "execution_count": 218,
   "metadata": {
    "colab": {},
    "colab_type": "code",
    "id": "8-gelLDgDuWc"
   },
   "outputs": [
    {
     "data": {
      "text/plain": [
       "DecisionTreeClassifier(criterion='entropy', random_state=1234)"
      ]
     },
     "execution_count": 218,
     "metadata": {},
     "output_type": "execute_result"
    }
   ],
   "source": [
    "# Declare a variable called entr_model and use tree.DecisionTreeClassifier. \n",
    "entr_model = tree.DecisionTreeClassifier(criterion='entropy', random_state=1234)\n",
    "\n",
    "# Call fit() on entr_model\n",
    "entr_model.fit(X_train, y_train)\n",
    "\n",
    "# Call predict() on entr_model with X_test passed to it, and assign the result to a variable y_pred \n",
    "y_pred = entr_model.predict(X_test)\n",
    "\n",
    "# Call Series on our y_pred variable with the following: pd.Series(y_pred)\n",
    "pd.Series(y_pred)\n",
    "\n",
    "# Check out entr_model\n",
    "entr_model"
   ]
  },
  {
   "cell_type": "code",
   "execution_count": 219,
   "metadata": {
    "colab": {},
    "colab_type": "code",
    "id": "S4FbHfWnDuWe"
   },
   "outputs": [
    {
     "data": {
      "image/png": "[encoded data removed]",
      "text/plain": [
       "<Figure size 1440x1440 with 1 Axes>"
      ]
     },
     "metadata": {},
     "output_type": "display_data"
    }
   ],
   "source": [
    "# Now we want to visualize the tree\n",
    "plt.figure(figsize=(20,20));\n",
    "tree.plot_tree(entr_model);\n"
   ]
  },
  {
   "cell_type": "code",
   "execution_count": 220,
   "metadata": {
    "colab": {},
    "colab_type": "code",
    "id": "S4FbHfWnDuWe"
   },
   "outputs": [
    {
     "data": {
      "image/svg+xml": [
       "<?xml version=\"1.0\" encoding=\"UTF-8\" standalone=\"no\"?>\r\n",
       "<!DOCTYPE svg PUBLIC \"-//W3C//DTD SVG 1.1//EN\"\r\n",
       " \"http://www.w3.org/Graphics/SVG/1.1/DTD/svg11.dtd\">\r\n",
       "<!-- Generated by graphviz version 2.38.0 (20140413.2041)\r\n",
       " -->\r\n",
       "<!-- Title: Tree Pages: 1 -->\r\n",
       "<svg width=\"689pt\" height=\"581pt\"\r\n",
       " viewBox=\"0.00 0.00 689.00 581.00\" xmlns=\"http://www.w3.org/2000/svg\" xmlns:xlink=\"http://www.w3.org/1999/xlink\">\r\n",
       "<g id=\"graph0\" class=\"graph\" transform=\"scale(1 1) rotate(0) translate(4 577)\">\r\n",
       "<title>Tree</title>\r\n",
       "<polygon fill=\"white\" stroke=\"none\" points=\"-4,4 -4,-577 685,-577 685,4 -4,4\"/>\r\n",
       "<!-- 0 -->\r\n",
       "<g id=\"node1\" class=\"node\"><title>0</title>\r\n",
       "<polygon fill=\"none\" stroke=\"black\" points=\"375,-573 257,-573 257,-505 375,-505 375,-573\"/>\r\n",
       "<text text-anchor=\"middle\" x=\"316\" y=\"-557.8\" font-family=\"Times New Roman,serif\" font-size=\"14.00\">X[3] &lt;= 138.0</text>\r\n",
       "<text text-anchor=\"middle\" x=\"316\" y=\"-542.8\" font-family=\"Times New Roman,serif\" font-size=\"14.00\">entropy = 0.948</text>\r\n",
       "<text text-anchor=\"middle\" x=\"316\" y=\"-527.8\" font-family=\"Times New Roman,serif\" font-size=\"14.00\">samples = 355</text>\r\n",
       "<text text-anchor=\"middle\" x=\"316\" y=\"-512.8\" font-family=\"Times New Roman,serif\" font-size=\"14.00\">value = [130, 225]</text>\r\n",
       "</g>\r\n",
       "<!-- 1 -->\r\n",
       "<g id=\"node2\" class=\"node\"><title>1</title>\r\n",
       "<polygon fill=\"none\" stroke=\"black\" points=\"311,-469 193,-469 193,-401 311,-401 311,-469\"/>\r\n",
       "<text text-anchor=\"middle\" x=\"252\" y=\"-453.8\" font-family=\"Times New Roman,serif\" font-size=\"14.00\">X[5] &lt;= 3.524</text>\r\n",
       "<text text-anchor=\"middle\" x=\"252\" y=\"-438.8\" font-family=\"Times New Roman,serif\" font-size=\"14.00\">entropy = 0.991</text>\r\n",
       "<text text-anchor=\"middle\" x=\"252\" y=\"-423.8\" font-family=\"Times New Roman,serif\" font-size=\"14.00\">samples = 234</text>\r\n",
       "<text text-anchor=\"middle\" x=\"252\" y=\"-408.8\" font-family=\"Times New Roman,serif\" font-size=\"14.00\">value = [130, 104]</text>\r\n",
       "</g>\r\n",
       "<!-- 0&#45;&gt;1 -->\r\n",
       "<g id=\"edge1\" class=\"edge\"><title>0&#45;&gt;1</title>\r\n",
       "<path fill=\"none\" stroke=\"black\" d=\"M295.221,-504.884C289.8,-496.243 283.887,-486.819 278.223,-477.793\"/>\r\n",
       "<polygon fill=\"black\" stroke=\"black\" points=\"281.173,-475.91 272.894,-469.299 275.244,-479.63 281.173,-475.91\"/>\r\n",
       "<text text-anchor=\"middle\" x=\"267.315\" y=\"-489.969\" font-family=\"Times New Roman,serif\" font-size=\"14.00\">True</text>\r\n",
       "</g>\r\n",
       "<!-- 16 -->\r\n",
       "<g id=\"node17\" class=\"node\"><title>16</title>\r\n",
       "<polygon fill=\"none\" stroke=\"black\" points=\"433,-461.5 329,-461.5 329,-408.5 433,-408.5 433,-461.5\"/>\r\n",
       "<text text-anchor=\"middle\" x=\"381\" y=\"-446.3\" font-family=\"Times New Roman,serif\" font-size=\"14.00\">entropy = 0.0</text>\r\n",
       "<text text-anchor=\"middle\" x=\"381\" y=\"-431.3\" font-family=\"Times New Roman,serif\" font-size=\"14.00\">samples = 121</text>\r\n",
       "<text text-anchor=\"middle\" x=\"381\" y=\"-416.3\" font-family=\"Times New Roman,serif\" font-size=\"14.00\">value = [0, 121]</text>\r\n",
       "</g>\r\n",
       "<!-- 0&#45;&gt;16 -->\r\n",
       "<g id=\"edge16\" class=\"edge\"><title>0&#45;&gt;16</title>\r\n",
       "<path fill=\"none\" stroke=\"black\" d=\"M337.104,-504.884C344.182,-493.776 352.087,-481.372 359.216,-470.184\"/>\r\n",
       "<polygon fill=\"black\" stroke=\"black\" points=\"362.315,-471.834 364.737,-461.52 356.412,-468.072 362.315,-471.834\"/>\r\n",
       "<text text-anchor=\"middle\" x=\"370.145\" y=\"-482.228\" font-family=\"Times New Roman,serif\" font-size=\"14.00\">False</text>\r\n",
       "</g>\r\n",
       "<!-- 2 -->\r\n",
       "<g id=\"node3\" class=\"node\"><title>2</title>\r\n",
       "<polygon fill=\"none\" stroke=\"black\" points=\"216,-365 110,-365 110,-297 216,-297 216,-365\"/>\r\n",
       "<text text-anchor=\"middle\" x=\"163\" y=\"-349.8\" font-family=\"Times New Roman,serif\" font-size=\"14.00\">X[3] &lt;= 24.5</text>\r\n",
       "<text text-anchor=\"middle\" x=\"163\" y=\"-334.8\" font-family=\"Times New Roman,serif\" font-size=\"14.00\">entropy = 0.512</text>\r\n",
       "<text text-anchor=\"middle\" x=\"163\" y=\"-319.8\" font-family=\"Times New Roman,serif\" font-size=\"14.00\">samples = 79</text>\r\n",
       "<text text-anchor=\"middle\" x=\"163\" y=\"-304.8\" font-family=\"Times New Roman,serif\" font-size=\"14.00\">value = [9, 70]</text>\r\n",
       "</g>\r\n",
       "<!-- 1&#45;&gt;2 -->\r\n",
       "<g id=\"edge2\" class=\"edge\"><title>1&#45;&gt;2</title>\r\n",
       "<path fill=\"none\" stroke=\"black\" d=\"M223.104,-400.884C215.332,-391.976 206.833,-382.235 198.737,-372.957\"/>\r\n",
       "<polygon fill=\"black\" stroke=\"black\" points=\"201.267,-370.533 192.055,-365.299 195.993,-375.135 201.267,-370.533\"/>\r\n",
       "</g>\r\n",
       "<!-- 7 -->\r\n",
       "<g id=\"node8\" class=\"node\"><title>7</title>\r\n",
       "<polygon fill=\"none\" stroke=\"black\" points=\"396.5,-365 285.5,-365 285.5,-297 396.5,-297 396.5,-365\"/>\r\n",
       "<text text-anchor=\"middle\" x=\"341\" y=\"-349.8\" font-family=\"Times New Roman,serif\" font-size=\"14.00\">X[3] &lt;= 101.0</text>\r\n",
       "<text text-anchor=\"middle\" x=\"341\" y=\"-334.8\" font-family=\"Times New Roman,serif\" font-size=\"14.00\">entropy = 0.759</text>\r\n",
       "<text text-anchor=\"middle\" x=\"341\" y=\"-319.8\" font-family=\"Times New Roman,serif\" font-size=\"14.00\">samples = 155</text>\r\n",
       "<text text-anchor=\"middle\" x=\"341\" y=\"-304.8\" font-family=\"Times New Roman,serif\" font-size=\"14.00\">value = [121, 34]</text>\r\n",
       "</g>\r\n",
       "<!-- 1&#45;&gt;7 -->\r\n",
       "<g id=\"edge7\" class=\"edge\"><title>1&#45;&gt;7</title>\r\n",
       "<path fill=\"none\" stroke=\"black\" d=\"M280.896,-400.884C288.668,-391.976 297.167,-382.235 305.263,-372.957\"/>\r\n",
       "<polygon fill=\"black\" stroke=\"black\" points=\"308.007,-375.135 311.945,-365.299 302.733,-370.533 308.007,-375.135\"/>\r\n",
       "</g>\r\n",
       "<!-- 3 -->\r\n",
       "<g id=\"node4\" class=\"node\"><title>3</title>\r\n",
       "<polygon fill=\"none\" stroke=\"black\" points=\"92,-253.5 0,-253.5 0,-200.5 92,-200.5 92,-253.5\"/>\r\n",
       "<text text-anchor=\"middle\" x=\"46\" y=\"-238.3\" font-family=\"Times New Roman,serif\" font-size=\"14.00\">entropy = 0.0</text>\r\n",
       "<text text-anchor=\"middle\" x=\"46\" y=\"-223.3\" font-family=\"Times New Roman,serif\" font-size=\"14.00\">samples = 8</text>\r\n",
       "<text text-anchor=\"middle\" x=\"46\" y=\"-208.3\" font-family=\"Times New Roman,serif\" font-size=\"14.00\">value = [8, 0]</text>\r\n",
       "</g>\r\n",
       "<!-- 2&#45;&gt;3 -->\r\n",
       "<g id=\"edge3\" class=\"edge\"><title>2&#45;&gt;3</title>\r\n",
       "<path fill=\"none\" stroke=\"black\" d=\"M125.013,-296.884C111.515,-285.116 96.3485,-271.894 82.9391,-260.203\"/>\r\n",
       "<polygon fill=\"black\" stroke=\"black\" points=\"85.1106,-257.453 75.2729,-253.52 80.5106,-262.73 85.1106,-257.453\"/>\r\n",
       "</g>\r\n",
       "<!-- 4 -->\r\n",
       "<g id=\"node5\" class=\"node\"><title>4</title>\r\n",
       "<polygon fill=\"none\" stroke=\"black\" points=\"216,-261 110,-261 110,-193 216,-193 216,-261\"/>\r\n",
       "<text text-anchor=\"middle\" x=\"163\" y=\"-245.8\" font-family=\"Times New Roman,serif\" font-size=\"14.00\">X[0] &lt;= 59.0</text>\r\n",
       "<text text-anchor=\"middle\" x=\"163\" y=\"-230.8\" font-family=\"Times New Roman,serif\" font-size=\"14.00\">entropy = 0.107</text>\r\n",
       "<text text-anchor=\"middle\" x=\"163\" y=\"-215.8\" font-family=\"Times New Roman,serif\" font-size=\"14.00\">samples = 71</text>\r\n",
       "<text text-anchor=\"middle\" x=\"163\" y=\"-200.8\" font-family=\"Times New Roman,serif\" font-size=\"14.00\">value = [1, 70]</text>\r\n",
       "</g>\r\n",
       "<!-- 2&#45;&gt;4 -->\r\n",
       "<g id=\"edge4\" class=\"edge\"><title>2&#45;&gt;4</title>\r\n",
       "<path fill=\"none\" stroke=\"black\" d=\"M163,-296.884C163,-288.778 163,-279.982 163,-271.472\"/>\r\n",
       "<polygon fill=\"black\" stroke=\"black\" points=\"166.5,-271.299 163,-261.299 159.5,-271.299 166.5,-271.299\"/>\r\n",
       "</g>\r\n",
       "<!-- 5 -->\r\n",
       "<g id=\"node6\" class=\"node\"><title>5</title>\r\n",
       "<polygon fill=\"none\" stroke=\"black\" points=\"99,-149.5 1,-149.5 1,-96.5 99,-96.5 99,-149.5\"/>\r\n",
       "<text text-anchor=\"middle\" x=\"50\" y=\"-134.3\" font-family=\"Times New Roman,serif\" font-size=\"14.00\">entropy = 0.0</text>\r\n",
       "<text text-anchor=\"middle\" x=\"50\" y=\"-119.3\" font-family=\"Times New Roman,serif\" font-size=\"14.00\">samples = 70</text>\r\n",
       "<text text-anchor=\"middle\" x=\"50\" y=\"-104.3\" font-family=\"Times New Roman,serif\" font-size=\"14.00\">value = [0, 70]</text>\r\n",
       "</g>\r\n",
       "<!-- 4&#45;&gt;5 -->\r\n",
       "<g id=\"edge5\" class=\"edge\"><title>4&#45;&gt;5</title>\r\n",
       "<path fill=\"none\" stroke=\"black\" d=\"M126.312,-192.884C113.397,-181.226 98.9009,-168.141 86.0398,-156.532\"/>\r\n",
       "<polygon fill=\"black\" stroke=\"black\" points=\"88.0404,-153.622 78.2721,-149.52 83.35,-158.819 88.0404,-153.622\"/>\r\n",
       "</g>\r\n",
       "<!-- 6 -->\r\n",
       "<g id=\"node7\" class=\"node\"><title>6</title>\r\n",
       "<polygon fill=\"none\" stroke=\"black\" points=\"209,-149.5 117,-149.5 117,-96.5 209,-96.5 209,-149.5\"/>\r\n",
       "<text text-anchor=\"middle\" x=\"163\" y=\"-134.3\" font-family=\"Times New Roman,serif\" font-size=\"14.00\">entropy = 0.0</text>\r\n",
       "<text text-anchor=\"middle\" x=\"163\" y=\"-119.3\" font-family=\"Times New Roman,serif\" font-size=\"14.00\">samples = 1</text>\r\n",
       "<text text-anchor=\"middle\" x=\"163\" y=\"-104.3\" font-family=\"Times New Roman,serif\" font-size=\"14.00\">value = [1, 0]</text>\r\n",
       "</g>\r\n",
       "<!-- 4&#45;&gt;6 -->\r\n",
       "<g id=\"edge6\" class=\"edge\"><title>4&#45;&gt;6</title>\r\n",
       "<path fill=\"none\" stroke=\"black\" d=\"M163,-192.884C163,-182.326 163,-170.597 163,-159.854\"/>\r\n",
       "<polygon fill=\"black\" stroke=\"black\" points=\"166.5,-159.52 163,-149.52 159.5,-159.52 166.5,-159.52\"/>\r\n",
       "</g>\r\n",
       "<!-- 8 -->\r\n",
       "<g id=\"node9\" class=\"node\"><title>8</title>\r\n",
       "<polygon fill=\"none\" stroke=\"black\" points=\"394,-261 288,-261 288,-193 394,-193 394,-261\"/>\r\n",
       "<text text-anchor=\"middle\" x=\"341\" y=\"-245.8\" font-family=\"Times New Roman,serif\" font-size=\"14.00\">X[5] &lt;= 4.0</text>\r\n",
       "<text text-anchor=\"middle\" x=\"341\" y=\"-230.8\" font-family=\"Times New Roman,serif\" font-size=\"14.00\">entropy = 0.191</text>\r\n",
       "<text text-anchor=\"middle\" x=\"341\" y=\"-215.8\" font-family=\"Times New Roman,serif\" font-size=\"14.00\">samples = 102</text>\r\n",
       "<text text-anchor=\"middle\" x=\"341\" y=\"-200.8\" font-family=\"Times New Roman,serif\" font-size=\"14.00\">value = [99, 3]</text>\r\n",
       "</g>\r\n",
       "<!-- 7&#45;&gt;8 -->\r\n",
       "<g id=\"edge8\" class=\"edge\"><title>7&#45;&gt;8</title>\r\n",
       "<path fill=\"none\" stroke=\"black\" d=\"M341,-296.884C341,-288.778 341,-279.982 341,-271.472\"/>\r\n",
       "<polygon fill=\"black\" stroke=\"black\" points=\"344.5,-271.299 341,-261.299 337.5,-271.299 344.5,-271.299\"/>\r\n",
       "</g>\r\n",
       "<!-- 13 -->\r\n",
       "<g id=\"node14\" class=\"node\"><title>13</title>\r\n",
       "<polygon fill=\"none\" stroke=\"black\" points=\"569,-261 463,-261 463,-193 569,-193 569,-261\"/>\r\n",
       "<text text-anchor=\"middle\" x=\"516\" y=\"-245.8\" font-family=\"Times New Roman,serif\" font-size=\"14.00\">X[5] &lt;= 7.887</text>\r\n",
       "<text text-anchor=\"middle\" x=\"516\" y=\"-230.8\" font-family=\"Times New Roman,serif\" font-size=\"14.00\">entropy = 0.979</text>\r\n",
       "<text text-anchor=\"middle\" x=\"516\" y=\"-215.8\" font-family=\"Times New Roman,serif\" font-size=\"14.00\">samples = 53</text>\r\n",
       "<text text-anchor=\"middle\" x=\"516\" y=\"-200.8\" font-family=\"Times New Roman,serif\" font-size=\"14.00\">value = [22, 31]</text>\r\n",
       "</g>\r\n",
       "<!-- 7&#45;&gt;13 -->\r\n",
       "<g id=\"edge13\" class=\"edge\"><title>7&#45;&gt;13</title>\r\n",
       "<path fill=\"none\" stroke=\"black\" d=\"M396.852,-297.446C415.073,-286.826 435.409,-274.973 454.05,-264.108\"/>\r\n",
       "<polygon fill=\"black\" stroke=\"black\" points=\"455.887,-267.089 462.764,-259.029 452.362,-261.041 455.887,-267.089\"/>\r\n",
       "</g>\r\n",
       "<!-- 9 -->\r\n",
       "<g id=\"node10\" class=\"node\"><title>9</title>\r\n",
       "<polygon fill=\"none\" stroke=\"black\" points=\"333,-157 227,-157 227,-89 333,-89 333,-157\"/>\r\n",
       "<text text-anchor=\"middle\" x=\"280\" y=\"-141.8\" font-family=\"Times New Roman,serif\" font-size=\"14.00\">X[0] &lt;= 26.5</text>\r\n",
       "<text text-anchor=\"middle\" x=\"280\" y=\"-126.8\" font-family=\"Times New Roman,serif\" font-size=\"14.00\">entropy = 0.985</text>\r\n",
       "<text text-anchor=\"middle\" x=\"280\" y=\"-111.8\" font-family=\"Times New Roman,serif\" font-size=\"14.00\">samples = 7</text>\r\n",
       "<text text-anchor=\"middle\" x=\"280\" y=\"-96.8\" font-family=\"Times New Roman,serif\" font-size=\"14.00\">value = [4, 3]</text>\r\n",
       "</g>\r\n",
       "<!-- 8&#45;&gt;9 -->\r\n",
       "<g id=\"edge9\" class=\"edge\"><title>8&#45;&gt;9</title>\r\n",
       "<path fill=\"none\" stroke=\"black\" d=\"M321.195,-192.884C316.081,-184.332 310.508,-175.013 305.161,-166.072\"/>\r\n",
       "<polygon fill=\"black\" stroke=\"black\" points=\"308.051,-164.085 299.914,-157.299 302.043,-167.678 308.051,-164.085\"/>\r\n",
       "</g>\r\n",
       "<!-- 12 -->\r\n",
       "<g id=\"node13\" class=\"node\"><title>12</title>\r\n",
       "<polygon fill=\"none\" stroke=\"black\" points=\"449,-149.5 351,-149.5 351,-96.5 449,-96.5 449,-149.5\"/>\r\n",
       "<text text-anchor=\"middle\" x=\"400\" y=\"-134.3\" font-family=\"Times New Roman,serif\" font-size=\"14.00\">entropy = 0.0</text>\r\n",
       "<text text-anchor=\"middle\" x=\"400\" y=\"-119.3\" font-family=\"Times New Roman,serif\" font-size=\"14.00\">samples = 95</text>\r\n",
       "<text text-anchor=\"middle\" x=\"400\" y=\"-104.3\" font-family=\"Times New Roman,serif\" font-size=\"14.00\">value = [95, 0]</text>\r\n",
       "</g>\r\n",
       "<!-- 8&#45;&gt;12 -->\r\n",
       "<g id=\"edge12\" class=\"edge\"><title>8&#45;&gt;12</title>\r\n",
       "<path fill=\"none\" stroke=\"black\" d=\"M360.156,-192.884C366.581,-181.776 373.755,-169.372 380.227,-158.184\"/>\r\n",
       "<polygon fill=\"black\" stroke=\"black\" points=\"383.261,-159.929 385.238,-149.52 377.202,-156.424 383.261,-159.929\"/>\r\n",
       "</g>\r\n",
       "<!-- 10 -->\r\n",
       "<g id=\"node11\" class=\"node\"><title>10</title>\r\n",
       "<polygon fill=\"none\" stroke=\"black\" points=\"271,-53 179,-53 179,-0 271,-0 271,-53\"/>\r\n",
       "<text text-anchor=\"middle\" x=\"225\" y=\"-37.8\" font-family=\"Times New Roman,serif\" font-size=\"14.00\">entropy = 0.0</text>\r\n",
       "<text text-anchor=\"middle\" x=\"225\" y=\"-22.8\" font-family=\"Times New Roman,serif\" font-size=\"14.00\">samples = 3</text>\r\n",
       "<text text-anchor=\"middle\" x=\"225\" y=\"-7.8\" font-family=\"Times New Roman,serif\" font-size=\"14.00\">value = [0, 3]</text>\r\n",
       "</g>\r\n",
       "<!-- 9&#45;&gt;10 -->\r\n",
       "<g id=\"edge10\" class=\"edge\"><title>9&#45;&gt;10</title>\r\n",
       "<path fill=\"none\" stroke=\"black\" d=\"M260.764,-88.9485C255.706,-80.2579 250.236,-70.8608 245.133,-62.0917\"/>\r\n",
       "<polygon fill=\"black\" stroke=\"black\" points=\"248.034,-60.1189 239.979,-53.2367 241.984,-63.6401 248.034,-60.1189\"/>\r\n",
       "</g>\r\n",
       "<!-- 11 -->\r\n",
       "<g id=\"node12\" class=\"node\"><title>11</title>\r\n",
       "<polygon fill=\"none\" stroke=\"black\" points=\"381,-53 289,-53 289,-0 381,-0 381,-53\"/>\r\n",
       "<text text-anchor=\"middle\" x=\"335\" y=\"-37.8\" font-family=\"Times New Roman,serif\" font-size=\"14.00\">entropy = 0.0</text>\r\n",
       "<text text-anchor=\"middle\" x=\"335\" y=\"-22.8\" font-family=\"Times New Roman,serif\" font-size=\"14.00\">samples = 4</text>\r\n",
       "<text text-anchor=\"middle\" x=\"335\" y=\"-7.8\" font-family=\"Times New Roman,serif\" font-size=\"14.00\">value = [4, 0]</text>\r\n",
       "</g>\r\n",
       "<!-- 9&#45;&gt;11 -->\r\n",
       "<g id=\"edge11\" class=\"edge\"><title>9&#45;&gt;11</title>\r\n",
       "<path fill=\"none\" stroke=\"black\" d=\"M299.236,-88.9485C304.294,-80.2579 309.764,-70.8608 314.867,-62.0917\"/>\r\n",
       "<polygon fill=\"black\" stroke=\"black\" points=\"318.016,-63.6401 320.021,-53.2367 311.966,-60.1189 318.016,-63.6401\"/>\r\n",
       "</g>\r\n",
       "<!-- 14 -->\r\n",
       "<g id=\"node15\" class=\"node\"><title>14</title>\r\n",
       "<polygon fill=\"none\" stroke=\"black\" points=\"565,-149.5 467,-149.5 467,-96.5 565,-96.5 565,-149.5\"/>\r\n",
       "<text text-anchor=\"middle\" x=\"516\" y=\"-134.3\" font-family=\"Times New Roman,serif\" font-size=\"14.00\">entropy = 0.0</text>\r\n",
       "<text text-anchor=\"middle\" x=\"516\" y=\"-119.3\" font-family=\"Times New Roman,serif\" font-size=\"14.00\">samples = 31</text>\r\n",
       "<text text-anchor=\"middle\" x=\"516\" y=\"-104.3\" font-family=\"Times New Roman,serif\" font-size=\"14.00\">value = [0, 31]</text>\r\n",
       "</g>\r\n",
       "<!-- 13&#45;&gt;14 -->\r\n",
       "<g id=\"edge14\" class=\"edge\"><title>13&#45;&gt;14</title>\r\n",
       "<path fill=\"none\" stroke=\"black\" d=\"M516,-192.884C516,-182.326 516,-170.597 516,-159.854\"/>\r\n",
       "<polygon fill=\"black\" stroke=\"black\" points=\"519.5,-159.52 516,-149.52 512.5,-159.52 519.5,-159.52\"/>\r\n",
       "</g>\r\n",
       "<!-- 15 -->\r\n",
       "<g id=\"node16\" class=\"node\"><title>15</title>\r\n",
       "<polygon fill=\"none\" stroke=\"black\" points=\"681,-149.5 583,-149.5 583,-96.5 681,-96.5 681,-149.5\"/>\r\n",
       "<text text-anchor=\"middle\" x=\"632\" y=\"-134.3\" font-family=\"Times New Roman,serif\" font-size=\"14.00\">entropy = 0.0</text>\r\n",
       "<text text-anchor=\"middle\" x=\"632\" y=\"-119.3\" font-family=\"Times New Roman,serif\" font-size=\"14.00\">samples = 22</text>\r\n",
       "<text text-anchor=\"middle\" x=\"632\" y=\"-104.3\" font-family=\"Times New Roman,serif\" font-size=\"14.00\">value = [22, 0]</text>\r\n",
       "</g>\r\n",
       "<!-- 13&#45;&gt;15 -->\r\n",
       "<g id=\"edge15\" class=\"edge\"><title>13&#45;&gt;15</title>\r\n",
       "<path fill=\"none\" stroke=\"black\" d=\"M553.662,-192.884C567.045,-181.116 582.082,-167.894 595.377,-156.203\"/>\r\n",
       "<polygon fill=\"black\" stroke=\"black\" points=\"597.779,-158.752 602.977,-149.52 593.156,-153.495 597.779,-158.752\"/>\r\n",
       "</g>\r\n",
       "</g>\r\n",
       "</svg>\r\n"
      ],
      "text/plain": [
       "<graphviz.files.Source at 0x225c37782b0>"
      ]
     },
     "execution_count": 220,
     "metadata": {},
     "output_type": "execute_result"
    }
   ],
   "source": [
    "# We can do so with export_graphviz\n",
    "import graphviz\n",
    "data = tree.export_graphviz(entr_model, out_file=None)\n",
    "graph = graphviz.Source(data)\n",
    "graph"
   ]
  },
  {
   "cell_type": "code",
   "execution_count": 221,
   "metadata": {
    "colab": {},
    "colab_type": "code",
    "id": "S4FbHfWnDuWe"
   },
   "outputs": [
    {
     "data": {
      "image/svg+xml": [
       "<?xml version=\"1.0\" encoding=\"UTF-8\" standalone=\"no\"?>\r\n",
       "<!DOCTYPE svg PUBLIC \"-//W3C//DTD SVG 1.1//EN\"\r\n",
       " \"http://www.w3.org/Graphics/SVG/1.1/DTD/svg11.dtd\">\r\n",
       "<!-- Generated by graphviz version 2.38.0 (20140413.2041)\r\n",
       " -->\r\n",
       "<!-- Title: Tree Pages: 1 -->\r\n",
       "<svg width=\"689pt\" height=\"671pt\"\r\n",
       " viewBox=\"0.00 0.00 689.00 671.00\" xmlns=\"http://www.w3.org/2000/svg\" xmlns:xlink=\"http://www.w3.org/1999/xlink\">\r\n",
       "<g id=\"graph0\" class=\"graph\" transform=\"scale(1 1) rotate(0) translate(4 667)\">\r\n",
       "<title>Tree</title>\r\n",
       "<polygon fill=\"white\" stroke=\"none\" points=\"-4,4 -4,-667 685,-667 685,4 -4,4\"/>\r\n",
       "<!-- 0 -->\r\n",
       "<g id=\"node1\" class=\"node\"><title>0</title>\r\n",
       "<polygon fill=\"none\" stroke=\"black\" points=\"375,-663 257,-663 257,-580 375,-580 375,-663\"/>\r\n",
       "<text text-anchor=\"middle\" x=\"316\" y=\"-647.8\" font-family=\"Times New Roman,serif\" font-size=\"14.00\">X[3] &lt;= 138.0</text>\r\n",
       "<text text-anchor=\"middle\" x=\"316\" y=\"-632.8\" font-family=\"Times New Roman,serif\" font-size=\"14.00\">entropy = 0.948</text>\r\n",
       "<text text-anchor=\"middle\" x=\"316\" y=\"-617.8\" font-family=\"Times New Roman,serif\" font-size=\"14.00\">samples = 355</text>\r\n",
       "<text text-anchor=\"middle\" x=\"316\" y=\"-602.8\" font-family=\"Times New Roman,serif\" font-size=\"14.00\">value = [130, 225]</text>\r\n",
       "<text text-anchor=\"middle\" x=\"316\" y=\"-587.8\" font-family=\"Times New Roman,serif\" font-size=\"14.00\">class = YES</text>\r\n",
       "</g>\r\n",
       "<!-- 1 -->\r\n",
       "<g id=\"node2\" class=\"node\"><title>1</title>\r\n",
       "<polygon fill=\"none\" stroke=\"black\" points=\"311,-544 193,-544 193,-461 311,-461 311,-544\"/>\r\n",
       "<text text-anchor=\"middle\" x=\"252\" y=\"-528.8\" font-family=\"Times New Roman,serif\" font-size=\"14.00\">X[5] &lt;= 3.524</text>\r\n",
       "<text text-anchor=\"middle\" x=\"252\" y=\"-513.8\" font-family=\"Times New Roman,serif\" font-size=\"14.00\">entropy = 0.991</text>\r\n",
       "<text text-anchor=\"middle\" x=\"252\" y=\"-498.8\" font-family=\"Times New Roman,serif\" font-size=\"14.00\">samples = 234</text>\r\n",
       "<text text-anchor=\"middle\" x=\"252\" y=\"-483.8\" font-family=\"Times New Roman,serif\" font-size=\"14.00\">value = [130, 104]</text>\r\n",
       "<text text-anchor=\"middle\" x=\"252\" y=\"-468.8\" font-family=\"Times New Roman,serif\" font-size=\"14.00\">class = NO</text>\r\n",
       "</g>\r\n",
       "<!-- 0&#45;&gt;1 -->\r\n",
       "<g id=\"edge1\" class=\"edge\"><title>0&#45;&gt;1</title>\r\n",
       "<path fill=\"none\" stroke=\"black\" d=\"M293.796,-579.907C289.03,-571.195 283.944,-561.897 279.019,-552.893\"/>\r\n",
       "<polygon fill=\"black\" stroke=\"black\" points=\"282.035,-551.114 274.165,-544.021 275.894,-554.474 282.035,-551.114\"/>\r\n",
       "<text text-anchor=\"middle\" x=\"267.14\" y=\"-564.313\" font-family=\"Times New Roman,serif\" font-size=\"14.00\">True</text>\r\n",
       "</g>\r\n",
       "<!-- 16 -->\r\n",
       "<g id=\"node17\" class=\"node\"><title>16</title>\r\n",
       "<polygon fill=\"none\" stroke=\"black\" points=\"433,-536.5 329,-536.5 329,-468.5 433,-468.5 433,-536.5\"/>\r\n",
       "<text text-anchor=\"middle\" x=\"381\" y=\"-521.3\" font-family=\"Times New Roman,serif\" font-size=\"14.00\">entropy = 0.0</text>\r\n",
       "<text text-anchor=\"middle\" x=\"381\" y=\"-506.3\" font-family=\"Times New Roman,serif\" font-size=\"14.00\">samples = 121</text>\r\n",
       "<text text-anchor=\"middle\" x=\"381\" y=\"-491.3\" font-family=\"Times New Roman,serif\" font-size=\"14.00\">value = [0, 121]</text>\r\n",
       "<text text-anchor=\"middle\" x=\"381\" y=\"-476.3\" font-family=\"Times New Roman,serif\" font-size=\"14.00\">class = YES</text>\r\n",
       "</g>\r\n",
       "<!-- 0&#45;&gt;16 -->\r\n",
       "<g id=\"edge16\" class=\"edge\"><title>0&#45;&gt;16</title>\r\n",
       "<path fill=\"none\" stroke=\"black\" d=\"M338.551,-579.907C344.743,-568.763 351.468,-556.658 357.7,-545.439\"/>\r\n",
       "<polygon fill=\"black\" stroke=\"black\" points=\"360.777,-547.108 362.574,-536.667 354.658,-543.709 360.777,-547.108\"/>\r\n",
       "<text text-anchor=\"middle\" x=\"369.442\" y=\"-557.005\" font-family=\"Times New Roman,serif\" font-size=\"14.00\">False</text>\r\n",
       "</g>\r\n",
       "<!-- 2 -->\r\n",
       "<g id=\"node3\" class=\"node\"><title>2</title>\r\n",
       "<polygon fill=\"none\" stroke=\"black\" points=\"216,-425 110,-425 110,-342 216,-342 216,-425\"/>\r\n",
       "<text text-anchor=\"middle\" x=\"163\" y=\"-409.8\" font-family=\"Times New Roman,serif\" font-size=\"14.00\">X[3] &lt;= 24.5</text>\r\n",
       "<text text-anchor=\"middle\" x=\"163\" y=\"-394.8\" font-family=\"Times New Roman,serif\" font-size=\"14.00\">entropy = 0.512</text>\r\n",
       "<text text-anchor=\"middle\" x=\"163\" y=\"-379.8\" font-family=\"Times New Roman,serif\" font-size=\"14.00\">samples = 79</text>\r\n",
       "<text text-anchor=\"middle\" x=\"163\" y=\"-364.8\" font-family=\"Times New Roman,serif\" font-size=\"14.00\">value = [9, 70]</text>\r\n",
       "<text text-anchor=\"middle\" x=\"163\" y=\"-349.8\" font-family=\"Times New Roman,serif\" font-size=\"14.00\">class = YES</text>\r\n",
       "</g>\r\n",
       "<!-- 1&#45;&gt;2 -->\r\n",
       "<g id=\"edge2\" class=\"edge\"><title>1&#45;&gt;2</title>\r\n",
       "<path fill=\"none\" stroke=\"black\" d=\"M221.122,-460.907C214.288,-451.923 206.979,-442.315 199.931,-433.05\"/>\r\n",
       "<polygon fill=\"black\" stroke=\"black\" points=\"202.664,-430.861 193.824,-425.021 197.092,-435.099 202.664,-430.861\"/>\r\n",
       "</g>\r\n",
       "<!-- 7 -->\r\n",
       "<g id=\"node8\" class=\"node\"><title>7</title>\r\n",
       "<polygon fill=\"none\" stroke=\"black\" points=\"396.5,-425 285.5,-425 285.5,-342 396.5,-342 396.5,-425\"/>\r\n",
       "<text text-anchor=\"middle\" x=\"341\" y=\"-409.8\" font-family=\"Times New Roman,serif\" font-size=\"14.00\">X[3] &lt;= 101.0</text>\r\n",
       "<text text-anchor=\"middle\" x=\"341\" y=\"-394.8\" font-family=\"Times New Roman,serif\" font-size=\"14.00\">entropy = 0.759</text>\r\n",
       "<text text-anchor=\"middle\" x=\"341\" y=\"-379.8\" font-family=\"Times New Roman,serif\" font-size=\"14.00\">samples = 155</text>\r\n",
       "<text text-anchor=\"middle\" x=\"341\" y=\"-364.8\" font-family=\"Times New Roman,serif\" font-size=\"14.00\">value = [121, 34]</text>\r\n",
       "<text text-anchor=\"middle\" x=\"341\" y=\"-349.8\" font-family=\"Times New Roman,serif\" font-size=\"14.00\">class = NO</text>\r\n",
       "</g>\r\n",
       "<!-- 1&#45;&gt;7 -->\r\n",
       "<g id=\"edge7\" class=\"edge\"><title>1&#45;&gt;7</title>\r\n",
       "<path fill=\"none\" stroke=\"black\" d=\"M282.878,-460.907C289.712,-451.923 297.021,-442.315 304.069,-433.05\"/>\r\n",
       "<polygon fill=\"black\" stroke=\"black\" points=\"306.908,-435.099 310.176,-425.021 301.336,-430.861 306.908,-435.099\"/>\r\n",
       "</g>\r\n",
       "<!-- 3 -->\r\n",
       "<g id=\"node4\" class=\"node\"><title>3</title>\r\n",
       "<polygon fill=\"none\" stroke=\"black\" points=\"92,-298.5 0,-298.5 0,-230.5 92,-230.5 92,-298.5\"/>\r\n",
       "<text text-anchor=\"middle\" x=\"46\" y=\"-283.3\" font-family=\"Times New Roman,serif\" font-size=\"14.00\">entropy = 0.0</text>\r\n",
       "<text text-anchor=\"middle\" x=\"46\" y=\"-268.3\" font-family=\"Times New Roman,serif\" font-size=\"14.00\">samples = 8</text>\r\n",
       "<text text-anchor=\"middle\" x=\"46\" y=\"-253.3\" font-family=\"Times New Roman,serif\" font-size=\"14.00\">value = [8, 0]</text>\r\n",
       "<text text-anchor=\"middle\" x=\"46\" y=\"-238.3\" font-family=\"Times New Roman,serif\" font-size=\"14.00\">class = NO</text>\r\n",
       "</g>\r\n",
       "<!-- 2&#45;&gt;3 -->\r\n",
       "<g id=\"edge3\" class=\"edge\"><title>2&#45;&gt;3</title>\r\n",
       "<path fill=\"none\" stroke=\"black\" d=\"M122.407,-341.907C110.711,-330.211 97.9573,-317.457 86.2797,-305.78\"/>\r\n",
       "<polygon fill=\"black\" stroke=\"black\" points=\"88.7129,-303.263 79.1669,-298.667 83.7632,-308.213 88.7129,-303.263\"/>\r\n",
       "</g>\r\n",
       "<!-- 4 -->\r\n",
       "<g id=\"node5\" class=\"node\"><title>4</title>\r\n",
       "<polygon fill=\"none\" stroke=\"black\" points=\"216,-306 110,-306 110,-223 216,-223 216,-306\"/>\r\n",
       "<text text-anchor=\"middle\" x=\"163\" y=\"-290.8\" font-family=\"Times New Roman,serif\" font-size=\"14.00\">X[0] &lt;= 59.0</text>\r\n",
       "<text text-anchor=\"middle\" x=\"163\" y=\"-275.8\" font-family=\"Times New Roman,serif\" font-size=\"14.00\">entropy = 0.107</text>\r\n",
       "<text text-anchor=\"middle\" x=\"163\" y=\"-260.8\" font-family=\"Times New Roman,serif\" font-size=\"14.00\">samples = 71</text>\r\n",
       "<text text-anchor=\"middle\" x=\"163\" y=\"-245.8\" font-family=\"Times New Roman,serif\" font-size=\"14.00\">value = [1, 70]</text>\r\n",
       "<text text-anchor=\"middle\" x=\"163\" y=\"-230.8\" font-family=\"Times New Roman,serif\" font-size=\"14.00\">class = YES</text>\r\n",
       "</g>\r\n",
       "<!-- 2&#45;&gt;4 -->\r\n",
       "<g id=\"edge4\" class=\"edge\"><title>2&#45;&gt;4</title>\r\n",
       "<path fill=\"none\" stroke=\"black\" d=\"M163,-341.907C163,-333.649 163,-324.864 163,-316.302\"/>\r\n",
       "<polygon fill=\"black\" stroke=\"black\" points=\"166.5,-316.021 163,-306.021 159.5,-316.021 166.5,-316.021\"/>\r\n",
       "</g>\r\n",
       "<!-- 5 -->\r\n",
       "<g id=\"node6\" class=\"node\"><title>5</title>\r\n",
       "<polygon fill=\"none\" stroke=\"black\" points=\"99,-179.5 1,-179.5 1,-111.5 99,-111.5 99,-179.5\"/>\r\n",
       "<text text-anchor=\"middle\" x=\"50\" y=\"-164.3\" font-family=\"Times New Roman,serif\" font-size=\"14.00\">entropy = 0.0</text>\r\n",
       "<text text-anchor=\"middle\" x=\"50\" y=\"-149.3\" font-family=\"Times New Roman,serif\" font-size=\"14.00\">samples = 70</text>\r\n",
       "<text text-anchor=\"middle\" x=\"50\" y=\"-134.3\" font-family=\"Times New Roman,serif\" font-size=\"14.00\">value = [0, 70]</text>\r\n",
       "<text text-anchor=\"middle\" x=\"50\" y=\"-119.3\" font-family=\"Times New Roman,serif\" font-size=\"14.00\">class = YES</text>\r\n",
       "</g>\r\n",
       "<!-- 4&#45;&gt;5 -->\r\n",
       "<g id=\"edge5\" class=\"edge\"><title>4&#45;&gt;5</title>\r\n",
       "<path fill=\"none\" stroke=\"black\" d=\"M123.795,-222.907C112.605,-211.321 100.413,-198.698 89.2221,-187.111\"/>\r\n",
       "<polygon fill=\"black\" stroke=\"black\" points=\"91.4976,-184.428 82.033,-179.667 86.4626,-189.291 91.4976,-184.428\"/>\r\n",
       "</g>\r\n",
       "<!-- 6 -->\r\n",
       "<g id=\"node7\" class=\"node\"><title>6</title>\r\n",
       "<polygon fill=\"none\" stroke=\"black\" points=\"209,-179.5 117,-179.5 117,-111.5 209,-111.5 209,-179.5\"/>\r\n",
       "<text text-anchor=\"middle\" x=\"163\" y=\"-164.3\" font-family=\"Times New Roman,serif\" font-size=\"14.00\">entropy = 0.0</text>\r\n",
       "<text text-anchor=\"middle\" x=\"163\" y=\"-149.3\" font-family=\"Times New Roman,serif\" font-size=\"14.00\">samples = 1</text>\r\n",
       "<text text-anchor=\"middle\" x=\"163\" y=\"-134.3\" font-family=\"Times New Roman,serif\" font-size=\"14.00\">value = [1, 0]</text>\r\n",
       "<text text-anchor=\"middle\" x=\"163\" y=\"-119.3\" font-family=\"Times New Roman,serif\" font-size=\"14.00\">class = NO</text>\r\n",
       "</g>\r\n",
       "<!-- 4&#45;&gt;6 -->\r\n",
       "<g id=\"edge6\" class=\"edge\"><title>4&#45;&gt;6</title>\r\n",
       "<path fill=\"none\" stroke=\"black\" d=\"M163,-222.907C163,-212.204 163,-200.615 163,-189.776\"/>\r\n",
       "<polygon fill=\"black\" stroke=\"black\" points=\"166.5,-189.667 163,-179.667 159.5,-189.667 166.5,-189.667\"/>\r\n",
       "</g>\r\n",
       "<!-- 8 -->\r\n",
       "<g id=\"node9\" class=\"node\"><title>8</title>\r\n",
       "<polygon fill=\"none\" stroke=\"black\" points=\"394,-306 288,-306 288,-223 394,-223 394,-306\"/>\r\n",
       "<text text-anchor=\"middle\" x=\"341\" y=\"-290.8\" font-family=\"Times New Roman,serif\" font-size=\"14.00\">X[5] &lt;= 4.0</text>\r\n",
       "<text text-anchor=\"middle\" x=\"341\" y=\"-275.8\" font-family=\"Times New Roman,serif\" font-size=\"14.00\">entropy = 0.191</text>\r\n",
       "<text text-anchor=\"middle\" x=\"341\" y=\"-260.8\" font-family=\"Times New Roman,serif\" font-size=\"14.00\">samples = 102</text>\r\n",
       "<text text-anchor=\"middle\" x=\"341\" y=\"-245.8\" font-family=\"Times New Roman,serif\" font-size=\"14.00\">value = [99, 3]</text>\r\n",
       "<text text-anchor=\"middle\" x=\"341\" y=\"-230.8\" font-family=\"Times New Roman,serif\" font-size=\"14.00\">class = NO</text>\r\n",
       "</g>\r\n",
       "<!-- 7&#45;&gt;8 -->\r\n",
       "<g id=\"edge8\" class=\"edge\"><title>7&#45;&gt;8</title>\r\n",
       "<path fill=\"none\" stroke=\"black\" d=\"M341,-341.907C341,-333.649 341,-324.864 341,-316.302\"/>\r\n",
       "<polygon fill=\"black\" stroke=\"black\" points=\"344.5,-316.021 341,-306.021 337.5,-316.021 344.5,-316.021\"/>\r\n",
       "</g>\r\n",
       "<!-- 13 -->\r\n",
       "<g id=\"node14\" class=\"node\"><title>13</title>\r\n",
       "<polygon fill=\"none\" stroke=\"black\" points=\"569,-306 463,-306 463,-223 569,-223 569,-306\"/>\r\n",
       "<text text-anchor=\"middle\" x=\"516\" y=\"-290.8\" font-family=\"Times New Roman,serif\" font-size=\"14.00\">X[5] &lt;= 7.887</text>\r\n",
       "<text text-anchor=\"middle\" x=\"516\" y=\"-275.8\" font-family=\"Times New Roman,serif\" font-size=\"14.00\">entropy = 0.979</text>\r\n",
       "<text text-anchor=\"middle\" x=\"516\" y=\"-260.8\" font-family=\"Times New Roman,serif\" font-size=\"14.00\">samples = 53</text>\r\n",
       "<text text-anchor=\"middle\" x=\"516\" y=\"-245.8\" font-family=\"Times New Roman,serif\" font-size=\"14.00\">value = [22, 31]</text>\r\n",
       "<text text-anchor=\"middle\" x=\"516\" y=\"-230.8\" font-family=\"Times New Roman,serif\" font-size=\"14.00\">class = YES</text>\r\n",
       "</g>\r\n",
       "<!-- 7&#45;&gt;13 -->\r\n",
       "<g id=\"edge13\" class=\"edge\"><title>7&#45;&gt;13</title>\r\n",
       "<path fill=\"none\" stroke=\"black\" d=\"M396.852,-345.159C415.155,-332.922 435.593,-319.258 454.303,-306.749\"/>\r\n",
       "<polygon fill=\"black\" stroke=\"black\" points=\"456.396,-309.56 462.764,-301.092 452.505,-303.741 456.396,-309.56\"/>\r\n",
       "</g>\r\n",
       "<!-- 9 -->\r\n",
       "<g id=\"node10\" class=\"node\"><title>9</title>\r\n",
       "<polygon fill=\"none\" stroke=\"black\" points=\"333,-187 227,-187 227,-104 333,-104 333,-187\"/>\r\n",
       "<text text-anchor=\"middle\" x=\"280\" y=\"-171.8\" font-family=\"Times New Roman,serif\" font-size=\"14.00\">X[0] &lt;= 26.5</text>\r\n",
       "<text text-anchor=\"middle\" x=\"280\" y=\"-156.8\" font-family=\"Times New Roman,serif\" font-size=\"14.00\">entropy = 0.985</text>\r\n",
       "<text text-anchor=\"middle\" x=\"280\" y=\"-141.8\" font-family=\"Times New Roman,serif\" font-size=\"14.00\">samples = 7</text>\r\n",
       "<text text-anchor=\"middle\" x=\"280\" y=\"-126.8\" font-family=\"Times New Roman,serif\" font-size=\"14.00\">value = [4, 3]</text>\r\n",
       "<text text-anchor=\"middle\" x=\"280\" y=\"-111.8\" font-family=\"Times New Roman,serif\" font-size=\"14.00\">class = NO</text>\r\n",
       "</g>\r\n",
       "<!-- 8&#45;&gt;9 -->\r\n",
       "<g id=\"edge9\" class=\"edge\"><title>8&#45;&gt;9</title>\r\n",
       "<path fill=\"none\" stroke=\"black\" d=\"M319.836,-222.907C315.294,-214.195 310.446,-204.897 305.752,-195.893\"/>\r\n",
       "<polygon fill=\"black\" stroke=\"black\" points=\"308.853,-194.27 301.126,-187.021 302.646,-197.506 308.853,-194.27\"/>\r\n",
       "</g>\r\n",
       "<!-- 12 -->\r\n",
       "<g id=\"node13\" class=\"node\"><title>12</title>\r\n",
       "<polygon fill=\"none\" stroke=\"black\" points=\"449,-179.5 351,-179.5 351,-111.5 449,-111.5 449,-179.5\"/>\r\n",
       "<text text-anchor=\"middle\" x=\"400\" y=\"-164.3\" font-family=\"Times New Roman,serif\" font-size=\"14.00\">entropy = 0.0</text>\r\n",
       "<text text-anchor=\"middle\" x=\"400\" y=\"-149.3\" font-family=\"Times New Roman,serif\" font-size=\"14.00\">samples = 95</text>\r\n",
       "<text text-anchor=\"middle\" x=\"400\" y=\"-134.3\" font-family=\"Times New Roman,serif\" font-size=\"14.00\">value = [95, 0]</text>\r\n",
       "<text text-anchor=\"middle\" x=\"400\" y=\"-119.3\" font-family=\"Times New Roman,serif\" font-size=\"14.00\">class = NO</text>\r\n",
       "</g>\r\n",
       "<!-- 8&#45;&gt;12 -->\r\n",
       "<g id=\"edge12\" class=\"edge\"><title>8&#45;&gt;12</title>\r\n",
       "<path fill=\"none\" stroke=\"black\" d=\"M361.47,-222.907C367.034,-211.873 373.073,-199.898 378.683,-188.773\"/>\r\n",
       "<polygon fill=\"black\" stroke=\"black\" points=\"381.897,-190.172 383.275,-179.667 375.647,-187.02 381.897,-190.172\"/>\r\n",
       "</g>\r\n",
       "<!-- 10 -->\r\n",
       "<g id=\"node11\" class=\"node\"><title>10</title>\r\n",
       "<polygon fill=\"none\" stroke=\"black\" points=\"271,-68 179,-68 179,-0 271,-0 271,-68\"/>\r\n",
       "<text text-anchor=\"middle\" x=\"225\" y=\"-52.8\" font-family=\"Times New Roman,serif\" font-size=\"14.00\">entropy = 0.0</text>\r\n",
       "<text text-anchor=\"middle\" x=\"225\" y=\"-37.8\" font-family=\"Times New Roman,serif\" font-size=\"14.00\">samples = 3</text>\r\n",
       "<text text-anchor=\"middle\" x=\"225\" y=\"-22.8\" font-family=\"Times New Roman,serif\" font-size=\"14.00\">value = [0, 3]</text>\r\n",
       "<text text-anchor=\"middle\" x=\"225\" y=\"-7.8\" font-family=\"Times New Roman,serif\" font-size=\"14.00\">class = YES</text>\r\n",
       "</g>\r\n",
       "<!-- 9&#45;&gt;10 -->\r\n",
       "<g id=\"edge10\" class=\"edge\"><title>9&#45;&gt;10</title>\r\n",
       "<path fill=\"none\" stroke=\"black\" d=\"M259.52,-103.726C255.214,-95.1527 250.661,-86.0891 246.325,-77.4555\"/>\r\n",
       "<polygon fill=\"black\" stroke=\"black\" points=\"249.342,-75.6647 241.726,-68.2996 243.087,-78.8067 249.342,-75.6647\"/>\r\n",
       "</g>\r\n",
       "<!-- 11 -->\r\n",
       "<g id=\"node12\" class=\"node\"><title>11</title>\r\n",
       "<polygon fill=\"none\" stroke=\"black\" points=\"381,-68 289,-68 289,-0 381,-0 381,-68\"/>\r\n",
       "<text text-anchor=\"middle\" x=\"335\" y=\"-52.8\" font-family=\"Times New Roman,serif\" font-size=\"14.00\">entropy = 0.0</text>\r\n",
       "<text text-anchor=\"middle\" x=\"335\" y=\"-37.8\" font-family=\"Times New Roman,serif\" font-size=\"14.00\">samples = 4</text>\r\n",
       "<text text-anchor=\"middle\" x=\"335\" y=\"-22.8\" font-family=\"Times New Roman,serif\" font-size=\"14.00\">value = [4, 0]</text>\r\n",
       "<text text-anchor=\"middle\" x=\"335\" y=\"-7.8\" font-family=\"Times New Roman,serif\" font-size=\"14.00\">class = NO</text>\r\n",
       "</g>\r\n",
       "<!-- 9&#45;&gt;11 -->\r\n",
       "<g id=\"edge11\" class=\"edge\"><title>9&#45;&gt;11</title>\r\n",
       "<path fill=\"none\" stroke=\"black\" d=\"M300.48,-103.726C304.786,-95.1527 309.339,-86.0891 313.675,-77.4555\"/>\r\n",
       "<polygon fill=\"black\" stroke=\"black\" points=\"316.913,-78.8067 318.274,-68.2996 310.658,-75.6647 316.913,-78.8067\"/>\r\n",
       "</g>\r\n",
       "<!-- 14 -->\r\n",
       "<g id=\"node15\" class=\"node\"><title>14</title>\r\n",
       "<polygon fill=\"none\" stroke=\"black\" points=\"565,-179.5 467,-179.5 467,-111.5 565,-111.5 565,-179.5\"/>\r\n",
       "<text text-anchor=\"middle\" x=\"516\" y=\"-164.3\" font-family=\"Times New Roman,serif\" font-size=\"14.00\">entropy = 0.0</text>\r\n",
       "<text text-anchor=\"middle\" x=\"516\" y=\"-149.3\" font-family=\"Times New Roman,serif\" font-size=\"14.00\">samples = 31</text>\r\n",
       "<text text-anchor=\"middle\" x=\"516\" y=\"-134.3\" font-family=\"Times New Roman,serif\" font-size=\"14.00\">value = [0, 31]</text>\r\n",
       "<text text-anchor=\"middle\" x=\"516\" y=\"-119.3\" font-family=\"Times New Roman,serif\" font-size=\"14.00\">class = YES</text>\r\n",
       "</g>\r\n",
       "<!-- 13&#45;&gt;14 -->\r\n",
       "<g id=\"edge14\" class=\"edge\"><title>13&#45;&gt;14</title>\r\n",
       "<path fill=\"none\" stroke=\"black\" d=\"M516,-222.907C516,-212.204 516,-200.615 516,-189.776\"/>\r\n",
       "<polygon fill=\"black\" stroke=\"black\" points=\"519.5,-189.667 516,-179.667 512.5,-189.667 519.5,-189.667\"/>\r\n",
       "</g>\r\n",
       "<!-- 15 -->\r\n",
       "<g id=\"node16\" class=\"node\"><title>15</title>\r\n",
       "<polygon fill=\"none\" stroke=\"black\" points=\"681,-179.5 583,-179.5 583,-111.5 681,-111.5 681,-179.5\"/>\r\n",
       "<text text-anchor=\"middle\" x=\"632\" y=\"-164.3\" font-family=\"Times New Roman,serif\" font-size=\"14.00\">entropy = 0.0</text>\r\n",
       "<text text-anchor=\"middle\" x=\"632\" y=\"-149.3\" font-family=\"Times New Roman,serif\" font-size=\"14.00\">samples = 22</text>\r\n",
       "<text text-anchor=\"middle\" x=\"632\" y=\"-134.3\" font-family=\"Times New Roman,serif\" font-size=\"14.00\">value = [22, 0]</text>\r\n",
       "<text text-anchor=\"middle\" x=\"632\" y=\"-119.3\" font-family=\"Times New Roman,serif\" font-size=\"14.00\">class = NO</text>\r\n",
       "</g>\r\n",
       "<!-- 13&#45;&gt;15 -->\r\n",
       "<g id=\"edge15\" class=\"edge\"><title>13&#45;&gt;15</title>\r\n",
       "<path fill=\"none\" stroke=\"black\" d=\"M556.246,-222.907C567.842,-211.211 580.487,-198.457 592.065,-186.78\"/>\r\n",
       "<polygon fill=\"black\" stroke=\"black\" points=\"594.561,-189.233 599.117,-179.667 589.59,-184.304 594.561,-189.233\"/>\r\n",
       "</g>\r\n",
       "</g>\r\n",
       "</svg>\r\n"
      ],
      "text/plain": [
       "<graphviz.files.Source at 0x225c222d190>"
      ]
     },
     "execution_count": 221,
     "metadata": {},
     "output_type": "execute_result"
    }
   ],
   "source": [
    "# Alternatively for class_names use entr_model.classes_\n",
    "data = tree.export_graphviz(entr_model, out_file=None,\n",
    "                           class_names=entr_model.classes_)\n",
    "graph = graphviz.Source(data)\n",
    "graph"
   ]
  },
  {
   "cell_type": "markdown",
   "metadata": {
    "colab_type": "text",
    "id": "dFbii4IADuWg"
   },
   "source": [
    "## Model 1: Entropy model - no max_depth: Interpretation and evaluation"
   ]
  },
  {
   "cell_type": "code",
   "execution_count": 222,
   "metadata": {
    "colab": {},
    "colab_type": "code",
    "id": "XRL0klK4DuWh"
   },
   "outputs": [
    {
     "name": "stdout",
     "output_type": "stream",
     "text": [
      "Model Entropy - no max depth\n",
      "Accuracy: 0.9915966386554622\n",
      "Balanced accuracy: 0.9878048780487805\n",
      "Precision score for \"Yes\" 0.9873417721518988\n",
      "Precision score for \"No\" 1.0\n",
      "Recall score for \"Yes\" 1.0\n",
      "Recall score for \"No\" 0.975609756097561\n"
     ]
    }
   ],
   "source": [
    "# Run this block for model evaluation metrics \n",
    "print(\"Model Entropy - no max depth\")\n",
    "print(\"Accuracy:\", metrics.accuracy_score(y_test,y_pred))\n",
    "print(\"Balanced accuracy:\", metrics.balanced_accuracy_score(y_test,y_pred))\n",
    "print('Precision score for \"Yes\"' , metrics.precision_score(y_test,y_pred, pos_label = \"YES\"))\n",
    "print('Precision score for \"No\"' , metrics.precision_score(y_test,y_pred, pos_label = \"NO\"))\n",
    "print('Recall score for \"Yes\"' , metrics.recall_score(y_test,y_pred, pos_label = \"YES\"))\n",
    "print('Recall score for \"No\"' , metrics.recall_score(y_test,y_pred, pos_label = \"NO\"))"
   ]
  },
  {
   "cell_type": "markdown",
   "metadata": {
    "colab_type": "text",
    "id": "icGOPFQ_DuWj"
   },
   "source": [
    "What can you infer from these results? Write your conclusions here:\n",
    "\n",
    "The model looks to be very accurate, at least for this set of data.  Given that and the low sample counts at the deepest part of the tree, I'm concerned that it may be overfit and not generalised, so I would look at how it performs on a new set of data to better understand.  "
   ]
  },
  {
   "cell_type": "markdown",
   "metadata": {
    "colab_type": "text",
    "id": "MHipdpfxDuWk"
   },
   "source": [
    "## Model 2: Gini impurity model - no max_depth\n",
    "\n",
    "Gini impurity, like entropy, is a measure of how well a given feature (and threshold) splits the data into categories.\n",
    "\n",
    "Their equations are similar, but Gini impurity doesn't require logorathmic functions, which can be computationally expensive. "
   ]
  },
  {
   "cell_type": "code",
   "execution_count": 223,
   "metadata": {
    "colab": {},
    "colab_type": "code",
    "id": "FyBljeIpDuWl"
   },
   "outputs": [
    {
     "data": {
      "text/plain": [
       "DecisionTreeClassifier(random_state=1234)"
      ]
     },
     "execution_count": 223,
     "metadata": {},
     "output_type": "execute_result"
    }
   ],
   "source": [
    "# Make a variable called gini_model, and assign it exactly what you assigned entr_model with above, but with the\n",
    "# criterion changed to 'gini'\n",
    "gini_model = tree.DecisionTreeClassifier(criterion='gini', random_state=1234)\n",
    "\n",
    "# Call fit() on the gini_model as you did with the entr_model\n",
    "gini_model.fit(X_train, y_train)\n",
    "\n",
    "# Call predict() on the gini_model as you did with the entr_model \n",
    "y_pred = gini_model.predict(X_test)\n",
    "\n",
    "# Turn y_pred into a series, as before\n",
    "pd.Series(y_pred)\n",
    "\n",
    "# Check out gini_model\n",
    "gini_model"
   ]
  },
  {
   "cell_type": "code",
   "execution_count": 224,
   "metadata": {
    "colab": {},
    "colab_type": "code",
    "id": "d20SMUmgDuWo"
   },
   "outputs": [
    {
     "data": {
      "image/png": "[encoded data removed]",
      "text/plain": [
       "<Figure size 1440x1440 with 1 Axes>"
      ]
     },
     "metadata": {},
     "output_type": "display_data"
    }
   ],
   "source": [
    "# As before, but make the model name gini_model\n",
    "plt.figure(figsize=(20,20));\n",
    "tree.plot_tree(gini_model);"
   ]
  },
  {
   "cell_type": "code",
   "execution_count": 225,
   "metadata": {
    "colab": {},
    "colab_type": "code",
    "id": "d20SMUmgDuWo"
   },
   "outputs": [
    {
     "data": {
      "image/svg+xml": [
       "<?xml version=\"1.0\" encoding=\"UTF-8\" standalone=\"no\"?>\r\n",
       "<!DOCTYPE svg PUBLIC \"-//W3C//DTD SVG 1.1//EN\"\r\n",
       " \"http://www.w3.org/Graphics/SVG/1.1/DTD/svg11.dtd\">\r\n",
       "<!-- Generated by graphviz version 2.38.0 (20140413.2041)\r\n",
       " -->\r\n",
       "<!-- Title: Tree Pages: 1 -->\r\n",
       "<svg width=\"742pt\" height=\"685pt\"\r\n",
       " viewBox=\"0.00 0.00 742.00 685.00\" xmlns=\"http://www.w3.org/2000/svg\" xmlns:xlink=\"http://www.w3.org/1999/xlink\">\r\n",
       "<g id=\"graph0\" class=\"graph\" transform=\"scale(1 1) rotate(0) translate(4 681)\">\r\n",
       "<title>Tree</title>\r\n",
       "<polygon fill=\"white\" stroke=\"none\" points=\"-4,4 -4,-681 738,-681 738,4 -4,4\"/>\r\n",
       "<!-- 0 -->\r\n",
       "<g id=\"node1\" class=\"node\"><title>0</title>\r\n",
       "<polygon fill=\"none\" stroke=\"black\" points=\"452,-677 334,-677 334,-609 452,-609 452,-677\"/>\r\n",
       "<text text-anchor=\"middle\" x=\"393\" y=\"-661.8\" font-family=\"Times New Roman,serif\" font-size=\"14.00\">X[3] &lt;= 100.5</text>\r\n",
       "<text text-anchor=\"middle\" x=\"393\" y=\"-646.8\" font-family=\"Times New Roman,serif\" font-size=\"14.00\">gini = 0.464</text>\r\n",
       "<text text-anchor=\"middle\" x=\"393\" y=\"-631.8\" font-family=\"Times New Roman,serif\" font-size=\"14.00\">samples = 355</text>\r\n",
       "<text text-anchor=\"middle\" x=\"393\" y=\"-616.8\" font-family=\"Times New Roman,serif\" font-size=\"14.00\">value = [130, 225]</text>\r\n",
       "</g>\r\n",
       "<!-- 1 -->\r\n",
       "<g id=\"node2\" class=\"node\"><title>1</title>\r\n",
       "<polygon fill=\"none\" stroke=\"black\" points=\"384.5,-573 273.5,-573 273.5,-505 384.5,-505 384.5,-573\"/>\r\n",
       "<text text-anchor=\"middle\" x=\"329\" y=\"-557.8\" font-family=\"Times New Roman,serif\" font-size=\"14.00\">X[5] &lt;= 3.754</text>\r\n",
       "<text text-anchor=\"middle\" x=\"329\" y=\"-542.8\" font-family=\"Times New Roman,serif\" font-size=\"14.00\">gini = 0.411</text>\r\n",
       "<text text-anchor=\"middle\" x=\"329\" y=\"-527.8\" font-family=\"Times New Roman,serif\" font-size=\"14.00\">samples = 152</text>\r\n",
       "<text text-anchor=\"middle\" x=\"329\" y=\"-512.8\" font-family=\"Times New Roman,serif\" font-size=\"14.00\">value = [108, 44]</text>\r\n",
       "</g>\r\n",
       "<!-- 0&#45;&gt;1 -->\r\n",
       "<g id=\"edge1\" class=\"edge\"><title>0&#45;&gt;1</title>\r\n",
       "<path fill=\"none\" stroke=\"black\" d=\"M372.221,-608.884C366.8,-600.243 360.887,-590.819 355.223,-581.793\"/>\r\n",
       "<polygon fill=\"black\" stroke=\"black\" points=\"358.173,-579.91 349.894,-573.299 352.244,-583.63 358.173,-579.91\"/>\r\n",
       "<text text-anchor=\"middle\" x=\"344.315\" y=\"-593.969\" font-family=\"Times New Roman,serif\" font-size=\"14.00\">True</text>\r\n",
       "</g>\r\n",
       "<!-- 16 -->\r\n",
       "<g id=\"node17\" class=\"node\"><title>16</title>\r\n",
       "<polygon fill=\"none\" stroke=\"black\" points=\"513.5,-573 402.5,-573 402.5,-505 513.5,-505 513.5,-573\"/>\r\n",
       "<text text-anchor=\"middle\" x=\"458\" y=\"-557.8\" font-family=\"Times New Roman,serif\" font-size=\"14.00\">X[5] &lt;= 8.047</text>\r\n",
       "<text text-anchor=\"middle\" x=\"458\" y=\"-542.8\" font-family=\"Times New Roman,serif\" font-size=\"14.00\">gini = 0.193</text>\r\n",
       "<text text-anchor=\"middle\" x=\"458\" y=\"-527.8\" font-family=\"Times New Roman,serif\" font-size=\"14.00\">samples = 203</text>\r\n",
       "<text text-anchor=\"middle\" x=\"458\" y=\"-512.8\" font-family=\"Times New Roman,serif\" font-size=\"14.00\">value = [22, 181]</text>\r\n",
       "</g>\r\n",
       "<!-- 0&#45;&gt;16 -->\r\n",
       "<g id=\"edge16\" class=\"edge\"><title>0&#45;&gt;16</title>\r\n",
       "<path fill=\"none\" stroke=\"black\" d=\"M414.104,-608.884C419.61,-600.243 425.615,-590.819 431.367,-581.793\"/>\r\n",
       "<polygon fill=\"black\" stroke=\"black\" points=\"434.357,-583.614 436.78,-573.299 428.454,-579.852 434.357,-583.614\"/>\r\n",
       "<text text-anchor=\"middle\" x=\"442.188\" y=\"-594.007\" font-family=\"Times New Roman,serif\" font-size=\"14.00\">False</text>\r\n",
       "</g>\r\n",
       "<!-- 2 -->\r\n",
       "<g id=\"node3\" class=\"node\"><title>2</title>\r\n",
       "<polygon fill=\"none\" stroke=\"black\" points=\"265,-469 161,-469 161,-401 265,-401 265,-469\"/>\r\n",
       "<text text-anchor=\"middle\" x=\"213\" y=\"-453.8\" font-family=\"Times New Roman,serif\" font-size=\"14.00\">X[3] &lt;= 24.5</text>\r\n",
       "<text text-anchor=\"middle\" x=\"213\" y=\"-438.8\" font-family=\"Times New Roman,serif\" font-size=\"14.00\">gini = 0.324</text>\r\n",
       "<text text-anchor=\"middle\" x=\"213\" y=\"-423.8\" font-family=\"Times New Roman,serif\" font-size=\"14.00\">samples = 54</text>\r\n",
       "<text text-anchor=\"middle\" x=\"213\" y=\"-408.8\" font-family=\"Times New Roman,serif\" font-size=\"14.00\">value = [11, 43]</text>\r\n",
       "</g>\r\n",
       "<!-- 1&#45;&gt;2 -->\r\n",
       "<g id=\"edge2\" class=\"edge\"><title>1&#45;&gt;2</title>\r\n",
       "<path fill=\"none\" stroke=\"black\" d=\"M291.338,-504.884C280.904,-495.709 269.465,-485.65 258.63,-476.123\"/>\r\n",
       "<polygon fill=\"black\" stroke=\"black\" points=\"260.691,-473.274 250.87,-469.299 256.068,-478.531 260.691,-473.274\"/>\r\n",
       "</g>\r\n",
       "<!-- 11 -->\r\n",
       "<g id=\"node12\" class=\"node\"><title>11</title>\r\n",
       "<polygon fill=\"none\" stroke=\"black\" points=\"381,-469 283,-469 283,-401 381,-401 381,-469\"/>\r\n",
       "<text text-anchor=\"middle\" x=\"332\" y=\"-453.8\" font-family=\"Times New Roman,serif\" font-size=\"14.00\">X[5] &lt;= 4.0</text>\r\n",
       "<text text-anchor=\"middle\" x=\"332\" y=\"-438.8\" font-family=\"Times New Roman,serif\" font-size=\"14.00\">gini = 0.02</text>\r\n",
       "<text text-anchor=\"middle\" x=\"332\" y=\"-423.8\" font-family=\"Times New Roman,serif\" font-size=\"14.00\">samples = 98</text>\r\n",
       "<text text-anchor=\"middle\" x=\"332\" y=\"-408.8\" font-family=\"Times New Roman,serif\" font-size=\"14.00\">value = [97, 1]</text>\r\n",
       "</g>\r\n",
       "<!-- 1&#45;&gt;11 -->\r\n",
       "<g id=\"edge11\" class=\"edge\"><title>1&#45;&gt;11</title>\r\n",
       "<path fill=\"none\" stroke=\"black\" d=\"M329.974,-504.884C330.212,-496.778 330.471,-487.982 330.721,-479.472\"/>\r\n",
       "<polygon fill=\"black\" stroke=\"black\" points=\"334.225,-479.398 331.021,-469.299 327.228,-479.192 334.225,-479.398\"/>\r\n",
       "</g>\r\n",
       "<!-- 3 -->\r\n",
       "<g id=\"node4\" class=\"node\"><title>3</title>\r\n",
       "<polygon fill=\"none\" stroke=\"black\" points=\"148.5,-357.5 57.5,-357.5 57.5,-304.5 148.5,-304.5 148.5,-357.5\"/>\r\n",
       "<text text-anchor=\"middle\" x=\"103\" y=\"-342.3\" font-family=\"Times New Roman,serif\" font-size=\"14.00\">gini = 0.0</text>\r\n",
       "<text text-anchor=\"middle\" x=\"103\" y=\"-327.3\" font-family=\"Times New Roman,serif\" font-size=\"14.00\">samples = 8</text>\r\n",
       "<text text-anchor=\"middle\" x=\"103\" y=\"-312.3\" font-family=\"Times New Roman,serif\" font-size=\"14.00\">value = [8, 0]</text>\r\n",
       "</g>\r\n",
       "<!-- 2&#45;&gt;3 -->\r\n",
       "<g id=\"edge3\" class=\"edge\"><title>2&#45;&gt;3</title>\r\n",
       "<path fill=\"none\" stroke=\"black\" d=\"M177.286,-400.884C164.714,-389.226 150.603,-376.141 138.083,-364.532\"/>\r\n",
       "<polygon fill=\"black\" stroke=\"black\" points=\"140.234,-361.753 130.521,-357.52 135.474,-366.886 140.234,-361.753\"/>\r\n",
       "</g>\r\n",
       "<!-- 4 -->\r\n",
       "<g id=\"node5\" class=\"node\"><title>4</title>\r\n",
       "<polygon fill=\"none\" stroke=\"black\" points=\"265,-365 167,-365 167,-297 265,-297 265,-365\"/>\r\n",
       "<text text-anchor=\"middle\" x=\"216\" y=\"-349.8\" font-family=\"Times New Roman,serif\" font-size=\"14.00\">X[0] &lt;= 57.5</text>\r\n",
       "<text text-anchor=\"middle\" x=\"216\" y=\"-334.8\" font-family=\"Times New Roman,serif\" font-size=\"14.00\">gini = 0.122</text>\r\n",
       "<text text-anchor=\"middle\" x=\"216\" y=\"-319.8\" font-family=\"Times New Roman,serif\" font-size=\"14.00\">samples = 46</text>\r\n",
       "<text text-anchor=\"middle\" x=\"216\" y=\"-304.8\" font-family=\"Times New Roman,serif\" font-size=\"14.00\">value = [3, 43]</text>\r\n",
       "</g>\r\n",
       "<!-- 2&#45;&gt;4 -->\r\n",
       "<g id=\"edge4\" class=\"edge\"><title>2&#45;&gt;4</title>\r\n",
       "<path fill=\"none\" stroke=\"black\" d=\"M213.974,-400.884C214.212,-392.778 214.471,-383.982 214.721,-375.472\"/>\r\n",
       "<polygon fill=\"black\" stroke=\"black\" points=\"218.225,-375.398 215.021,-365.299 211.228,-375.192 218.225,-375.398\"/>\r\n",
       "</g>\r\n",
       "<!-- 5 -->\r\n",
       "<g id=\"node6\" class=\"node\"><title>5</title>\r\n",
       "<polygon fill=\"none\" stroke=\"black\" points=\"154,-261 56,-261 56,-193 154,-193 154,-261\"/>\r\n",
       "<text text-anchor=\"middle\" x=\"105\" y=\"-245.8\" font-family=\"Times New Roman,serif\" font-size=\"14.00\">X[5] &lt;= 3.298</text>\r\n",
       "<text text-anchor=\"middle\" x=\"105\" y=\"-230.8\" font-family=\"Times New Roman,serif\" font-size=\"14.00\">gini = 0.044</text>\r\n",
       "<text text-anchor=\"middle\" x=\"105\" y=\"-215.8\" font-family=\"Times New Roman,serif\" font-size=\"14.00\">samples = 44</text>\r\n",
       "<text text-anchor=\"middle\" x=\"105\" y=\"-200.8\" font-family=\"Times New Roman,serif\" font-size=\"14.00\">value = [1, 43]</text>\r\n",
       "</g>\r\n",
       "<!-- 4&#45;&gt;5 -->\r\n",
       "<g id=\"edge5\" class=\"edge\"><title>4&#45;&gt;5</title>\r\n",
       "<path fill=\"none\" stroke=\"black\" d=\"M179.961,-296.884C169.977,-287.709 159.031,-277.65 148.663,-268.123\"/>\r\n",
       "<polygon fill=\"black\" stroke=\"black\" points=\"150.969,-265.488 141.238,-261.299 146.233,-270.643 150.969,-265.488\"/>\r\n",
       "</g>\r\n",
       "<!-- 10 -->\r\n",
       "<g id=\"node11\" class=\"node\"><title>10</title>\r\n",
       "<polygon fill=\"none\" stroke=\"black\" points=\"263.5,-253.5 172.5,-253.5 172.5,-200.5 263.5,-200.5 263.5,-253.5\"/>\r\n",
       "<text text-anchor=\"middle\" x=\"218\" y=\"-238.3\" font-family=\"Times New Roman,serif\" font-size=\"14.00\">gini = 0.0</text>\r\n",
       "<text text-anchor=\"middle\" x=\"218\" y=\"-223.3\" font-family=\"Times New Roman,serif\" font-size=\"14.00\">samples = 2</text>\r\n",
       "<text text-anchor=\"middle\" x=\"218\" y=\"-208.3\" font-family=\"Times New Roman,serif\" font-size=\"14.00\">value = [2, 0]</text>\r\n",
       "</g>\r\n",
       "<!-- 4&#45;&gt;10 -->\r\n",
       "<g id=\"edge10\" class=\"edge\"><title>4&#45;&gt;10</title>\r\n",
       "<path fill=\"none\" stroke=\"black\" d=\"M216.649,-296.884C216.859,-286.216 217.091,-274.352 217.304,-263.519\"/>\r\n",
       "<polygon fill=\"black\" stroke=\"black\" points=\"220.803,-263.587 217.5,-253.52 213.804,-263.449 220.803,-263.587\"/>\r\n",
       "</g>\r\n",
       "<!-- 6 -->\r\n",
       "<g id=\"node7\" class=\"node\"><title>6</title>\r\n",
       "<polygon fill=\"none\" stroke=\"black\" points=\"98,-149.5 0,-149.5 0,-96.5 98,-96.5 98,-149.5\"/>\r\n",
       "<text text-anchor=\"middle\" x=\"49\" y=\"-134.3\" font-family=\"Times New Roman,serif\" font-size=\"14.00\">gini = 0.0</text>\r\n",
       "<text text-anchor=\"middle\" x=\"49\" y=\"-119.3\" font-family=\"Times New Roman,serif\" font-size=\"14.00\">samples = 41</text>\r\n",
       "<text text-anchor=\"middle\" x=\"49\" y=\"-104.3\" font-family=\"Times New Roman,serif\" font-size=\"14.00\">value = [0, 41]</text>\r\n",
       "</g>\r\n",
       "<!-- 5&#45;&gt;6 -->\r\n",
       "<g id=\"edge6\" class=\"edge\"><title>5&#45;&gt;6</title>\r\n",
       "<path fill=\"none\" stroke=\"black\" d=\"M86.8184,-192.884C80.7804,-181.886 74.0448,-169.617 67.9503,-158.517\"/>\r\n",
       "<polygon fill=\"black\" stroke=\"black\" points=\"70.8916,-156.601 63.0109,-149.52 64.7556,-159.97 70.8916,-156.601\"/>\r\n",
       "</g>\r\n",
       "<!-- 7 -->\r\n",
       "<g id=\"node8\" class=\"node\"><title>7</title>\r\n",
       "<polygon fill=\"none\" stroke=\"black\" points=\"207.5,-157 116.5,-157 116.5,-89 207.5,-89 207.5,-157\"/>\r\n",
       "<text text-anchor=\"middle\" x=\"162\" y=\"-141.8\" font-family=\"Times New Roman,serif\" font-size=\"14.00\">X[3] &lt;= 59.5</text>\r\n",
       "<text text-anchor=\"middle\" x=\"162\" y=\"-126.8\" font-family=\"Times New Roman,serif\" font-size=\"14.00\">gini = 0.444</text>\r\n",
       "<text text-anchor=\"middle\" x=\"162\" y=\"-111.8\" font-family=\"Times New Roman,serif\" font-size=\"14.00\">samples = 3</text>\r\n",
       "<text text-anchor=\"middle\" x=\"162\" y=\"-96.8\" font-family=\"Times New Roman,serif\" font-size=\"14.00\">value = [1, 2]</text>\r\n",
       "</g>\r\n",
       "<!-- 5&#45;&gt;7 -->\r\n",
       "<g id=\"edge7\" class=\"edge\"><title>5&#45;&gt;7</title>\r\n",
       "<path fill=\"none\" stroke=\"black\" d=\"M123.506,-192.884C128.285,-184.332 133.493,-175.013 138.489,-166.072\"/>\r\n",
       "<polygon fill=\"black\" stroke=\"black\" points=\"141.569,-167.736 143.392,-157.299 135.458,-164.321 141.569,-167.736\"/>\r\n",
       "</g>\r\n",
       "<!-- 8 -->\r\n",
       "<g id=\"node9\" class=\"node\"><title>8</title>\r\n",
       "<polygon fill=\"none\" stroke=\"black\" points=\"152.5,-53 61.5,-53 61.5,-0 152.5,-0 152.5,-53\"/>\r\n",
       "<text text-anchor=\"middle\" x=\"107\" y=\"-37.8\" font-family=\"Times New Roman,serif\" font-size=\"14.00\">gini = 0.0</text>\r\n",
       "<text text-anchor=\"middle\" x=\"107\" y=\"-22.8\" font-family=\"Times New Roman,serif\" font-size=\"14.00\">samples = 1</text>\r\n",
       "<text text-anchor=\"middle\" x=\"107\" y=\"-7.8\" font-family=\"Times New Roman,serif\" font-size=\"14.00\">value = [1, 0]</text>\r\n",
       "</g>\r\n",
       "<!-- 7&#45;&gt;8 -->\r\n",
       "<g id=\"edge8\" class=\"edge\"><title>7&#45;&gt;8</title>\r\n",
       "<path fill=\"none\" stroke=\"black\" d=\"M142.764,-88.9485C137.706,-80.2579 132.236,-70.8608 127.133,-62.0917\"/>\r\n",
       "<polygon fill=\"black\" stroke=\"black\" points=\"130.034,-60.1189 121.979,-53.2367 123.984,-63.6401 130.034,-60.1189\"/>\r\n",
       "</g>\r\n",
       "<!-- 9 -->\r\n",
       "<g id=\"node10\" class=\"node\"><title>9</title>\r\n",
       "<polygon fill=\"none\" stroke=\"black\" points=\"261.5,-53 170.5,-53 170.5,-0 261.5,-0 261.5,-53\"/>\r\n",
       "<text text-anchor=\"middle\" x=\"216\" y=\"-37.8\" font-family=\"Times New Roman,serif\" font-size=\"14.00\">gini = 0.0</text>\r\n",
       "<text text-anchor=\"middle\" x=\"216\" y=\"-22.8\" font-family=\"Times New Roman,serif\" font-size=\"14.00\">samples = 2</text>\r\n",
       "<text text-anchor=\"middle\" x=\"216\" y=\"-7.8\" font-family=\"Times New Roman,serif\" font-size=\"14.00\">value = [0, 2]</text>\r\n",
       "</g>\r\n",
       "<!-- 7&#45;&gt;9 -->\r\n",
       "<g id=\"edge9\" class=\"edge\"><title>7&#45;&gt;9</title>\r\n",
       "<path fill=\"none\" stroke=\"black\" d=\"M180.887,-88.9485C185.853,-80.2579 191.222,-70.8608 196.233,-62.0917\"/>\r\n",
       "<polygon fill=\"black\" stroke=\"black\" points=\"199.371,-63.6557 201.293,-53.2367 193.293,-60.1826 199.371,-63.6557\"/>\r\n",
       "</g>\r\n",
       "<!-- 12 -->\r\n",
       "<g id=\"node13\" class=\"node\"><title>12</title>\r\n",
       "<polygon fill=\"none\" stroke=\"black\" points=\"376.5,-365 285.5,-365 285.5,-297 376.5,-297 376.5,-365\"/>\r\n",
       "<text text-anchor=\"middle\" x=\"331\" y=\"-349.8\" font-family=\"Times New Roman,serif\" font-size=\"14.00\">X[1] &lt;= 2.0</text>\r\n",
       "<text text-anchor=\"middle\" x=\"331\" y=\"-334.8\" font-family=\"Times New Roman,serif\" font-size=\"14.00\">gini = 0.444</text>\r\n",
       "<text text-anchor=\"middle\" x=\"331\" y=\"-319.8\" font-family=\"Times New Roman,serif\" font-size=\"14.00\">samples = 3</text>\r\n",
       "<text text-anchor=\"middle\" x=\"331\" y=\"-304.8\" font-family=\"Times New Roman,serif\" font-size=\"14.00\">value = [2, 1]</text>\r\n",
       "</g>\r\n",
       "<!-- 11&#45;&gt;12 -->\r\n",
       "<g id=\"edge12\" class=\"edge\"><title>11&#45;&gt;12</title>\r\n",
       "<path fill=\"none\" stroke=\"black\" d=\"M331.675,-400.884C331.596,-392.778 331.51,-383.982 331.426,-375.472\"/>\r\n",
       "<polygon fill=\"black\" stroke=\"black\" points=\"334.924,-375.265 331.326,-365.299 327.925,-375.333 334.924,-375.265\"/>\r\n",
       "</g>\r\n",
       "<!-- 15 -->\r\n",
       "<g id=\"node16\" class=\"node\"><title>15</title>\r\n",
       "<polygon fill=\"none\" stroke=\"black\" points=\"493,-357.5 395,-357.5 395,-304.5 493,-304.5 493,-357.5\"/>\r\n",
       "<text text-anchor=\"middle\" x=\"444\" y=\"-342.3\" font-family=\"Times New Roman,serif\" font-size=\"14.00\">gini = 0.0</text>\r\n",
       "<text text-anchor=\"middle\" x=\"444\" y=\"-327.3\" font-family=\"Times New Roman,serif\" font-size=\"14.00\">samples = 95</text>\r\n",
       "<text text-anchor=\"middle\" x=\"444\" y=\"-312.3\" font-family=\"Times New Roman,serif\" font-size=\"14.00\">value = [95, 0]</text>\r\n",
       "</g>\r\n",
       "<!-- 11&#45;&gt;15 -->\r\n",
       "<g id=\"edge15\" class=\"edge\"><title>11&#45;&gt;15</title>\r\n",
       "<path fill=\"none\" stroke=\"black\" d=\"M368.363,-400.884C381.164,-389.226 395.532,-376.141 408.279,-364.532\"/>\r\n",
       "<polygon fill=\"black\" stroke=\"black\" points=\"410.941,-366.841 415.978,-357.52 406.228,-361.666 410.941,-366.841\"/>\r\n",
       "</g>\r\n",
       "<!-- 13 -->\r\n",
       "<g id=\"node14\" class=\"node\"><title>13</title>\r\n",
       "<polygon fill=\"none\" stroke=\"black\" points=\"375.5,-253.5 284.5,-253.5 284.5,-200.5 375.5,-200.5 375.5,-253.5\"/>\r\n",
       "<text text-anchor=\"middle\" x=\"330\" y=\"-238.3\" font-family=\"Times New Roman,serif\" font-size=\"14.00\">gini = 0.0</text>\r\n",
       "<text text-anchor=\"middle\" x=\"330\" y=\"-223.3\" font-family=\"Times New Roman,serif\" font-size=\"14.00\">samples = 2</text>\r\n",
       "<text text-anchor=\"middle\" x=\"330\" y=\"-208.3\" font-family=\"Times New Roman,serif\" font-size=\"14.00\">value = [2, 0]</text>\r\n",
       "</g>\r\n",
       "<!-- 12&#45;&gt;13 -->\r\n",
       "<g id=\"edge13\" class=\"edge\"><title>12&#45;&gt;13</title>\r\n",
       "<path fill=\"none\" stroke=\"black\" d=\"M330.675,-296.884C330.572,-286.326 330.457,-274.597 330.352,-263.854\"/>\r\n",
       "<polygon fill=\"black\" stroke=\"black\" points=\"333.848,-263.485 330.25,-253.52 326.848,-263.554 333.848,-263.485\"/>\r\n",
       "</g>\r\n",
       "<!-- 14 -->\r\n",
       "<g id=\"node15\" class=\"node\"><title>14</title>\r\n",
       "<polygon fill=\"none\" stroke=\"black\" points=\"484.5,-253.5 393.5,-253.5 393.5,-200.5 484.5,-200.5 484.5,-253.5\"/>\r\n",
       "<text text-anchor=\"middle\" x=\"439\" y=\"-238.3\" font-family=\"Times New Roman,serif\" font-size=\"14.00\">gini = 0.0</text>\r\n",
       "<text text-anchor=\"middle\" x=\"439\" y=\"-223.3\" font-family=\"Times New Roman,serif\" font-size=\"14.00\">samples = 1</text>\r\n",
       "<text text-anchor=\"middle\" x=\"439\" y=\"-208.3\" font-family=\"Times New Roman,serif\" font-size=\"14.00\">value = [0, 1]</text>\r\n",
       "</g>\r\n",
       "<!-- 12&#45;&gt;14 -->\r\n",
       "<g id=\"edge14\" class=\"edge\"><title>12&#45;&gt;14</title>\r\n",
       "<path fill=\"none\" stroke=\"black\" d=\"M366.065,-296.884C378.408,-285.226 392.263,-272.141 404.555,-260.532\"/>\r\n",
       "<polygon fill=\"black\" stroke=\"black\" points=\"407.112,-262.931 411.979,-253.52 402.306,-257.842 407.112,-262.931\"/>\r\n",
       "</g>\r\n",
       "<!-- 17 -->\r\n",
       "<g id=\"node18\" class=\"node\"><title>17</title>\r\n",
       "<polygon fill=\"none\" stroke=\"black\" points=\"508,-461.5 404,-461.5 404,-408.5 508,-408.5 508,-461.5\"/>\r\n",
       "<text text-anchor=\"middle\" x=\"456\" y=\"-446.3\" font-family=\"Times New Roman,serif\" font-size=\"14.00\">gini = 0.0</text>\r\n",
       "<text text-anchor=\"middle\" x=\"456\" y=\"-431.3\" font-family=\"Times New Roman,serif\" font-size=\"14.00\">samples = 158</text>\r\n",
       "<text text-anchor=\"middle\" x=\"456\" y=\"-416.3\" font-family=\"Times New Roman,serif\" font-size=\"14.00\">value = [0, 158]</text>\r\n",
       "</g>\r\n",
       "<!-- 16&#45;&gt;17 -->\r\n",
       "<g id=\"edge17\" class=\"edge\"><title>16&#45;&gt;17</title>\r\n",
       "<path fill=\"none\" stroke=\"black\" d=\"M457.351,-504.884C457.141,-494.216 456.909,-482.352 456.696,-471.519\"/>\r\n",
       "<polygon fill=\"black\" stroke=\"black\" points=\"460.196,-471.449 456.5,-461.52 453.197,-471.587 460.196,-471.449\"/>\r\n",
       "</g>\r\n",
       "<!-- 18 -->\r\n",
       "<g id=\"node19\" class=\"node\"><title>18</title>\r\n",
       "<polygon fill=\"none\" stroke=\"black\" points=\"630,-469 526,-469 526,-401 630,-401 630,-469\"/>\r\n",
       "<text text-anchor=\"middle\" x=\"578\" y=\"-453.8\" font-family=\"Times New Roman,serif\" font-size=\"14.00\">X[3] &lt;= 140.5</text>\r\n",
       "<text text-anchor=\"middle\" x=\"578\" y=\"-438.8\" font-family=\"Times New Roman,serif\" font-size=\"14.00\">gini = 0.5</text>\r\n",
       "<text text-anchor=\"middle\" x=\"578\" y=\"-423.8\" font-family=\"Times New Roman,serif\" font-size=\"14.00\">samples = 45</text>\r\n",
       "<text text-anchor=\"middle\" x=\"578\" y=\"-408.8\" font-family=\"Times New Roman,serif\" font-size=\"14.00\">value = [22, 23]</text>\r\n",
       "</g>\r\n",
       "<!-- 16&#45;&gt;18 -->\r\n",
       "<g id=\"edge18\" class=\"edge\"><title>16&#45;&gt;18</title>\r\n",
       "<path fill=\"none\" stroke=\"black\" d=\"M496.961,-504.884C507.859,-495.62 519.818,-485.455 531.123,-475.845\"/>\r\n",
       "<polygon fill=\"black\" stroke=\"black\" points=\"533.472,-478.443 538.824,-469.299 528.938,-473.109 533.472,-478.443\"/>\r\n",
       "</g>\r\n",
       "<!-- 19 -->\r\n",
       "<g id=\"node20\" class=\"node\"><title>19</title>\r\n",
       "<polygon fill=\"none\" stroke=\"black\" points=\"618,-357.5 520,-357.5 520,-304.5 618,-304.5 618,-357.5\"/>\r\n",
       "<text text-anchor=\"middle\" x=\"569\" y=\"-342.3\" font-family=\"Times New Roman,serif\" font-size=\"14.00\">gini = 0.0</text>\r\n",
       "<text text-anchor=\"middle\" x=\"569\" y=\"-327.3\" font-family=\"Times New Roman,serif\" font-size=\"14.00\">samples = 22</text>\r\n",
       "<text text-anchor=\"middle\" x=\"569\" y=\"-312.3\" font-family=\"Times New Roman,serif\" font-size=\"14.00\">value = [22, 0]</text>\r\n",
       "</g>\r\n",
       "<!-- 18&#45;&gt;19 -->\r\n",
       "<g id=\"edge19\" class=\"edge\"><title>18&#45;&gt;19</title>\r\n",
       "<path fill=\"none\" stroke=\"black\" d=\"M575.078,-400.884C574.137,-390.216 573.09,-378.352 572.134,-367.519\"/>\r\n",
       "<polygon fill=\"black\" stroke=\"black\" points=\"575.617,-367.174 571.252,-357.52 568.644,-367.789 575.617,-367.174\"/>\r\n",
       "</g>\r\n",
       "<!-- 20 -->\r\n",
       "<g id=\"node21\" class=\"node\"><title>20</title>\r\n",
       "<polygon fill=\"none\" stroke=\"black\" points=\"734,-357.5 636,-357.5 636,-304.5 734,-304.5 734,-357.5\"/>\r\n",
       "<text text-anchor=\"middle\" x=\"685\" y=\"-342.3\" font-family=\"Times New Roman,serif\" font-size=\"14.00\">gini = 0.0</text>\r\n",
       "<text text-anchor=\"middle\" x=\"685\" y=\"-327.3\" font-family=\"Times New Roman,serif\" font-size=\"14.00\">samples = 23</text>\r\n",
       "<text text-anchor=\"middle\" x=\"685\" y=\"-312.3\" font-family=\"Times New Roman,serif\" font-size=\"14.00\">value = [0, 23]</text>\r\n",
       "</g>\r\n",
       "<!-- 18&#45;&gt;20 -->\r\n",
       "<g id=\"edge20\" class=\"edge\"><title>18&#45;&gt;20</title>\r\n",
       "<path fill=\"none\" stroke=\"black\" d=\"M612.74,-400.884C624.969,-389.226 638.696,-376.141 650.874,-364.532\"/>\r\n",
       "<polygon fill=\"black\" stroke=\"black\" points=\"653.406,-366.953 658.229,-357.52 648.576,-361.887 653.406,-366.953\"/>\r\n",
       "</g>\r\n",
       "</g>\r\n",
       "</svg>\r\n"
      ],
      "text/plain": [
       "<graphviz.files.Source at 0x225c25d2a30>"
      ]
     },
     "execution_count": 225,
     "metadata": {},
     "output_type": "execute_result"
    }
   ],
   "source": [
    "import graphviz\n",
    "data = tree.export_graphviz(gini_model, out_file=None)\n",
    "graph = graphviz.Source(data)\n",
    "graph"
   ]
  },
  {
   "cell_type": "code",
   "execution_count": 226,
   "metadata": {
    "colab": {},
    "colab_type": "code",
    "id": "d20SMUmgDuWo"
   },
   "outputs": [
    {
     "data": {
      "image/svg+xml": [
       "<?xml version=\"1.0\" encoding=\"UTF-8\" standalone=\"no\"?>\r\n",
       "<!DOCTYPE svg PUBLIC \"-//W3C//DTD SVG 1.1//EN\"\r\n",
       " \"http://www.w3.org/Graphics/SVG/1.1/DTD/svg11.dtd\">\r\n",
       "<!-- Generated by graphviz version 2.38.0 (20140413.2041)\r\n",
       " -->\r\n",
       "<!-- Title: Tree Pages: 1 -->\r\n",
       "<svg width=\"742pt\" height=\"790pt\"\r\n",
       " viewBox=\"0.00 0.00 742.00 790.00\" xmlns=\"http://www.w3.org/2000/svg\" xmlns:xlink=\"http://www.w3.org/1999/xlink\">\r\n",
       "<g id=\"graph0\" class=\"graph\" transform=\"scale(1 1) rotate(0) translate(4 786)\">\r\n",
       "<title>Tree</title>\r\n",
       "<polygon fill=\"white\" stroke=\"none\" points=\"-4,4 -4,-786 738,-786 738,4 -4,4\"/>\r\n",
       "<!-- 0 -->\r\n",
       "<g id=\"node1\" class=\"node\"><title>0</title>\r\n",
       "<polygon fill=\"none\" stroke=\"black\" points=\"452,-782 334,-782 334,-699 452,-699 452,-782\"/>\r\n",
       "<text text-anchor=\"middle\" x=\"393\" y=\"-766.8\" font-family=\"Times New Roman,serif\" font-size=\"14.00\">X[3] &lt;= 100.5</text>\r\n",
       "<text text-anchor=\"middle\" x=\"393\" y=\"-751.8\" font-family=\"Times New Roman,serif\" font-size=\"14.00\">gini = 0.464</text>\r\n",
       "<text text-anchor=\"middle\" x=\"393\" y=\"-736.8\" font-family=\"Times New Roman,serif\" font-size=\"14.00\">samples = 355</text>\r\n",
       "<text text-anchor=\"middle\" x=\"393\" y=\"-721.8\" font-family=\"Times New Roman,serif\" font-size=\"14.00\">value = [130, 225]</text>\r\n",
       "<text text-anchor=\"middle\" x=\"393\" y=\"-706.8\" font-family=\"Times New Roman,serif\" font-size=\"14.00\">class = YES</text>\r\n",
       "</g>\r\n",
       "<!-- 1 -->\r\n",
       "<g id=\"node2\" class=\"node\"><title>1</title>\r\n",
       "<polygon fill=\"none\" stroke=\"black\" points=\"384.5,-663 273.5,-663 273.5,-580 384.5,-580 384.5,-663\"/>\r\n",
       "<text text-anchor=\"middle\" x=\"329\" y=\"-647.8\" font-family=\"Times New Roman,serif\" font-size=\"14.00\">X[5] &lt;= 3.754</text>\r\n",
       "<text text-anchor=\"middle\" x=\"329\" y=\"-632.8\" font-family=\"Times New Roman,serif\" font-size=\"14.00\">gini = 0.411</text>\r\n",
       "<text text-anchor=\"middle\" x=\"329\" y=\"-617.8\" font-family=\"Times New Roman,serif\" font-size=\"14.00\">samples = 152</text>\r\n",
       "<text text-anchor=\"middle\" x=\"329\" y=\"-602.8\" font-family=\"Times New Roman,serif\" font-size=\"14.00\">value = [108, 44]</text>\r\n",
       "<text text-anchor=\"middle\" x=\"329\" y=\"-587.8\" font-family=\"Times New Roman,serif\" font-size=\"14.00\">class = NO</text>\r\n",
       "</g>\r\n",
       "<!-- 0&#45;&gt;1 -->\r\n",
       "<g id=\"edge1\" class=\"edge\"><title>0&#45;&gt;1</title>\r\n",
       "<path fill=\"none\" stroke=\"black\" d=\"M370.796,-698.907C366.03,-690.195 360.944,-680.897 356.019,-671.893\"/>\r\n",
       "<polygon fill=\"black\" stroke=\"black\" points=\"359.035,-670.114 351.165,-663.021 352.894,-673.474 359.035,-670.114\"/>\r\n",
       "<text text-anchor=\"middle\" x=\"344.14\" y=\"-683.313\" font-family=\"Times New Roman,serif\" font-size=\"14.00\">True</text>\r\n",
       "</g>\r\n",
       "<!-- 16 -->\r\n",
       "<g id=\"node17\" class=\"node\"><title>16</title>\r\n",
       "<polygon fill=\"none\" stroke=\"black\" points=\"513.5,-663 402.5,-663 402.5,-580 513.5,-580 513.5,-663\"/>\r\n",
       "<text text-anchor=\"middle\" x=\"458\" y=\"-647.8\" font-family=\"Times New Roman,serif\" font-size=\"14.00\">X[5] &lt;= 8.047</text>\r\n",
       "<text text-anchor=\"middle\" x=\"458\" y=\"-632.8\" font-family=\"Times New Roman,serif\" font-size=\"14.00\">gini = 0.193</text>\r\n",
       "<text text-anchor=\"middle\" x=\"458\" y=\"-617.8\" font-family=\"Times New Roman,serif\" font-size=\"14.00\">samples = 203</text>\r\n",
       "<text text-anchor=\"middle\" x=\"458\" y=\"-602.8\" font-family=\"Times New Roman,serif\" font-size=\"14.00\">value = [22, 181]</text>\r\n",
       "<text text-anchor=\"middle\" x=\"458\" y=\"-587.8\" font-family=\"Times New Roman,serif\" font-size=\"14.00\">class = YES</text>\r\n",
       "</g>\r\n",
       "<!-- 0&#45;&gt;16 -->\r\n",
       "<g id=\"edge16\" class=\"edge\"><title>0&#45;&gt;16</title>\r\n",
       "<path fill=\"none\" stroke=\"black\" d=\"M415.551,-698.907C420.391,-690.195 425.557,-680.897 430.559,-671.893\"/>\r\n",
       "<polygon fill=\"black\" stroke=\"black\" points=\"433.692,-673.462 435.488,-663.021 427.572,-670.063 433.692,-673.462\"/>\r\n",
       "<text text-anchor=\"middle\" x=\"442.356\" y=\"-683.359\" font-family=\"Times New Roman,serif\" font-size=\"14.00\">False</text>\r\n",
       "</g>\r\n",
       "<!-- 2 -->\r\n",
       "<g id=\"node3\" class=\"node\"><title>2</title>\r\n",
       "<polygon fill=\"none\" stroke=\"black\" points=\"265,-544 161,-544 161,-461 265,-461 265,-544\"/>\r\n",
       "<text text-anchor=\"middle\" x=\"213\" y=\"-528.8\" font-family=\"Times New Roman,serif\" font-size=\"14.00\">X[3] &lt;= 24.5</text>\r\n",
       "<text text-anchor=\"middle\" x=\"213\" y=\"-513.8\" font-family=\"Times New Roman,serif\" font-size=\"14.00\">gini = 0.324</text>\r\n",
       "<text text-anchor=\"middle\" x=\"213\" y=\"-498.8\" font-family=\"Times New Roman,serif\" font-size=\"14.00\">samples = 54</text>\r\n",
       "<text text-anchor=\"middle\" x=\"213\" y=\"-483.8\" font-family=\"Times New Roman,serif\" font-size=\"14.00\">value = [11, 43]</text>\r\n",
       "<text text-anchor=\"middle\" x=\"213\" y=\"-468.8\" font-family=\"Times New Roman,serif\" font-size=\"14.00\">class = YES</text>\r\n",
       "</g>\r\n",
       "<!-- 1&#45;&gt;2 -->\r\n",
       "<g id=\"edge2\" class=\"edge\"><title>1&#45;&gt;2</title>\r\n",
       "<path fill=\"none\" stroke=\"black\" d=\"M288.754,-579.907C279.577,-570.651 269.743,-560.732 260.301,-551.209\"/>\r\n",
       "<polygon fill=\"black\" stroke=\"black\" points=\"262.701,-548.658 253.174,-544.021 257.73,-553.586 262.701,-548.658\"/>\r\n",
       "</g>\r\n",
       "<!-- 11 -->\r\n",
       "<g id=\"node12\" class=\"node\"><title>11</title>\r\n",
       "<polygon fill=\"none\" stroke=\"black\" points=\"381,-544 283,-544 283,-461 381,-461 381,-544\"/>\r\n",
       "<text text-anchor=\"middle\" x=\"332\" y=\"-528.8\" font-family=\"Times New Roman,serif\" font-size=\"14.00\">X[5] &lt;= 4.0</text>\r\n",
       "<text text-anchor=\"middle\" x=\"332\" y=\"-513.8\" font-family=\"Times New Roman,serif\" font-size=\"14.00\">gini = 0.02</text>\r\n",
       "<text text-anchor=\"middle\" x=\"332\" y=\"-498.8\" font-family=\"Times New Roman,serif\" font-size=\"14.00\">samples = 98</text>\r\n",
       "<text text-anchor=\"middle\" x=\"332\" y=\"-483.8\" font-family=\"Times New Roman,serif\" font-size=\"14.00\">value = [97, 1]</text>\r\n",
       "<text text-anchor=\"middle\" x=\"332\" y=\"-468.8\" font-family=\"Times New Roman,serif\" font-size=\"14.00\">class = NO</text>\r\n",
       "</g>\r\n",
       "<!-- 1&#45;&gt;11 -->\r\n",
       "<g id=\"edge11\" class=\"edge\"><title>1&#45;&gt;11</title>\r\n",
       "<path fill=\"none\" stroke=\"black\" d=\"M330.041,-579.907C330.255,-571.558 330.483,-562.671 330.705,-554.02\"/>\r\n",
       "<polygon fill=\"black\" stroke=\"black\" points=\"334.203,-554.107 330.961,-544.021 327.206,-553.928 334.203,-554.107\"/>\r\n",
       "</g>\r\n",
       "<!-- 3 -->\r\n",
       "<g id=\"node4\" class=\"node\"><title>3</title>\r\n",
       "<polygon fill=\"none\" stroke=\"black\" points=\"148.5,-417.5 57.5,-417.5 57.5,-349.5 148.5,-349.5 148.5,-417.5\"/>\r\n",
       "<text text-anchor=\"middle\" x=\"103\" y=\"-402.3\" font-family=\"Times New Roman,serif\" font-size=\"14.00\">gini = 0.0</text>\r\n",
       "<text text-anchor=\"middle\" x=\"103\" y=\"-387.3\" font-family=\"Times New Roman,serif\" font-size=\"14.00\">samples = 8</text>\r\n",
       "<text text-anchor=\"middle\" x=\"103\" y=\"-372.3\" font-family=\"Times New Roman,serif\" font-size=\"14.00\">value = [8, 0]</text>\r\n",
       "<text text-anchor=\"middle\" x=\"103\" y=\"-357.3\" font-family=\"Times New Roman,serif\" font-size=\"14.00\">class = NO</text>\r\n",
       "</g>\r\n",
       "<!-- 2&#45;&gt;3 -->\r\n",
       "<g id=\"edge3\" class=\"edge\"><title>2&#45;&gt;3</title>\r\n",
       "<path fill=\"none\" stroke=\"black\" d=\"M174.836,-460.907C163.943,-449.321 152.075,-436.698 141.181,-425.111\"/>\r\n",
       "<polygon fill=\"black\" stroke=\"black\" points=\"143.582,-422.555 134.183,-417.667 138.482,-427.35 143.582,-422.555\"/>\r\n",
       "</g>\r\n",
       "<!-- 4 -->\r\n",
       "<g id=\"node5\" class=\"node\"><title>4</title>\r\n",
       "<polygon fill=\"none\" stroke=\"black\" points=\"265,-425 167,-425 167,-342 265,-342 265,-425\"/>\r\n",
       "<text text-anchor=\"middle\" x=\"216\" y=\"-409.8\" font-family=\"Times New Roman,serif\" font-size=\"14.00\">X[0] &lt;= 57.5</text>\r\n",
       "<text text-anchor=\"middle\" x=\"216\" y=\"-394.8\" font-family=\"Times New Roman,serif\" font-size=\"14.00\">gini = 0.122</text>\r\n",
       "<text text-anchor=\"middle\" x=\"216\" y=\"-379.8\" font-family=\"Times New Roman,serif\" font-size=\"14.00\">samples = 46</text>\r\n",
       "<text text-anchor=\"middle\" x=\"216\" y=\"-364.8\" font-family=\"Times New Roman,serif\" font-size=\"14.00\">value = [3, 43]</text>\r\n",
       "<text text-anchor=\"middle\" x=\"216\" y=\"-349.8\" font-family=\"Times New Roman,serif\" font-size=\"14.00\">class = YES</text>\r\n",
       "</g>\r\n",
       "<!-- 2&#45;&gt;4 -->\r\n",
       "<g id=\"edge4\" class=\"edge\"><title>2&#45;&gt;4</title>\r\n",
       "<path fill=\"none\" stroke=\"black\" d=\"M214.041,-460.907C214.255,-452.558 214.483,-443.671 214.705,-435.02\"/>\r\n",
       "<polygon fill=\"black\" stroke=\"black\" points=\"218.203,-435.107 214.961,-425.021 211.206,-434.928 218.203,-435.107\"/>\r\n",
       "</g>\r\n",
       "<!-- 5 -->\r\n",
       "<g id=\"node6\" class=\"node\"><title>5</title>\r\n",
       "<polygon fill=\"none\" stroke=\"black\" points=\"154,-306 56,-306 56,-223 154,-223 154,-306\"/>\r\n",
       "<text text-anchor=\"middle\" x=\"105\" y=\"-290.8\" font-family=\"Times New Roman,serif\" font-size=\"14.00\">X[5] &lt;= 3.298</text>\r\n",
       "<text text-anchor=\"middle\" x=\"105\" y=\"-275.8\" font-family=\"Times New Roman,serif\" font-size=\"14.00\">gini = 0.044</text>\r\n",
       "<text text-anchor=\"middle\" x=\"105\" y=\"-260.8\" font-family=\"Times New Roman,serif\" font-size=\"14.00\">samples = 44</text>\r\n",
       "<text text-anchor=\"middle\" x=\"105\" y=\"-245.8\" font-family=\"Times New Roman,serif\" font-size=\"14.00\">value = [1, 43]</text>\r\n",
       "<text text-anchor=\"middle\" x=\"105\" y=\"-230.8\" font-family=\"Times New Roman,serif\" font-size=\"14.00\">class = YES</text>\r\n",
       "</g>\r\n",
       "<!-- 4&#45;&gt;5 -->\r\n",
       "<g id=\"edge5\" class=\"edge\"><title>4&#45;&gt;5</title>\r\n",
       "<path fill=\"none\" stroke=\"black\" d=\"M177.489,-341.907C168.793,-332.742 159.482,-322.927 150.528,-313.489\"/>\r\n",
       "<polygon fill=\"black\" stroke=\"black\" points=\"152.865,-310.867 143.443,-306.021 147.786,-315.684 152.865,-310.867\"/>\r\n",
       "</g>\r\n",
       "<!-- 10 -->\r\n",
       "<g id=\"node11\" class=\"node\"><title>10</title>\r\n",
       "<polygon fill=\"none\" stroke=\"black\" points=\"263.5,-298.5 172.5,-298.5 172.5,-230.5 263.5,-230.5 263.5,-298.5\"/>\r\n",
       "<text text-anchor=\"middle\" x=\"218\" y=\"-283.3\" font-family=\"Times New Roman,serif\" font-size=\"14.00\">gini = 0.0</text>\r\n",
       "<text text-anchor=\"middle\" x=\"218\" y=\"-268.3\" font-family=\"Times New Roman,serif\" font-size=\"14.00\">samples = 2</text>\r\n",
       "<text text-anchor=\"middle\" x=\"218\" y=\"-253.3\" font-family=\"Times New Roman,serif\" font-size=\"14.00\">value = [2, 0]</text>\r\n",
       "<text text-anchor=\"middle\" x=\"218\" y=\"-238.3\" font-family=\"Times New Roman,serif\" font-size=\"14.00\">class = NO</text>\r\n",
       "</g>\r\n",
       "<!-- 4&#45;&gt;10 -->\r\n",
       "<g id=\"edge10\" class=\"edge\"><title>4&#45;&gt;10</title>\r\n",
       "<path fill=\"none\" stroke=\"black\" d=\"M216.694,-341.907C216.877,-331.204 217.075,-319.615 217.26,-308.776\"/>\r\n",
       "<polygon fill=\"black\" stroke=\"black\" points=\"220.762,-308.725 217.433,-298.667 213.763,-308.606 220.762,-308.725\"/>\r\n",
       "</g>\r\n",
       "<!-- 6 -->\r\n",
       "<g id=\"node7\" class=\"node\"><title>6</title>\r\n",
       "<polygon fill=\"none\" stroke=\"black\" points=\"98,-179.5 0,-179.5 0,-111.5 98,-111.5 98,-179.5\"/>\r\n",
       "<text text-anchor=\"middle\" x=\"49\" y=\"-164.3\" font-family=\"Times New Roman,serif\" font-size=\"14.00\">gini = 0.0</text>\r\n",
       "<text text-anchor=\"middle\" x=\"49\" y=\"-149.3\" font-family=\"Times New Roman,serif\" font-size=\"14.00\">samples = 41</text>\r\n",
       "<text text-anchor=\"middle\" x=\"49\" y=\"-134.3\" font-family=\"Times New Roman,serif\" font-size=\"14.00\">value = [0, 41]</text>\r\n",
       "<text text-anchor=\"middle\" x=\"49\" y=\"-119.3\" font-family=\"Times New Roman,serif\" font-size=\"14.00\">class = YES</text>\r\n",
       "</g>\r\n",
       "<!-- 5&#45;&gt;6 -->\r\n",
       "<g id=\"edge6\" class=\"edge\"><title>5&#45;&gt;6</title>\r\n",
       "<path fill=\"none\" stroke=\"black\" d=\"M85.5711,-222.907C80.2896,-211.873 74.5579,-199.898 69.2331,-188.773\"/>\r\n",
       "<polygon fill=\"black\" stroke=\"black\" points=\"72.3491,-187.176 64.8748,-179.667 66.0351,-190.198 72.3491,-187.176\"/>\r\n",
       "</g>\r\n",
       "<!-- 7 -->\r\n",
       "<g id=\"node8\" class=\"node\"><title>7</title>\r\n",
       "<polygon fill=\"none\" stroke=\"black\" points=\"207.5,-187 116.5,-187 116.5,-104 207.5,-104 207.5,-187\"/>\r\n",
       "<text text-anchor=\"middle\" x=\"162\" y=\"-171.8\" font-family=\"Times New Roman,serif\" font-size=\"14.00\">X[3] &lt;= 59.5</text>\r\n",
       "<text text-anchor=\"middle\" x=\"162\" y=\"-156.8\" font-family=\"Times New Roman,serif\" font-size=\"14.00\">gini = 0.444</text>\r\n",
       "<text text-anchor=\"middle\" x=\"162\" y=\"-141.8\" font-family=\"Times New Roman,serif\" font-size=\"14.00\">samples = 3</text>\r\n",
       "<text text-anchor=\"middle\" x=\"162\" y=\"-126.8\" font-family=\"Times New Roman,serif\" font-size=\"14.00\">value = [1, 2]</text>\r\n",
       "<text text-anchor=\"middle\" x=\"162\" y=\"-111.8\" font-family=\"Times New Roman,serif\" font-size=\"14.00\">class = YES</text>\r\n",
       "</g>\r\n",
       "<!-- 5&#45;&gt;7 -->\r\n",
       "<g id=\"edge7\" class=\"edge\"><title>5&#45;&gt;7</title>\r\n",
       "<path fill=\"none\" stroke=\"black\" d=\"M124.776,-222.907C128.976,-214.286 133.456,-205.09 137.799,-196.175\"/>\r\n",
       "<polygon fill=\"black\" stroke=\"black\" points=\"141.026,-197.544 142.259,-187.021 134.733,-194.478 141.026,-197.544\"/>\r\n",
       "</g>\r\n",
       "<!-- 8 -->\r\n",
       "<g id=\"node9\" class=\"node\"><title>8</title>\r\n",
       "<polygon fill=\"none\" stroke=\"black\" points=\"152.5,-68 61.5,-68 61.5,-0 152.5,-0 152.5,-68\"/>\r\n",
       "<text text-anchor=\"middle\" x=\"107\" y=\"-52.8\" font-family=\"Times New Roman,serif\" font-size=\"14.00\">gini = 0.0</text>\r\n",
       "<text text-anchor=\"middle\" x=\"107\" y=\"-37.8\" font-family=\"Times New Roman,serif\" font-size=\"14.00\">samples = 1</text>\r\n",
       "<text text-anchor=\"middle\" x=\"107\" y=\"-22.8\" font-family=\"Times New Roman,serif\" font-size=\"14.00\">value = [1, 0]</text>\r\n",
       "<text text-anchor=\"middle\" x=\"107\" y=\"-7.8\" font-family=\"Times New Roman,serif\" font-size=\"14.00\">class = NO</text>\r\n",
       "</g>\r\n",
       "<!-- 7&#45;&gt;8 -->\r\n",
       "<g id=\"edge8\" class=\"edge\"><title>7&#45;&gt;8</title>\r\n",
       "<path fill=\"none\" stroke=\"black\" d=\"M141.52,-103.726C137.214,-95.1527 132.661,-86.0891 128.325,-77.4555\"/>\r\n",
       "<polygon fill=\"black\" stroke=\"black\" points=\"131.342,-75.6647 123.726,-68.2996 125.087,-78.8067 131.342,-75.6647\"/>\r\n",
       "</g>\r\n",
       "<!-- 9 -->\r\n",
       "<g id=\"node10\" class=\"node\"><title>9</title>\r\n",
       "<polygon fill=\"none\" stroke=\"black\" points=\"261.5,-68 170.5,-68 170.5,-0 261.5,-0 261.5,-68\"/>\r\n",
       "<text text-anchor=\"middle\" x=\"216\" y=\"-52.8\" font-family=\"Times New Roman,serif\" font-size=\"14.00\">gini = 0.0</text>\r\n",
       "<text text-anchor=\"middle\" x=\"216\" y=\"-37.8\" font-family=\"Times New Roman,serif\" font-size=\"14.00\">samples = 2</text>\r\n",
       "<text text-anchor=\"middle\" x=\"216\" y=\"-22.8\" font-family=\"Times New Roman,serif\" font-size=\"14.00\">value = [0, 2]</text>\r\n",
       "<text text-anchor=\"middle\" x=\"216\" y=\"-7.8\" font-family=\"Times New Roman,serif\" font-size=\"14.00\">class = YES</text>\r\n",
       "</g>\r\n",
       "<!-- 7&#45;&gt;9 -->\r\n",
       "<g id=\"edge9\" class=\"edge\"><title>7&#45;&gt;9</title>\r\n",
       "<path fill=\"none\" stroke=\"black\" d=\"M182.108,-103.726C186.336,-95.1527 190.805,-86.0891 195.063,-77.4555\"/>\r\n",
       "<polygon fill=\"black\" stroke=\"black\" points=\"198.294,-78.8164 199.578,-68.2996 192.016,-75.7203 198.294,-78.8164\"/>\r\n",
       "</g>\r\n",
       "<!-- 12 -->\r\n",
       "<g id=\"node13\" class=\"node\"><title>12</title>\r\n",
       "<polygon fill=\"none\" stroke=\"black\" points=\"376.5,-425 285.5,-425 285.5,-342 376.5,-342 376.5,-425\"/>\r\n",
       "<text text-anchor=\"middle\" x=\"331\" y=\"-409.8\" font-family=\"Times New Roman,serif\" font-size=\"14.00\">X[1] &lt;= 2.0</text>\r\n",
       "<text text-anchor=\"middle\" x=\"331\" y=\"-394.8\" font-family=\"Times New Roman,serif\" font-size=\"14.00\">gini = 0.444</text>\r\n",
       "<text text-anchor=\"middle\" x=\"331\" y=\"-379.8\" font-family=\"Times New Roman,serif\" font-size=\"14.00\">samples = 3</text>\r\n",
       "<text text-anchor=\"middle\" x=\"331\" y=\"-364.8\" font-family=\"Times New Roman,serif\" font-size=\"14.00\">value = [2, 1]</text>\r\n",
       "<text text-anchor=\"middle\" x=\"331\" y=\"-349.8\" font-family=\"Times New Roman,serif\" font-size=\"14.00\">class = NO</text>\r\n",
       "</g>\r\n",
       "<!-- 11&#45;&gt;12 -->\r\n",
       "<g id=\"edge12\" class=\"edge\"><title>11&#45;&gt;12</title>\r\n",
       "<path fill=\"none\" stroke=\"black\" d=\"M331.653,-460.907C331.582,-452.649 331.507,-443.864 331.434,-435.302\"/>\r\n",
       "<polygon fill=\"black\" stroke=\"black\" points=\"334.932,-434.99 331.346,-425.021 327.932,-435.05 334.932,-434.99\"/>\r\n",
       "</g>\r\n",
       "<!-- 15 -->\r\n",
       "<g id=\"node16\" class=\"node\"><title>15</title>\r\n",
       "<polygon fill=\"none\" stroke=\"black\" points=\"493,-417.5 395,-417.5 395,-349.5 493,-349.5 493,-417.5\"/>\r\n",
       "<text text-anchor=\"middle\" x=\"444\" y=\"-402.3\" font-family=\"Times New Roman,serif\" font-size=\"14.00\">gini = 0.0</text>\r\n",
       "<text text-anchor=\"middle\" x=\"444\" y=\"-387.3\" font-family=\"Times New Roman,serif\" font-size=\"14.00\">samples = 95</text>\r\n",
       "<text text-anchor=\"middle\" x=\"444\" y=\"-372.3\" font-family=\"Times New Roman,serif\" font-size=\"14.00\">value = [95, 0]</text>\r\n",
       "<text text-anchor=\"middle\" x=\"444\" y=\"-357.3\" font-family=\"Times New Roman,serif\" font-size=\"14.00\">class = NO</text>\r\n",
       "</g>\r\n",
       "<!-- 11&#45;&gt;15 -->\r\n",
       "<g id=\"edge15\" class=\"edge\"><title>11&#45;&gt;15</title>\r\n",
       "<path fill=\"none\" stroke=\"black\" d=\"M370.858,-460.907C381.949,-449.321 394.033,-436.698 405.125,-425.111\"/>\r\n",
       "<polygon fill=\"black\" stroke=\"black\" points=\"407.864,-427.311 412.25,-417.667 402.807,-422.47 407.864,-427.311\"/>\r\n",
       "</g>\r\n",
       "<!-- 13 -->\r\n",
       "<g id=\"node14\" class=\"node\"><title>13</title>\r\n",
       "<polygon fill=\"none\" stroke=\"black\" points=\"375.5,-298.5 284.5,-298.5 284.5,-230.5 375.5,-230.5 375.5,-298.5\"/>\r\n",
       "<text text-anchor=\"middle\" x=\"330\" y=\"-283.3\" font-family=\"Times New Roman,serif\" font-size=\"14.00\">gini = 0.0</text>\r\n",
       "<text text-anchor=\"middle\" x=\"330\" y=\"-268.3\" font-family=\"Times New Roman,serif\" font-size=\"14.00\">samples = 2</text>\r\n",
       "<text text-anchor=\"middle\" x=\"330\" y=\"-253.3\" font-family=\"Times New Roman,serif\" font-size=\"14.00\">value = [2, 0]</text>\r\n",
       "<text text-anchor=\"middle\" x=\"330\" y=\"-238.3\" font-family=\"Times New Roman,serif\" font-size=\"14.00\">class = NO</text>\r\n",
       "</g>\r\n",
       "<!-- 12&#45;&gt;13 -->\r\n",
       "<g id=\"edge13\" class=\"edge\"><title>12&#45;&gt;13</title>\r\n",
       "<path fill=\"none\" stroke=\"black\" d=\"M330.653,-341.907C330.562,-331.204 330.463,-319.615 330.37,-308.776\"/>\r\n",
       "<polygon fill=\"black\" stroke=\"black\" points=\"333.869,-308.637 330.283,-298.667 326.869,-308.697 333.869,-308.637\"/>\r\n",
       "</g>\r\n",
       "<!-- 14 -->\r\n",
       "<g id=\"node15\" class=\"node\"><title>14</title>\r\n",
       "<polygon fill=\"none\" stroke=\"black\" points=\"484.5,-298.5 393.5,-298.5 393.5,-230.5 484.5,-230.5 484.5,-298.5\"/>\r\n",
       "<text text-anchor=\"middle\" x=\"439\" y=\"-283.3\" font-family=\"Times New Roman,serif\" font-size=\"14.00\">gini = 0.0</text>\r\n",
       "<text text-anchor=\"middle\" x=\"439\" y=\"-268.3\" font-family=\"Times New Roman,serif\" font-size=\"14.00\">samples = 1</text>\r\n",
       "<text text-anchor=\"middle\" x=\"439\" y=\"-253.3\" font-family=\"Times New Roman,serif\" font-size=\"14.00\">value = [0, 1]</text>\r\n",
       "<text text-anchor=\"middle\" x=\"439\" y=\"-238.3\" font-family=\"Times New Roman,serif\" font-size=\"14.00\">class = YES</text>\r\n",
       "</g>\r\n",
       "<!-- 12&#45;&gt;14 -->\r\n",
       "<g id=\"edge14\" class=\"edge\"><title>12&#45;&gt;14</title>\r\n",
       "<path fill=\"none\" stroke=\"black\" d=\"M368.47,-341.907C379.165,-330.321 390.817,-317.698 401.513,-306.111\"/>\r\n",
       "<polygon fill=\"black\" stroke=\"black\" points=\"404.173,-308.389 408.384,-298.667 399.03,-303.641 404.173,-308.389\"/>\r\n",
       "</g>\r\n",
       "<!-- 17 -->\r\n",
       "<g id=\"node18\" class=\"node\"><title>17</title>\r\n",
       "<polygon fill=\"none\" stroke=\"black\" points=\"508,-536.5 404,-536.5 404,-468.5 508,-468.5 508,-536.5\"/>\r\n",
       "<text text-anchor=\"middle\" x=\"456\" y=\"-521.3\" font-family=\"Times New Roman,serif\" font-size=\"14.00\">gini = 0.0</text>\r\n",
       "<text text-anchor=\"middle\" x=\"456\" y=\"-506.3\" font-family=\"Times New Roman,serif\" font-size=\"14.00\">samples = 158</text>\r\n",
       "<text text-anchor=\"middle\" x=\"456\" y=\"-491.3\" font-family=\"Times New Roman,serif\" font-size=\"14.00\">value = [0, 158]</text>\r\n",
       "<text text-anchor=\"middle\" x=\"456\" y=\"-476.3\" font-family=\"Times New Roman,serif\" font-size=\"14.00\">class = YES</text>\r\n",
       "</g>\r\n",
       "<!-- 16&#45;&gt;17 -->\r\n",
       "<g id=\"edge17\" class=\"edge\"><title>16&#45;&gt;17</title>\r\n",
       "<path fill=\"none\" stroke=\"black\" d=\"M457.306,-579.907C457.123,-569.204 456.925,-557.615 456.74,-546.776\"/>\r\n",
       "<polygon fill=\"black\" stroke=\"black\" points=\"460.237,-546.606 456.567,-536.667 453.238,-546.725 460.237,-546.606\"/>\r\n",
       "</g>\r\n",
       "<!-- 18 -->\r\n",
       "<g id=\"node19\" class=\"node\"><title>18</title>\r\n",
       "<polygon fill=\"none\" stroke=\"black\" points=\"630,-544 526,-544 526,-461 630,-461 630,-544\"/>\r\n",
       "<text text-anchor=\"middle\" x=\"578\" y=\"-528.8\" font-family=\"Times New Roman,serif\" font-size=\"14.00\">X[3] &lt;= 140.5</text>\r\n",
       "<text text-anchor=\"middle\" x=\"578\" y=\"-513.8\" font-family=\"Times New Roman,serif\" font-size=\"14.00\">gini = 0.5</text>\r\n",
       "<text text-anchor=\"middle\" x=\"578\" y=\"-498.8\" font-family=\"Times New Roman,serif\" font-size=\"14.00\">samples = 45</text>\r\n",
       "<text text-anchor=\"middle\" x=\"578\" y=\"-483.8\" font-family=\"Times New Roman,serif\" font-size=\"14.00\">value = [22, 23]</text>\r\n",
       "<text text-anchor=\"middle\" x=\"578\" y=\"-468.8\" font-family=\"Times New Roman,serif\" font-size=\"14.00\">class = YES</text>\r\n",
       "</g>\r\n",
       "<!-- 16&#45;&gt;18 -->\r\n",
       "<g id=\"edge18\" class=\"edge\"><title>16&#45;&gt;18</title>\r\n",
       "<path fill=\"none\" stroke=\"black\" d=\"M499.633,-579.907C509.127,-570.651 519.3,-560.732 529.068,-551.209\"/>\r\n",
       "<polygon fill=\"black\" stroke=\"black\" points=\"531.724,-553.508 536.44,-544.021 526.837,-548.496 531.724,-553.508\"/>\r\n",
       "</g>\r\n",
       "<!-- 19 -->\r\n",
       "<g id=\"node20\" class=\"node\"><title>19</title>\r\n",
       "<polygon fill=\"none\" stroke=\"black\" points=\"618,-417.5 520,-417.5 520,-349.5 618,-349.5 618,-417.5\"/>\r\n",
       "<text text-anchor=\"middle\" x=\"569\" y=\"-402.3\" font-family=\"Times New Roman,serif\" font-size=\"14.00\">gini = 0.0</text>\r\n",
       "<text text-anchor=\"middle\" x=\"569\" y=\"-387.3\" font-family=\"Times New Roman,serif\" font-size=\"14.00\">samples = 22</text>\r\n",
       "<text text-anchor=\"middle\" x=\"569\" y=\"-372.3\" font-family=\"Times New Roman,serif\" font-size=\"14.00\">value = [22, 0]</text>\r\n",
       "<text text-anchor=\"middle\" x=\"569\" y=\"-357.3\" font-family=\"Times New Roman,serif\" font-size=\"14.00\">class = NO</text>\r\n",
       "</g>\r\n",
       "<!-- 18&#45;&gt;19 -->\r\n",
       "<g id=\"edge19\" class=\"edge\"><title>18&#45;&gt;19</title>\r\n",
       "<path fill=\"none\" stroke=\"black\" d=\"M574.877,-460.907C574.054,-450.204 573.163,-438.615 572.329,-427.776\"/>\r\n",
       "<polygon fill=\"black\" stroke=\"black\" points=\"575.808,-427.369 571.551,-417.667 568.829,-427.906 575.808,-427.369\"/>\r\n",
       "</g>\r\n",
       "<!-- 20 -->\r\n",
       "<g id=\"node21\" class=\"node\"><title>20</title>\r\n",
       "<polygon fill=\"none\" stroke=\"black\" points=\"734,-417.5 636,-417.5 636,-349.5 734,-349.5 734,-417.5\"/>\r\n",
       "<text text-anchor=\"middle\" x=\"685\" y=\"-402.3\" font-family=\"Times New Roman,serif\" font-size=\"14.00\">gini = 0.0</text>\r\n",
       "<text text-anchor=\"middle\" x=\"685\" y=\"-387.3\" font-family=\"Times New Roman,serif\" font-size=\"14.00\">samples = 23</text>\r\n",
       "<text text-anchor=\"middle\" x=\"685\" y=\"-372.3\" font-family=\"Times New Roman,serif\" font-size=\"14.00\">value = [0, 23]</text>\r\n",
       "<text text-anchor=\"middle\" x=\"685\" y=\"-357.3\" font-family=\"Times New Roman,serif\" font-size=\"14.00\">class = YES</text>\r\n",
       "</g>\r\n",
       "<!-- 18&#45;&gt;20 -->\r\n",
       "<g id=\"edge20\" class=\"edge\"><title>18&#45;&gt;20</title>\r\n",
       "<path fill=\"none\" stroke=\"black\" d=\"M615.123,-460.907C625.719,-449.321 637.264,-436.698 647.86,-425.111\"/>\r\n",
       "<polygon fill=\"black\" stroke=\"black\" points=\"650.502,-427.408 654.668,-417.667 645.336,-422.684 650.502,-427.408\"/>\r\n",
       "</g>\r\n",
       "</g>\r\n",
       "</svg>\r\n"
      ],
      "text/plain": [
       "<graphviz.files.Source at 0x225c260f820>"
      ]
     },
     "execution_count": 226,
     "metadata": {},
     "output_type": "execute_result"
    }
   ],
   "source": [
    "# Alternatively for class_names use gini_model.classes_\n",
    "data = tree.export_graphviz(gini_model, out_file=None,\n",
    "                           class_names=gini_model.classes_)\n",
    "graph = graphviz.Source(data)\n",
    "graph"
   ]
  },
  {
   "cell_type": "code",
   "execution_count": 227,
   "metadata": {
    "colab": {},
    "colab_type": "code",
    "id": "T0RadBy0DuWp"
   },
   "outputs": [
    {
     "name": "stdout",
     "output_type": "stream",
     "text": [
      "Model Gini impurity model\n",
      "Accuracy: 0.9831932773109243\n",
      "Balanced accuracy: 0.9813946216385241\n",
      "Precision score 0.9871794871794872\n",
      "Recall score 0.975609756097561\n"
     ]
    }
   ],
   "source": [
    "# Run this block for model evaluation\n",
    "print(\"Model Gini impurity model\")\n",
    "print(\"Accuracy:\", metrics.accuracy_score(y_test,y_pred))\n",
    "print(\"Balanced accuracy:\", metrics.balanced_accuracy_score(y_test,y_pred))\n",
    "print('Precision score' , metrics.precision_score(y_test,y_pred, pos_label = \"YES\"))\n",
    "print('Recall score' , metrics.recall_score(y_test,y_pred, pos_label = \"NO\"))"
   ]
  },
  {
   "cell_type": "markdown",
   "metadata": {
    "colab_type": "text",
    "id": "LR5LkC_yDuWs"
   },
   "source": [
    "How do the results here compare to the previous model? Write your judgements here: \n",
    "\n",
    "The model looks to be very accurate, at least for this set of data.  Given that and the low sample counts at the deepest part of the tree, I'm concerned that it may be overfit and not generalised, so I would look at how it performs on a new set of data to better understand.  "
   ]
  },
  {
   "cell_type": "markdown",
   "metadata": {
    "colab_type": "text",
    "id": "3PctBjTADuWs"
   },
   "source": [
    "## Model 3: Entropy model - max depth 3\n",
    "We're going to try to limit the depth of our decision tree, using entropy first.  \n",
    "\n",
    "As you know, we need to strike a balance with tree depth. \n",
    "\n",
    "Insufficiently deep, and we're not giving the tree the opportunity to spot the right patterns in the training data.\n",
    "\n",
    "Excessively deep, and we're probably going to make a tree that overfits to the training data, at the cost of very high error on the (hitherto unseen) test data. \n",
    "\n",
    "Sophisticated data scientists use methods like random search with cross-validation to systematically find a good depth for their tree. We'll start with picking 3, and see how that goes. "
   ]
  },
  {
   "cell_type": "code",
   "execution_count": 228,
   "metadata": {
    "colab": {},
    "colab_type": "code",
    "id": "cMiPjWClDuWt"
   },
   "outputs": [
    {
     "data": {
      "text/plain": [
       "DecisionTreeClassifier(criterion='entropy', max_depth=3, random_state=1234)"
      ]
     },
     "execution_count": 228,
     "metadata": {},
     "output_type": "execute_result"
    }
   ],
   "source": [
    "# Made a model as before, but call it entr_model2, and make the max_depth parameter equal to 3. \n",
    "# Execute the fitting, predicting, and Series operations as before\n",
    "entr_model2 = tree.DecisionTreeClassifier(criterion='entropy', max_depth=3, random_state=1234)\n",
    "\n",
    "# Call fit() on entr_model\n",
    "entr_model2.fit(X_train, y_train)\n",
    "\n",
    "# Call predict() on entr_model with X_test passed to it, and assign the result to a variable y_pred \n",
    "y_pred = entr_model2.predict(X_test)\n",
    "\n",
    "# Call Series on our y_pred variable with the following: pd.Series(y_pred)\n",
    "pd.Series(y_pred)\n",
    "\n",
    "# Check out entr_model\n",
    "entr_model2"
   ]
  },
  {
   "cell_type": "code",
   "execution_count": 229,
   "metadata": {
    "colab": {},
    "colab_type": "code",
    "id": "IRuw72VMDuWv"
   },
   "outputs": [
    {
     "data": {
      "image/png": "[encoded data removed]",
      "text/plain": [
       "<Figure size 1440x1440 with 1 Axes>"
      ]
     },
     "metadata": {},
     "output_type": "display_data"
    }
   ],
   "source": [
    "# As before, we need to visualize the tree to grasp its nature\n",
    "plt.figure(figsize=(20,20));\n",
    "tree.plot_tree(entr_model2);"
   ]
  },
  {
   "cell_type": "code",
   "execution_count": 230,
   "metadata": {
    "colab": {},
    "colab_type": "code",
    "id": "IRuw72VMDuWv"
   },
   "outputs": [
    {
     "data": {
      "image/svg+xml": [
       "<?xml version=\"1.0\" encoding=\"UTF-8\" standalone=\"no\"?>\r\n",
       "<!DOCTYPE svg PUBLIC \"-//W3C//DTD SVG 1.1//EN\"\r\n",
       " \"http://www.w3.org/Graphics/SVG/1.1/DTD/svg11.dtd\">\r\n",
       "<!-- Generated by graphviz version 2.38.0 (20140413.2041)\r\n",
       " -->\r\n",
       "<!-- Title: Tree Pages: 1 -->\r\n",
       "<svg width=\"473pt\" height=\"373pt\"\r\n",
       " viewBox=\"0.00 0.00 473.00 373.00\" xmlns=\"http://www.w3.org/2000/svg\" xmlns:xlink=\"http://www.w3.org/1999/xlink\">\r\n",
       "<g id=\"graph0\" class=\"graph\" transform=\"scale(1 1) rotate(0) translate(4 369)\">\r\n",
       "<title>Tree</title>\r\n",
       "<polygon fill=\"white\" stroke=\"none\" points=\"-4,4 -4,-369 469,-369 469,4 -4,4\"/>\r\n",
       "<!-- 0 -->\r\n",
       "<g id=\"node1\" class=\"node\"><title>0</title>\r\n",
       "<polygon fill=\"none\" stroke=\"black\" points=\"348,-365 230,-365 230,-297 348,-297 348,-365\"/>\r\n",
       "<text text-anchor=\"middle\" x=\"289\" y=\"-349.8\" font-family=\"Times New Roman,serif\" font-size=\"14.00\">X[3] &lt;= 138.0</text>\r\n",
       "<text text-anchor=\"middle\" x=\"289\" y=\"-334.8\" font-family=\"Times New Roman,serif\" font-size=\"14.00\">entropy = 0.948</text>\r\n",
       "<text text-anchor=\"middle\" x=\"289\" y=\"-319.8\" font-family=\"Times New Roman,serif\" font-size=\"14.00\">samples = 355</text>\r\n",
       "<text text-anchor=\"middle\" x=\"289\" y=\"-304.8\" font-family=\"Times New Roman,serif\" font-size=\"14.00\">value = [130, 225]</text>\r\n",
       "</g>\r\n",
       "<!-- 1 -->\r\n",
       "<g id=\"node2\" class=\"node\"><title>1</title>\r\n",
       "<polygon fill=\"none\" stroke=\"black\" points=\"284,-261 166,-261 166,-193 284,-193 284,-261\"/>\r\n",
       "<text text-anchor=\"middle\" x=\"225\" y=\"-245.8\" font-family=\"Times New Roman,serif\" font-size=\"14.00\">X[5] &lt;= 3.524</text>\r\n",
       "<text text-anchor=\"middle\" x=\"225\" y=\"-230.8\" font-family=\"Times New Roman,serif\" font-size=\"14.00\">entropy = 0.991</text>\r\n",
       "<text text-anchor=\"middle\" x=\"225\" y=\"-215.8\" font-family=\"Times New Roman,serif\" font-size=\"14.00\">samples = 234</text>\r\n",
       "<text text-anchor=\"middle\" x=\"225\" y=\"-200.8\" font-family=\"Times New Roman,serif\" font-size=\"14.00\">value = [130, 104]</text>\r\n",
       "</g>\r\n",
       "<!-- 0&#45;&gt;1 -->\r\n",
       "<g id=\"edge1\" class=\"edge\"><title>0&#45;&gt;1</title>\r\n",
       "<path fill=\"none\" stroke=\"black\" d=\"M268.221,-296.884C262.8,-288.243 256.887,-278.819 251.223,-269.793\"/>\r\n",
       "<polygon fill=\"black\" stroke=\"black\" points=\"254.173,-267.91 245.894,-261.299 248.244,-271.63 254.173,-267.91\"/>\r\n",
       "<text text-anchor=\"middle\" x=\"240.315\" y=\"-281.969\" font-family=\"Times New Roman,serif\" font-size=\"14.00\">True</text>\r\n",
       "</g>\r\n",
       "<!-- 8 -->\r\n",
       "<g id=\"node9\" class=\"node\"><title>8</title>\r\n",
       "<polygon fill=\"none\" stroke=\"black\" points=\"406,-253.5 302,-253.5 302,-200.5 406,-200.5 406,-253.5\"/>\r\n",
       "<text text-anchor=\"middle\" x=\"354\" y=\"-238.3\" font-family=\"Times New Roman,serif\" font-size=\"14.00\">entropy = 0.0</text>\r\n",
       "<text text-anchor=\"middle\" x=\"354\" y=\"-223.3\" font-family=\"Times New Roman,serif\" font-size=\"14.00\">samples = 121</text>\r\n",
       "<text text-anchor=\"middle\" x=\"354\" y=\"-208.3\" font-family=\"Times New Roman,serif\" font-size=\"14.00\">value = [0, 121]</text>\r\n",
       "</g>\r\n",
       "<!-- 0&#45;&gt;8 -->\r\n",
       "<g id=\"edge8\" class=\"edge\"><title>0&#45;&gt;8</title>\r\n",
       "<path fill=\"none\" stroke=\"black\" d=\"M310.104,-296.884C317.182,-285.776 325.087,-273.372 332.216,-262.184\"/>\r\n",
       "<polygon fill=\"black\" stroke=\"black\" points=\"335.315,-263.834 337.737,-253.52 329.412,-260.072 335.315,-263.834\"/>\r\n",
       "<text text-anchor=\"middle\" x=\"343.145\" y=\"-274.228\" font-family=\"Times New Roman,serif\" font-size=\"14.00\">False</text>\r\n",
       "</g>\r\n",
       "<!-- 2 -->\r\n",
       "<g id=\"node3\" class=\"node\"><title>2</title>\r\n",
       "<polygon fill=\"none\" stroke=\"black\" points=\"215,-157 109,-157 109,-89 215,-89 215,-157\"/>\r\n",
       "<text text-anchor=\"middle\" x=\"162\" y=\"-141.8\" font-family=\"Times New Roman,serif\" font-size=\"14.00\">X[3] &lt;= 24.5</text>\r\n",
       "<text text-anchor=\"middle\" x=\"162\" y=\"-126.8\" font-family=\"Times New Roman,serif\" font-size=\"14.00\">entropy = 0.512</text>\r\n",
       "<text text-anchor=\"middle\" x=\"162\" y=\"-111.8\" font-family=\"Times New Roman,serif\" font-size=\"14.00\">samples = 79</text>\r\n",
       "<text text-anchor=\"middle\" x=\"162\" y=\"-96.8\" font-family=\"Times New Roman,serif\" font-size=\"14.00\">value = [9, 70]</text>\r\n",
       "</g>\r\n",
       "<!-- 1&#45;&gt;2 -->\r\n",
       "<g id=\"edge2\" class=\"edge\"><title>1&#45;&gt;2</title>\r\n",
       "<path fill=\"none\" stroke=\"black\" d=\"M204.546,-192.884C199.264,-184.332 193.508,-175.013 187.986,-166.072\"/>\r\n",
       "<polygon fill=\"black\" stroke=\"black\" points=\"190.8,-163.968 182.567,-157.299 184.844,-167.647 190.8,-163.968\"/>\r\n",
       "</g>\r\n",
       "<!-- 5 -->\r\n",
       "<g id=\"node6\" class=\"node\"><title>5</title>\r\n",
       "<polygon fill=\"none\" stroke=\"black\" points=\"344.5,-157 233.5,-157 233.5,-89 344.5,-89 344.5,-157\"/>\r\n",
       "<text text-anchor=\"middle\" x=\"289\" y=\"-141.8\" font-family=\"Times New Roman,serif\" font-size=\"14.00\">X[3] &lt;= 101.0</text>\r\n",
       "<text text-anchor=\"middle\" x=\"289\" y=\"-126.8\" font-family=\"Times New Roman,serif\" font-size=\"14.00\">entropy = 0.759</text>\r\n",
       "<text text-anchor=\"middle\" x=\"289\" y=\"-111.8\" font-family=\"Times New Roman,serif\" font-size=\"14.00\">samples = 155</text>\r\n",
       "<text text-anchor=\"middle\" x=\"289\" y=\"-96.8\" font-family=\"Times New Roman,serif\" font-size=\"14.00\">value = [121, 34]</text>\r\n",
       "</g>\r\n",
       "<!-- 1&#45;&gt;5 -->\r\n",
       "<g id=\"edge5\" class=\"edge\"><title>1&#45;&gt;5</title>\r\n",
       "<path fill=\"none\" stroke=\"black\" d=\"M245.779,-192.884C251.2,-184.243 257.113,-174.819 262.777,-165.793\"/>\r\n",
       "<polygon fill=\"black\" stroke=\"black\" points=\"265.756,-167.63 268.106,-157.299 259.827,-163.91 265.756,-167.63\"/>\r\n",
       "</g>\r\n",
       "<!-- 3 -->\r\n",
       "<g id=\"node4\" class=\"node\"><title>3</title>\r\n",
       "<polygon fill=\"none\" stroke=\"black\" points=\"92,-53 0,-53 0,-0 92,-0 92,-53\"/>\r\n",
       "<text text-anchor=\"middle\" x=\"46\" y=\"-37.8\" font-family=\"Times New Roman,serif\" font-size=\"14.00\">entropy = 0.0</text>\r\n",
       "<text text-anchor=\"middle\" x=\"46\" y=\"-22.8\" font-family=\"Times New Roman,serif\" font-size=\"14.00\">samples = 8</text>\r\n",
       "<text text-anchor=\"middle\" x=\"46\" y=\"-7.8\" font-family=\"Times New Roman,serif\" font-size=\"14.00\">value = [8, 0]</text>\r\n",
       "</g>\r\n",
       "<!-- 2&#45;&gt;3 -->\r\n",
       "<g id=\"edge3\" class=\"edge\"><title>2&#45;&gt;3</title>\r\n",
       "<path fill=\"none\" stroke=\"black\" d=\"M121.429,-88.9485C109.75,-79.4346 97.0326,-69.074 85.4247,-59.6175\"/>\r\n",
       "<polygon fill=\"black\" stroke=\"black\" points=\"87.5557,-56.8392 77.5921,-53.2367 83.1345,-62.2663 87.5557,-56.8392\"/>\r\n",
       "</g>\r\n",
       "<!-- 4 -->\r\n",
       "<g id=\"node5\" class=\"node\"><title>4</title>\r\n",
       "<polygon fill=\"none\" stroke=\"black\" points=\"216,-53 110,-53 110,-0 216,-0 216,-53\"/>\r\n",
       "<text text-anchor=\"middle\" x=\"163\" y=\"-37.8\" font-family=\"Times New Roman,serif\" font-size=\"14.00\">entropy = 0.107</text>\r\n",
       "<text text-anchor=\"middle\" x=\"163\" y=\"-22.8\" font-family=\"Times New Roman,serif\" font-size=\"14.00\">samples = 71</text>\r\n",
       "<text text-anchor=\"middle\" x=\"163\" y=\"-7.8\" font-family=\"Times New Roman,serif\" font-size=\"14.00\">value = [1, 70]</text>\r\n",
       "</g>\r\n",
       "<!-- 2&#45;&gt;4 -->\r\n",
       "<g id=\"edge4\" class=\"edge\"><title>2&#45;&gt;4</title>\r\n",
       "<path fill=\"none\" stroke=\"black\" d=\"M162.35,-88.9485C162.437,-80.7153 162.531,-71.848 162.619,-63.4814\"/>\r\n",
       "<polygon fill=\"black\" stroke=\"black\" points=\"166.122,-63.2732 162.728,-53.2367 159.122,-63.1991 166.122,-63.2732\"/>\r\n",
       "</g>\r\n",
       "<!-- 6 -->\r\n",
       "<g id=\"node7\" class=\"node\"><title>6</title>\r\n",
       "<polygon fill=\"none\" stroke=\"black\" points=\"341,-53 235,-53 235,-0 341,-0 341,-53\"/>\r\n",
       "<text text-anchor=\"middle\" x=\"288\" y=\"-37.8\" font-family=\"Times New Roman,serif\" font-size=\"14.00\">entropy = 0.191</text>\r\n",
       "<text text-anchor=\"middle\" x=\"288\" y=\"-22.8\" font-family=\"Times New Roman,serif\" font-size=\"14.00\">samples = 102</text>\r\n",
       "<text text-anchor=\"middle\" x=\"288\" y=\"-7.8\" font-family=\"Times New Roman,serif\" font-size=\"14.00\">value = [99, 3]</text>\r\n",
       "</g>\r\n",
       "<!-- 5&#45;&gt;6 -->\r\n",
       "<g id=\"edge6\" class=\"edge\"><title>5&#45;&gt;6</title>\r\n",
       "<path fill=\"none\" stroke=\"black\" d=\"M288.65,-88.9485C288.563,-80.7153 288.469,-71.848 288.381,-63.4814\"/>\r\n",
       "<polygon fill=\"black\" stroke=\"black\" points=\"291.878,-63.1991 288.272,-53.2367 284.878,-63.2732 291.878,-63.1991\"/>\r\n",
       "</g>\r\n",
       "<!-- 7 -->\r\n",
       "<g id=\"node8\" class=\"node\"><title>7</title>\r\n",
       "<polygon fill=\"none\" stroke=\"black\" points=\"465,-53 359,-53 359,-0 465,-0 465,-53\"/>\r\n",
       "<text text-anchor=\"middle\" x=\"412\" y=\"-37.8\" font-family=\"Times New Roman,serif\" font-size=\"14.00\">entropy = 0.979</text>\r\n",
       "<text text-anchor=\"middle\" x=\"412\" y=\"-22.8\" font-family=\"Times New Roman,serif\" font-size=\"14.00\">samples = 53</text>\r\n",
       "<text text-anchor=\"middle\" x=\"412\" y=\"-7.8\" font-family=\"Times New Roman,serif\" font-size=\"14.00\">value = [22, 31]</text>\r\n",
       "</g>\r\n",
       "<!-- 5&#45;&gt;7 -->\r\n",
       "<g id=\"edge7\" class=\"edge\"><title>5&#45;&gt;7</title>\r\n",
       "<path fill=\"none\" stroke=\"black\" d=\"M332.019,-88.9485C344.522,-79.3431 358.147,-68.8747 370.551,-59.345\"/>\r\n",
       "<polygon fill=\"black\" stroke=\"black\" points=\"372.704,-62.1046 378.501,-53.2367 368.439,-56.5537 372.704,-62.1046\"/>\r\n",
       "</g>\r\n",
       "</g>\r\n",
       "</svg>\r\n"
      ],
      "text/plain": [
       "<graphviz.files.Source at 0x225c25541c0>"
      ]
     },
     "execution_count": 230,
     "metadata": {},
     "output_type": "execute_result"
    }
   ],
   "source": [
    "data = tree.export_graphviz(entr_model2, out_file=None)\n",
    "graph = graphviz.Source(data)\n",
    "graph"
   ]
  },
  {
   "cell_type": "code",
   "execution_count": 231,
   "metadata": {
    "colab": {},
    "colab_type": "code",
    "id": "IRuw72VMDuWv",
    "scrolled": false
   },
   "outputs": [
    {
     "data": {
      "image/svg+xml": [
       "<?xml version=\"1.0\" encoding=\"UTF-8\" standalone=\"no\"?>\r\n",
       "<!DOCTYPE svg PUBLIC \"-//W3C//DTD SVG 1.1//EN\"\r\n",
       " \"http://www.w3.org/Graphics/SVG/1.1/DTD/svg11.dtd\">\r\n",
       "<!-- Generated by graphviz version 2.38.0 (20140413.2041)\r\n",
       " -->\r\n",
       "<!-- Title: Tree Pages: 1 -->\r\n",
       "<svg width=\"473pt\" height=\"433pt\"\r\n",
       " viewBox=\"0.00 0.00 473.00 433.00\" xmlns=\"http://www.w3.org/2000/svg\" xmlns:xlink=\"http://www.w3.org/1999/xlink\">\r\n",
       "<g id=\"graph0\" class=\"graph\" transform=\"scale(1 1) rotate(0) translate(4 429)\">\r\n",
       "<title>Tree</title>\r\n",
       "<polygon fill=\"white\" stroke=\"none\" points=\"-4,4 -4,-429 469,-429 469,4 -4,4\"/>\r\n",
       "<!-- 0 -->\r\n",
       "<g id=\"node1\" class=\"node\"><title>0</title>\r\n",
       "<polygon fill=\"none\" stroke=\"black\" points=\"348,-425 230,-425 230,-342 348,-342 348,-425\"/>\r\n",
       "<text text-anchor=\"middle\" x=\"289\" y=\"-409.8\" font-family=\"Times New Roman,serif\" font-size=\"14.00\">X[3] &lt;= 138.0</text>\r\n",
       "<text text-anchor=\"middle\" x=\"289\" y=\"-394.8\" font-family=\"Times New Roman,serif\" font-size=\"14.00\">entropy = 0.948</text>\r\n",
       "<text text-anchor=\"middle\" x=\"289\" y=\"-379.8\" font-family=\"Times New Roman,serif\" font-size=\"14.00\">samples = 355</text>\r\n",
       "<text text-anchor=\"middle\" x=\"289\" y=\"-364.8\" font-family=\"Times New Roman,serif\" font-size=\"14.00\">value = [130, 225]</text>\r\n",
       "<text text-anchor=\"middle\" x=\"289\" y=\"-349.8\" font-family=\"Times New Roman,serif\" font-size=\"14.00\">class = YES</text>\r\n",
       "</g>\r\n",
       "<!-- 1 -->\r\n",
       "<g id=\"node2\" class=\"node\"><title>1</title>\r\n",
       "<polygon fill=\"none\" stroke=\"black\" points=\"284,-306 166,-306 166,-223 284,-223 284,-306\"/>\r\n",
       "<text text-anchor=\"middle\" x=\"225\" y=\"-290.8\" font-family=\"Times New Roman,serif\" font-size=\"14.00\">X[5] &lt;= 3.524</text>\r\n",
       "<text text-anchor=\"middle\" x=\"225\" y=\"-275.8\" font-family=\"Times New Roman,serif\" font-size=\"14.00\">entropy = 0.991</text>\r\n",
       "<text text-anchor=\"middle\" x=\"225\" y=\"-260.8\" font-family=\"Times New Roman,serif\" font-size=\"14.00\">samples = 234</text>\r\n",
       "<text text-anchor=\"middle\" x=\"225\" y=\"-245.8\" font-family=\"Times New Roman,serif\" font-size=\"14.00\">value = [130, 104]</text>\r\n",
       "<text text-anchor=\"middle\" x=\"225\" y=\"-230.8\" font-family=\"Times New Roman,serif\" font-size=\"14.00\">class = NO</text>\r\n",
       "</g>\r\n",
       "<!-- 0&#45;&gt;1 -->\r\n",
       "<g id=\"edge1\" class=\"edge\"><title>0&#45;&gt;1</title>\r\n",
       "<path fill=\"none\" stroke=\"black\" d=\"M266.796,-341.907C262.03,-333.195 256.944,-323.897 252.019,-314.893\"/>\r\n",
       "<polygon fill=\"black\" stroke=\"black\" points=\"255.035,-313.114 247.165,-306.021 248.894,-316.474 255.035,-313.114\"/>\r\n",
       "<text text-anchor=\"middle\" x=\"240.14\" y=\"-326.313\" font-family=\"Times New Roman,serif\" font-size=\"14.00\">True</text>\r\n",
       "</g>\r\n",
       "<!-- 8 -->\r\n",
       "<g id=\"node9\" class=\"node\"><title>8</title>\r\n",
       "<polygon fill=\"none\" stroke=\"black\" points=\"406,-298.5 302,-298.5 302,-230.5 406,-230.5 406,-298.5\"/>\r\n",
       "<text text-anchor=\"middle\" x=\"354\" y=\"-283.3\" font-family=\"Times New Roman,serif\" font-size=\"14.00\">entropy = 0.0</text>\r\n",
       "<text text-anchor=\"middle\" x=\"354\" y=\"-268.3\" font-family=\"Times New Roman,serif\" font-size=\"14.00\">samples = 121</text>\r\n",
       "<text text-anchor=\"middle\" x=\"354\" y=\"-253.3\" font-family=\"Times New Roman,serif\" font-size=\"14.00\">value = [0, 121]</text>\r\n",
       "<text text-anchor=\"middle\" x=\"354\" y=\"-238.3\" font-family=\"Times New Roman,serif\" font-size=\"14.00\">class = YES</text>\r\n",
       "</g>\r\n",
       "<!-- 0&#45;&gt;8 -->\r\n",
       "<g id=\"edge8\" class=\"edge\"><title>0&#45;&gt;8</title>\r\n",
       "<path fill=\"none\" stroke=\"black\" d=\"M311.551,-341.907C317.743,-330.763 324.468,-318.658 330.7,-307.439\"/>\r\n",
       "<polygon fill=\"black\" stroke=\"black\" points=\"333.777,-309.108 335.574,-298.667 327.658,-305.709 333.777,-309.108\"/>\r\n",
       "<text text-anchor=\"middle\" x=\"342.442\" y=\"-319.005\" font-family=\"Times New Roman,serif\" font-size=\"14.00\">False</text>\r\n",
       "</g>\r\n",
       "<!-- 2 -->\r\n",
       "<g id=\"node3\" class=\"node\"><title>2</title>\r\n",
       "<polygon fill=\"none\" stroke=\"black\" points=\"215,-187 109,-187 109,-104 215,-104 215,-187\"/>\r\n",
       "<text text-anchor=\"middle\" x=\"162\" y=\"-171.8\" font-family=\"Times New Roman,serif\" font-size=\"14.00\">X[3] &lt;= 24.5</text>\r\n",
       "<text text-anchor=\"middle\" x=\"162\" y=\"-156.8\" font-family=\"Times New Roman,serif\" font-size=\"14.00\">entropy = 0.512</text>\r\n",
       "<text text-anchor=\"middle\" x=\"162\" y=\"-141.8\" font-family=\"Times New Roman,serif\" font-size=\"14.00\">samples = 79</text>\r\n",
       "<text text-anchor=\"middle\" x=\"162\" y=\"-126.8\" font-family=\"Times New Roman,serif\" font-size=\"14.00\">value = [9, 70]</text>\r\n",
       "<text text-anchor=\"middle\" x=\"162\" y=\"-111.8\" font-family=\"Times New Roman,serif\" font-size=\"14.00\">class = YES</text>\r\n",
       "</g>\r\n",
       "<!-- 1&#45;&gt;2 -->\r\n",
       "<g id=\"edge2\" class=\"edge\"><title>1&#45;&gt;2</title>\r\n",
       "<path fill=\"none\" stroke=\"black\" d=\"M203.142,-222.907C198.451,-214.195 193.444,-204.897 188.596,-195.893\"/>\r\n",
       "<polygon fill=\"black\" stroke=\"black\" points=\"191.642,-194.166 183.819,-187.021 185.478,-197.485 191.642,-194.166\"/>\r\n",
       "</g>\r\n",
       "<!-- 5 -->\r\n",
       "<g id=\"node6\" class=\"node\"><title>5</title>\r\n",
       "<polygon fill=\"none\" stroke=\"black\" points=\"344.5,-187 233.5,-187 233.5,-104 344.5,-104 344.5,-187\"/>\r\n",
       "<text text-anchor=\"middle\" x=\"289\" y=\"-171.8\" font-family=\"Times New Roman,serif\" font-size=\"14.00\">X[3] &lt;= 101.0</text>\r\n",
       "<text text-anchor=\"middle\" x=\"289\" y=\"-156.8\" font-family=\"Times New Roman,serif\" font-size=\"14.00\">entropy = 0.759</text>\r\n",
       "<text text-anchor=\"middle\" x=\"289\" y=\"-141.8\" font-family=\"Times New Roman,serif\" font-size=\"14.00\">samples = 155</text>\r\n",
       "<text text-anchor=\"middle\" x=\"289\" y=\"-126.8\" font-family=\"Times New Roman,serif\" font-size=\"14.00\">value = [121, 34]</text>\r\n",
       "<text text-anchor=\"middle\" x=\"289\" y=\"-111.8\" font-family=\"Times New Roman,serif\" font-size=\"14.00\">class = NO</text>\r\n",
       "</g>\r\n",
       "<!-- 1&#45;&gt;5 -->\r\n",
       "<g id=\"edge5\" class=\"edge\"><title>1&#45;&gt;5</title>\r\n",
       "<path fill=\"none\" stroke=\"black\" d=\"M247.204,-222.907C251.97,-214.195 257.056,-204.897 261.981,-195.893\"/>\r\n",
       "<polygon fill=\"black\" stroke=\"black\" points=\"265.106,-197.474 266.835,-187.021 258.965,-194.114 265.106,-197.474\"/>\r\n",
       "</g>\r\n",
       "<!-- 3 -->\r\n",
       "<g id=\"node4\" class=\"node\"><title>3</title>\r\n",
       "<polygon fill=\"none\" stroke=\"black\" points=\"92,-68 0,-68 0,-0 92,-0 92,-68\"/>\r\n",
       "<text text-anchor=\"middle\" x=\"46\" y=\"-52.8\" font-family=\"Times New Roman,serif\" font-size=\"14.00\">entropy = 0.0</text>\r\n",
       "<text text-anchor=\"middle\" x=\"46\" y=\"-37.8\" font-family=\"Times New Roman,serif\" font-size=\"14.00\">samples = 8</text>\r\n",
       "<text text-anchor=\"middle\" x=\"46\" y=\"-22.8\" font-family=\"Times New Roman,serif\" font-size=\"14.00\">value = [8, 0]</text>\r\n",
       "<text text-anchor=\"middle\" x=\"46\" y=\"-7.8\" font-family=\"Times New Roman,serif\" font-size=\"14.00\">class = NO</text>\r\n",
       "</g>\r\n",
       "<!-- 2&#45;&gt;3 -->\r\n",
       "<g id=\"edge3\" class=\"edge\"><title>2&#45;&gt;3</title>\r\n",
       "<path fill=\"none\" stroke=\"black\" d=\"M118.806,-103.726C108.95,-94.423 98.4837,-84.5428 88.6511,-75.2612\"/>\r\n",
       "<polygon fill=\"black\" stroke=\"black\" points=\"90.9507,-72.6189 81.2763,-68.2996 86.1456,-77.7092 90.9507,-72.6189\"/>\r\n",
       "</g>\r\n",
       "<!-- 4 -->\r\n",
       "<g id=\"node5\" class=\"node\"><title>4</title>\r\n",
       "<polygon fill=\"none\" stroke=\"black\" points=\"216,-68 110,-68 110,-0 216,-0 216,-68\"/>\r\n",
       "<text text-anchor=\"middle\" x=\"163\" y=\"-52.8\" font-family=\"Times New Roman,serif\" font-size=\"14.00\">entropy = 0.107</text>\r\n",
       "<text text-anchor=\"middle\" x=\"163\" y=\"-37.8\" font-family=\"Times New Roman,serif\" font-size=\"14.00\">samples = 71</text>\r\n",
       "<text text-anchor=\"middle\" x=\"163\" y=\"-22.8\" font-family=\"Times New Roman,serif\" font-size=\"14.00\">value = [1, 70]</text>\r\n",
       "<text text-anchor=\"middle\" x=\"163\" y=\"-7.8\" font-family=\"Times New Roman,serif\" font-size=\"14.00\">class = YES</text>\r\n",
       "</g>\r\n",
       "<!-- 2&#45;&gt;4 -->\r\n",
       "<g id=\"edge4\" class=\"edge\"><title>2&#45;&gt;4</title>\r\n",
       "<path fill=\"none\" stroke=\"black\" d=\"M162.372,-103.726C162.447,-95.5175 162.526,-86.8595 162.602,-78.56\"/>\r\n",
       "<polygon fill=\"black\" stroke=\"black\" points=\"166.104,-78.3312 162.696,-68.2996 159.105,-78.2672 166.104,-78.3312\"/>\r\n",
       "</g>\r\n",
       "<!-- 6 -->\r\n",
       "<g id=\"node7\" class=\"node\"><title>6</title>\r\n",
       "<polygon fill=\"none\" stroke=\"black\" points=\"341,-68 235,-68 235,-0 341,-0 341,-68\"/>\r\n",
       "<text text-anchor=\"middle\" x=\"288\" y=\"-52.8\" font-family=\"Times New Roman,serif\" font-size=\"14.00\">entropy = 0.191</text>\r\n",
       "<text text-anchor=\"middle\" x=\"288\" y=\"-37.8\" font-family=\"Times New Roman,serif\" font-size=\"14.00\">samples = 102</text>\r\n",
       "<text text-anchor=\"middle\" x=\"288\" y=\"-22.8\" font-family=\"Times New Roman,serif\" font-size=\"14.00\">value = [99, 3]</text>\r\n",
       "<text text-anchor=\"middle\" x=\"288\" y=\"-7.8\" font-family=\"Times New Roman,serif\" font-size=\"14.00\">class = NO</text>\r\n",
       "</g>\r\n",
       "<!-- 5&#45;&gt;6 -->\r\n",
       "<g id=\"edge6\" class=\"edge\"><title>5&#45;&gt;6</title>\r\n",
       "<path fill=\"none\" stroke=\"black\" d=\"M288.628,-103.726C288.553,-95.5175 288.474,-86.8595 288.398,-78.56\"/>\r\n",
       "<polygon fill=\"black\" stroke=\"black\" points=\"291.895,-78.2672 288.304,-68.2996 284.896,-78.3312 291.895,-78.2672\"/>\r\n",
       "</g>\r\n",
       "<!-- 7 -->\r\n",
       "<g id=\"node8\" class=\"node\"><title>7</title>\r\n",
       "<polygon fill=\"none\" stroke=\"black\" points=\"465,-68 359,-68 359,-0 465,-0 465,-68\"/>\r\n",
       "<text text-anchor=\"middle\" x=\"412\" y=\"-52.8\" font-family=\"Times New Roman,serif\" font-size=\"14.00\">entropy = 0.979</text>\r\n",
       "<text text-anchor=\"middle\" x=\"412\" y=\"-37.8\" font-family=\"Times New Roman,serif\" font-size=\"14.00\">samples = 53</text>\r\n",
       "<text text-anchor=\"middle\" x=\"412\" y=\"-22.8\" font-family=\"Times New Roman,serif\" font-size=\"14.00\">value = [22, 31]</text>\r\n",
       "<text text-anchor=\"middle\" x=\"412\" y=\"-7.8\" font-family=\"Times New Roman,serif\" font-size=\"14.00\">class = YES</text>\r\n",
       "</g>\r\n",
       "<!-- 5&#45;&gt;7 -->\r\n",
       "<g id=\"edge7\" class=\"edge\"><title>5&#45;&gt;7</title>\r\n",
       "<path fill=\"none\" stroke=\"black\" d=\"M334.801,-103.726C345.353,-94.3318 356.567,-84.349 367.082,-74.9883\"/>\r\n",
       "<polygon fill=\"black\" stroke=\"black\" points=\"369.453,-77.5631 374.595,-68.2996 364.799,-72.3347 369.453,-77.5631\"/>\r\n",
       "</g>\r\n",
       "</g>\r\n",
       "</svg>\r\n"
      ],
      "text/plain": [
       "<graphviz.files.Source at 0x225c256efa0>"
      ]
     },
     "execution_count": 231,
     "metadata": {},
     "output_type": "execute_result"
    }
   ],
   "source": [
    "# Alternatively for class_names use entr_model2.classes_\n",
    "data = tree.export_graphviz(entr_model2, out_file=None,\n",
    "                           class_names=entr_model2.classes_)\n",
    "graph = graphviz.Source(data)\n",
    "graph"
   ]
  },
  {
   "cell_type": "code",
   "execution_count": 232,
   "metadata": {
    "colab": {},
    "colab_type": "code",
    "id": "29f4vmmMDuWy"
   },
   "outputs": [
    {
     "name": "stdout",
     "output_type": "stream",
     "text": [
      "Model Entropy model max depth 3\n",
      "Accuracy: 0.907563025210084\n",
      "Balanced accuracy: 0.8658536585365854\n",
      "Precision score for \"Yes\" 0.8764044943820225\n",
      "Recall score for \"No\" 0.7317073170731707\n"
     ]
    }
   ],
   "source": [
    "# Run this block for model evaluation \n",
    "print(\"Model Entropy model max depth 3\")\n",
    "print(\"Accuracy:\", metrics.accuracy_score(y_test,y_pred))\n",
    "print(\"Balanced accuracy:\", metrics.balanced_accuracy_score(y_test,y_pred))\n",
    "print('Precision score for \"Yes\"' , metrics.precision_score(y_test,y_pred, pos_label = \"YES\"))\n",
    "print('Recall score for \"No\"' , metrics.recall_score(y_test,y_pred, pos_label = \"NO\"))"
   ]
  },
  {
   "cell_type": "markdown",
   "metadata": {
    "colab_type": "text",
    "id": "AG7S2YgUDuW4"
   },
   "source": [
    "So our accuracy decreased, but is this certainly an inferior tree to the max depth original tree we did with Model 1? Write your conclusions here: \n",
    "\n",
    "The accuracy for this data set is lower.  However the number of samples at the deepest part of the tree is more relevant to a model that can be generalised.  I would feel more confident using this on new data, vs it being overfit to these data."
   ]
  },
  {
   "cell_type": "markdown",
   "metadata": {
    "colab_type": "text",
    "id": "FZTl4W3wDuW4"
   },
   "source": [
    "## Model 4: Gini impurity  model - max depth 3\n",
    "We're now going to try the same with the Gini impurity model. "
   ]
  },
  {
   "cell_type": "code",
   "execution_count": 233,
   "metadata": {
    "colab": {},
    "colab_type": "code",
    "id": "FJK1bkG3DuW5"
   },
   "outputs": [
    {
     "data": {
      "text/plain": [
       "DecisionTreeClassifier(max_depth=3, random_state=1234)"
      ]
     },
     "execution_count": 233,
     "metadata": {},
     "output_type": "execute_result"
    }
   ],
   "source": [
    "# As before, make a variable, but call it gini_model2, and ensure the max_depth parameter is set to 3\n",
    "gini_model2 = tree.DecisionTreeClassifier(criterion='gini', max_depth=3, random_state=1234)\n",
    "\n",
    "# Do the fit, predict, and series transformations as before. \n",
    "gini_model2.fit(X_train, y_train)\n",
    "y_pred = gini_model2.predict(X_test)\n",
    "\n",
    "pd.Series(y_pred)\n",
    "\n",
    "gini_model2"
   ]
  },
  {
   "cell_type": "code",
   "execution_count": 234,
   "metadata": {
    "colab": {},
    "colab_type": "code",
    "id": "_UIWhKZBDuW7"
   },
   "outputs": [
    {
     "data": {
      "image/png": "[encoded data removed]",
      "text/plain": [
       "<Figure size 1440x1440 with 1 Axes>"
      ]
     },
     "metadata": {},
     "output_type": "display_data"
    }
   ],
   "source": [
    "plt.figure(figsize=(20,20));\n",
    "tree.plot_tree(gini_model);"
   ]
  },
  {
   "cell_type": "code",
   "execution_count": 235,
   "metadata": {
    "colab": {},
    "colab_type": "code",
    "id": "_UIWhKZBDuW7"
   },
   "outputs": [
    {
     "data": {
      "image/svg+xml": [
       "<?xml version=\"1.0\" encoding=\"UTF-8\" standalone=\"no\"?>\r\n",
       "<!DOCTYPE svg PUBLIC \"-//W3C//DTD SVG 1.1//EN\"\r\n",
       " \"http://www.w3.org/Graphics/SVG/1.1/DTD/svg11.dtd\">\r\n",
       "<!-- Generated by graphviz version 2.38.0 (20140413.2041)\r\n",
       " -->\r\n",
       "<!-- Title: Tree Pages: 1 -->\r\n",
       "<svg width=\"686pt\" height=\"373pt\"\r\n",
       " viewBox=\"0.00 0.00 685.50 373.00\" xmlns=\"http://www.w3.org/2000/svg\" xmlns:xlink=\"http://www.w3.org/1999/xlink\">\r\n",
       "<g id=\"graph0\" class=\"graph\" transform=\"scale(1 1) rotate(0) translate(4 369)\">\r\n",
       "<title>Tree</title>\r\n",
       "<polygon fill=\"white\" stroke=\"none\" points=\"-4,4 -4,-369 681.5,-369 681.5,4 -4,4\"/>\r\n",
       "<!-- 0 -->\r\n",
       "<g id=\"node1\" class=\"node\"><title>0</title>\r\n",
       "<polygon fill=\"none\" stroke=\"black\" points=\"395.5,-365 277.5,-365 277.5,-297 395.5,-297 395.5,-365\"/>\r\n",
       "<text text-anchor=\"middle\" x=\"336.5\" y=\"-349.8\" font-family=\"Times New Roman,serif\" font-size=\"14.00\">X[3] &lt;= 100.5</text>\r\n",
       "<text text-anchor=\"middle\" x=\"336.5\" y=\"-334.8\" font-family=\"Times New Roman,serif\" font-size=\"14.00\">gini = 0.464</text>\r\n",
       "<text text-anchor=\"middle\" x=\"336.5\" y=\"-319.8\" font-family=\"Times New Roman,serif\" font-size=\"14.00\">samples = 355</text>\r\n",
       "<text text-anchor=\"middle\" x=\"336.5\" y=\"-304.8\" font-family=\"Times New Roman,serif\" font-size=\"14.00\">value = [130, 225]</text>\r\n",
       "</g>\r\n",
       "<!-- 1 -->\r\n",
       "<g id=\"node2\" class=\"node\"><title>1</title>\r\n",
       "<polygon fill=\"none\" stroke=\"black\" points=\"328,-261 217,-261 217,-193 328,-193 328,-261\"/>\r\n",
       "<text text-anchor=\"middle\" x=\"272.5\" y=\"-245.8\" font-family=\"Times New Roman,serif\" font-size=\"14.00\">X[5] &lt;= 3.754</text>\r\n",
       "<text text-anchor=\"middle\" x=\"272.5\" y=\"-230.8\" font-family=\"Times New Roman,serif\" font-size=\"14.00\">gini = 0.411</text>\r\n",
       "<text text-anchor=\"middle\" x=\"272.5\" y=\"-215.8\" font-family=\"Times New Roman,serif\" font-size=\"14.00\">samples = 152</text>\r\n",
       "<text text-anchor=\"middle\" x=\"272.5\" y=\"-200.8\" font-family=\"Times New Roman,serif\" font-size=\"14.00\">value = [108, 44]</text>\r\n",
       "</g>\r\n",
       "<!-- 0&#45;&gt;1 -->\r\n",
       "<g id=\"edge1\" class=\"edge\"><title>0&#45;&gt;1</title>\r\n",
       "<path fill=\"none\" stroke=\"black\" d=\"M315.721,-296.884C310.3,-288.243 304.387,-278.819 298.723,-269.793\"/>\r\n",
       "<polygon fill=\"black\" stroke=\"black\" points=\"301.673,-267.91 293.394,-261.299 295.744,-271.63 301.673,-267.91\"/>\r\n",
       "<text text-anchor=\"middle\" x=\"287.815\" y=\"-281.969\" font-family=\"Times New Roman,serif\" font-size=\"14.00\">True</text>\r\n",
       "</g>\r\n",
       "<!-- 8 -->\r\n",
       "<g id=\"node9\" class=\"node\"><title>8</title>\r\n",
       "<polygon fill=\"none\" stroke=\"black\" points=\"457,-261 346,-261 346,-193 457,-193 457,-261\"/>\r\n",
       "<text text-anchor=\"middle\" x=\"401.5\" y=\"-245.8\" font-family=\"Times New Roman,serif\" font-size=\"14.00\">X[5] &lt;= 8.047</text>\r\n",
       "<text text-anchor=\"middle\" x=\"401.5\" y=\"-230.8\" font-family=\"Times New Roman,serif\" font-size=\"14.00\">gini = 0.193</text>\r\n",
       "<text text-anchor=\"middle\" x=\"401.5\" y=\"-215.8\" font-family=\"Times New Roman,serif\" font-size=\"14.00\">samples = 203</text>\r\n",
       "<text text-anchor=\"middle\" x=\"401.5\" y=\"-200.8\" font-family=\"Times New Roman,serif\" font-size=\"14.00\">value = [22, 181]</text>\r\n",
       "</g>\r\n",
       "<!-- 0&#45;&gt;8 -->\r\n",
       "<g id=\"edge8\" class=\"edge\"><title>0&#45;&gt;8</title>\r\n",
       "<path fill=\"none\" stroke=\"black\" d=\"M357.604,-296.884C363.11,-288.243 369.115,-278.819 374.867,-269.793\"/>\r\n",
       "<polygon fill=\"black\" stroke=\"black\" points=\"377.857,-271.614 380.28,-261.299 371.954,-267.852 377.857,-271.614\"/>\r\n",
       "<text text-anchor=\"middle\" x=\"385.688\" y=\"-282.007\" font-family=\"Times New Roman,serif\" font-size=\"14.00\">False</text>\r\n",
       "</g>\r\n",
       "<!-- 2 -->\r\n",
       "<g id=\"node3\" class=\"node\"><title>2</title>\r\n",
       "<polygon fill=\"none\" stroke=\"black\" points=\"208.5,-157 104.5,-157 104.5,-89 208.5,-89 208.5,-157\"/>\r\n",
       "<text text-anchor=\"middle\" x=\"156.5\" y=\"-141.8\" font-family=\"Times New Roman,serif\" font-size=\"14.00\">X[3] &lt;= 24.5</text>\r\n",
       "<text text-anchor=\"middle\" x=\"156.5\" y=\"-126.8\" font-family=\"Times New Roman,serif\" font-size=\"14.00\">gini = 0.324</text>\r\n",
       "<text text-anchor=\"middle\" x=\"156.5\" y=\"-111.8\" font-family=\"Times New Roman,serif\" font-size=\"14.00\">samples = 54</text>\r\n",
       "<text text-anchor=\"middle\" x=\"156.5\" y=\"-96.8\" font-family=\"Times New Roman,serif\" font-size=\"14.00\">value = [11, 43]</text>\r\n",
       "</g>\r\n",
       "<!-- 1&#45;&gt;2 -->\r\n",
       "<g id=\"edge2\" class=\"edge\"><title>1&#45;&gt;2</title>\r\n",
       "<path fill=\"none\" stroke=\"black\" d=\"M234.838,-192.884C224.404,-183.709 212.965,-173.65 202.13,-164.123\"/>\r\n",
       "<polygon fill=\"black\" stroke=\"black\" points=\"204.191,-161.274 194.37,-157.299 199.568,-166.531 204.191,-161.274\"/>\r\n",
       "</g>\r\n",
       "<!-- 5 -->\r\n",
       "<g id=\"node6\" class=\"node\"><title>5</title>\r\n",
       "<polygon fill=\"none\" stroke=\"black\" points=\"324.5,-157 226.5,-157 226.5,-89 324.5,-89 324.5,-157\"/>\r\n",
       "<text text-anchor=\"middle\" x=\"275.5\" y=\"-141.8\" font-family=\"Times New Roman,serif\" font-size=\"14.00\">X[5] &lt;= 4.0</text>\r\n",
       "<text text-anchor=\"middle\" x=\"275.5\" y=\"-126.8\" font-family=\"Times New Roman,serif\" font-size=\"14.00\">gini = 0.02</text>\r\n",
       "<text text-anchor=\"middle\" x=\"275.5\" y=\"-111.8\" font-family=\"Times New Roman,serif\" font-size=\"14.00\">samples = 98</text>\r\n",
       "<text text-anchor=\"middle\" x=\"275.5\" y=\"-96.8\" font-family=\"Times New Roman,serif\" font-size=\"14.00\">value = [97, 1]</text>\r\n",
       "</g>\r\n",
       "<!-- 1&#45;&gt;5 -->\r\n",
       "<g id=\"edge5\" class=\"edge\"><title>1&#45;&gt;5</title>\r\n",
       "<path fill=\"none\" stroke=\"black\" d=\"M273.474,-192.884C273.712,-184.778 273.971,-175.982 274.221,-167.472\"/>\r\n",
       "<polygon fill=\"black\" stroke=\"black\" points=\"277.725,-167.398 274.521,-157.299 270.728,-167.192 277.725,-167.398\"/>\r\n",
       "</g>\r\n",
       "<!-- 3 -->\r\n",
       "<g id=\"node4\" class=\"node\"><title>3</title>\r\n",
       "<polygon fill=\"none\" stroke=\"black\" points=\"91,-53 0,-53 0,-0 91,-0 91,-53\"/>\r\n",
       "<text text-anchor=\"middle\" x=\"45.5\" y=\"-37.8\" font-family=\"Times New Roman,serif\" font-size=\"14.00\">gini = 0.0</text>\r\n",
       "<text text-anchor=\"middle\" x=\"45.5\" y=\"-22.8\" font-family=\"Times New Roman,serif\" font-size=\"14.00\">samples = 8</text>\r\n",
       "<text text-anchor=\"middle\" x=\"45.5\" y=\"-7.8\" font-family=\"Times New Roman,serif\" font-size=\"14.00\">value = [8, 0]</text>\r\n",
       "</g>\r\n",
       "<!-- 2&#45;&gt;3 -->\r\n",
       "<g id=\"edge3\" class=\"edge\"><title>2&#45;&gt;3</title>\r\n",
       "<path fill=\"none\" stroke=\"black\" d=\"M117.678,-88.9485C106.61,-79.526 94.5669,-69.2731 83.546,-59.8906\"/>\r\n",
       "<polygon fill=\"black\" stroke=\"black\" points=\"85.6136,-57.0542 75.7304,-53.2367 81.0759,-62.3842 85.6136,-57.0542\"/>\r\n",
       "</g>\r\n",
       "<!-- 4 -->\r\n",
       "<g id=\"node5\" class=\"node\"><title>4</title>\r\n",
       "<polygon fill=\"none\" stroke=\"black\" points=\"207.5,-53 109.5,-53 109.5,-0 207.5,-0 207.5,-53\"/>\r\n",
       "<text text-anchor=\"middle\" x=\"158.5\" y=\"-37.8\" font-family=\"Times New Roman,serif\" font-size=\"14.00\">gini = 0.122</text>\r\n",
       "<text text-anchor=\"middle\" x=\"158.5\" y=\"-22.8\" font-family=\"Times New Roman,serif\" font-size=\"14.00\">samples = 46</text>\r\n",
       "<text text-anchor=\"middle\" x=\"158.5\" y=\"-7.8\" font-family=\"Times New Roman,serif\" font-size=\"14.00\">value = [3, 43]</text>\r\n",
       "</g>\r\n",
       "<!-- 2&#45;&gt;4 -->\r\n",
       "<g id=\"edge4\" class=\"edge\"><title>2&#45;&gt;4</title>\r\n",
       "<path fill=\"none\" stroke=\"black\" d=\"M157.2,-88.9485C157.374,-80.7153 157.561,-71.848 157.738,-63.4814\"/>\r\n",
       "<polygon fill=\"black\" stroke=\"black\" points=\"161.243,-63.3086 157.955,-53.2367 154.244,-63.1604 161.243,-63.3086\"/>\r\n",
       "</g>\r\n",
       "<!-- 6 -->\r\n",
       "<g id=\"node7\" class=\"node\"><title>6</title>\r\n",
       "<polygon fill=\"none\" stroke=\"black\" points=\"320,-53 229,-53 229,-0 320,-0 320,-53\"/>\r\n",
       "<text text-anchor=\"middle\" x=\"274.5\" y=\"-37.8\" font-family=\"Times New Roman,serif\" font-size=\"14.00\">gini = 0.444</text>\r\n",
       "<text text-anchor=\"middle\" x=\"274.5\" y=\"-22.8\" font-family=\"Times New Roman,serif\" font-size=\"14.00\">samples = 3</text>\r\n",
       "<text text-anchor=\"middle\" x=\"274.5\" y=\"-7.8\" font-family=\"Times New Roman,serif\" font-size=\"14.00\">value = [2, 1]</text>\r\n",
       "</g>\r\n",
       "<!-- 5&#45;&gt;6 -->\r\n",
       "<g id=\"edge6\" class=\"edge\"><title>5&#45;&gt;6</title>\r\n",
       "<path fill=\"none\" stroke=\"black\" d=\"M275.15,-88.9485C275.063,-80.7153 274.969,-71.848 274.881,-63.4814\"/>\r\n",
       "<polygon fill=\"black\" stroke=\"black\" points=\"278.378,-63.1991 274.772,-53.2367 271.378,-63.2732 278.378,-63.1991\"/>\r\n",
       "</g>\r\n",
       "<!-- 7 -->\r\n",
       "<g id=\"node8\" class=\"node\"><title>7</title>\r\n",
       "<polygon fill=\"none\" stroke=\"black\" points=\"436.5,-53 338.5,-53 338.5,-0 436.5,-0 436.5,-53\"/>\r\n",
       "<text text-anchor=\"middle\" x=\"387.5\" y=\"-37.8\" font-family=\"Times New Roman,serif\" font-size=\"14.00\">gini = 0.0</text>\r\n",
       "<text text-anchor=\"middle\" x=\"387.5\" y=\"-22.8\" font-family=\"Times New Roman,serif\" font-size=\"14.00\">samples = 95</text>\r\n",
       "<text text-anchor=\"middle\" x=\"387.5\" y=\"-7.8\" font-family=\"Times New Roman,serif\" font-size=\"14.00\">value = [95, 0]</text>\r\n",
       "</g>\r\n",
       "<!-- 5&#45;&gt;7 -->\r\n",
       "<g id=\"edge7\" class=\"edge\"><title>5&#45;&gt;7</title>\r\n",
       "<path fill=\"none\" stroke=\"black\" d=\"M314.672,-88.9485C325.84,-79.526 337.991,-69.2731 349.111,-59.8906\"/>\r\n",
       "<polygon fill=\"black\" stroke=\"black\" points=\"351.611,-62.3605 356.997,-53.2367 347.097,-57.0104 351.611,-62.3605\"/>\r\n",
       "</g>\r\n",
       "<!-- 9 -->\r\n",
       "<g id=\"node10\" class=\"node\"><title>9</title>\r\n",
       "<polygon fill=\"none\" stroke=\"black\" points=\"451.5,-149.5 347.5,-149.5 347.5,-96.5 451.5,-96.5 451.5,-149.5\"/>\r\n",
       "<text text-anchor=\"middle\" x=\"399.5\" y=\"-134.3\" font-family=\"Times New Roman,serif\" font-size=\"14.00\">gini = 0.0</text>\r\n",
       "<text text-anchor=\"middle\" x=\"399.5\" y=\"-119.3\" font-family=\"Times New Roman,serif\" font-size=\"14.00\">samples = 158</text>\r\n",
       "<text text-anchor=\"middle\" x=\"399.5\" y=\"-104.3\" font-family=\"Times New Roman,serif\" font-size=\"14.00\">value = [0, 158]</text>\r\n",
       "</g>\r\n",
       "<!-- 8&#45;&gt;9 -->\r\n",
       "<g id=\"edge9\" class=\"edge\"><title>8&#45;&gt;9</title>\r\n",
       "<path fill=\"none\" stroke=\"black\" d=\"M400.851,-192.884C400.641,-182.216 400.409,-170.352 400.196,-159.519\"/>\r\n",
       "<polygon fill=\"black\" stroke=\"black\" points=\"403.696,-159.449 400,-149.52 396.697,-159.587 403.696,-159.449\"/>\r\n",
       "</g>\r\n",
       "<!-- 10 -->\r\n",
       "<g id=\"node11\" class=\"node\"><title>10</title>\r\n",
       "<polygon fill=\"none\" stroke=\"black\" points=\"573.5,-157 469.5,-157 469.5,-89 573.5,-89 573.5,-157\"/>\r\n",
       "<text text-anchor=\"middle\" x=\"521.5\" y=\"-141.8\" font-family=\"Times New Roman,serif\" font-size=\"14.00\">X[3] &lt;= 140.5</text>\r\n",
       "<text text-anchor=\"middle\" x=\"521.5\" y=\"-126.8\" font-family=\"Times New Roman,serif\" font-size=\"14.00\">gini = 0.5</text>\r\n",
       "<text text-anchor=\"middle\" x=\"521.5\" y=\"-111.8\" font-family=\"Times New Roman,serif\" font-size=\"14.00\">samples = 45</text>\r\n",
       "<text text-anchor=\"middle\" x=\"521.5\" y=\"-96.8\" font-family=\"Times New Roman,serif\" font-size=\"14.00\">value = [22, 23]</text>\r\n",
       "</g>\r\n",
       "<!-- 8&#45;&gt;10 -->\r\n",
       "<g id=\"edge10\" class=\"edge\"><title>8&#45;&gt;10</title>\r\n",
       "<path fill=\"none\" stroke=\"black\" d=\"M440.461,-192.884C451.359,-183.62 463.318,-173.455 474.623,-163.845\"/>\r\n",
       "<polygon fill=\"black\" stroke=\"black\" points=\"476.972,-166.443 482.324,-157.299 472.438,-161.109 476.972,-166.443\"/>\r\n",
       "</g>\r\n",
       "<!-- 11 -->\r\n",
       "<g id=\"node12\" class=\"node\"><title>11</title>\r\n",
       "<polygon fill=\"none\" stroke=\"black\" points=\"561.5,-53 463.5,-53 463.5,-0 561.5,-0 561.5,-53\"/>\r\n",
       "<text text-anchor=\"middle\" x=\"512.5\" y=\"-37.8\" font-family=\"Times New Roman,serif\" font-size=\"14.00\">gini = 0.0</text>\r\n",
       "<text text-anchor=\"middle\" x=\"512.5\" y=\"-22.8\" font-family=\"Times New Roman,serif\" font-size=\"14.00\">samples = 22</text>\r\n",
       "<text text-anchor=\"middle\" x=\"512.5\" y=\"-7.8\" font-family=\"Times New Roman,serif\" font-size=\"14.00\">value = [22, 0]</text>\r\n",
       "</g>\r\n",
       "<!-- 10&#45;&gt;11 -->\r\n",
       "<g id=\"edge11\" class=\"edge\"><title>10&#45;&gt;11</title>\r\n",
       "<path fill=\"none\" stroke=\"black\" d=\"M518.352,-88.9485C517.559,-80.6238 516.705,-71.6509 515.9,-63.2027\"/>\r\n",
       "<polygon fill=\"black\" stroke=\"black\" points=\"519.384,-62.8598 514.951,-53.2367 512.415,-63.5235 519.384,-62.8598\"/>\r\n",
       "</g>\r\n",
       "<!-- 12 -->\r\n",
       "<g id=\"node13\" class=\"node\"><title>12</title>\r\n",
       "<polygon fill=\"none\" stroke=\"black\" points=\"677.5,-53 579.5,-53 579.5,-0 677.5,-0 677.5,-53\"/>\r\n",
       "<text text-anchor=\"middle\" x=\"628.5\" y=\"-37.8\" font-family=\"Times New Roman,serif\" font-size=\"14.00\">gini = 0.0</text>\r\n",
       "<text text-anchor=\"middle\" x=\"628.5\" y=\"-22.8\" font-family=\"Times New Roman,serif\" font-size=\"14.00\">samples = 23</text>\r\n",
       "<text text-anchor=\"middle\" x=\"628.5\" y=\"-7.8\" font-family=\"Times New Roman,serif\" font-size=\"14.00\">value = [0, 23]</text>\r\n",
       "</g>\r\n",
       "<!-- 10&#45;&gt;12 -->\r\n",
       "<g id=\"edge12\" class=\"edge\"><title>10&#45;&gt;12</title>\r\n",
       "<path fill=\"none\" stroke=\"black\" d=\"M558.923,-88.9485C569.592,-79.526 581.201,-69.2731 591.825,-59.8906\"/>\r\n",
       "<polygon fill=\"black\" stroke=\"black\" points=\"594.181,-62.4798 599.359,-53.2367 589.547,-57.2331 594.181,-62.4798\"/>\r\n",
       "</g>\r\n",
       "</g>\r\n",
       "</svg>\r\n"
      ],
      "text/plain": [
       "<graphviz.files.Source at 0x225c25ced60>"
      ]
     },
     "execution_count": 235,
     "metadata": {},
     "output_type": "execute_result"
    }
   ],
   "source": [
    "data = tree.export_graphviz(gini_model2, out_file=None)\n",
    "graph = graphviz.Source(data)\n",
    "graph"
   ]
  },
  {
   "cell_type": "code",
   "execution_count": 236,
   "metadata": {
    "colab": {},
    "colab_type": "code",
    "id": "_UIWhKZBDuW7"
   },
   "outputs": [
    {
     "data": {
      "image/svg+xml": [
       "<?xml version=\"1.0\" encoding=\"UTF-8\" standalone=\"no\"?>\r\n",
       "<!DOCTYPE svg PUBLIC \"-//W3C//DTD SVG 1.1//EN\"\r\n",
       " \"http://www.w3.org/Graphics/SVG/1.1/DTD/svg11.dtd\">\r\n",
       "<!-- Generated by graphviz version 2.38.0 (20140413.2041)\r\n",
       " -->\r\n",
       "<!-- Title: Tree Pages: 1 -->\r\n",
       "<svg width=\"686pt\" height=\"433pt\"\r\n",
       " viewBox=\"0.00 0.00 685.50 433.00\" xmlns=\"http://www.w3.org/2000/svg\" xmlns:xlink=\"http://www.w3.org/1999/xlink\">\r\n",
       "<g id=\"graph0\" class=\"graph\" transform=\"scale(1 1) rotate(0) translate(4 429)\">\r\n",
       "<title>Tree</title>\r\n",
       "<polygon fill=\"white\" stroke=\"none\" points=\"-4,4 -4,-429 681.5,-429 681.5,4 -4,4\"/>\r\n",
       "<!-- 0 -->\r\n",
       "<g id=\"node1\" class=\"node\"><title>0</title>\r\n",
       "<polygon fill=\"none\" stroke=\"black\" points=\"395.5,-425 277.5,-425 277.5,-342 395.5,-342 395.5,-425\"/>\r\n",
       "<text text-anchor=\"middle\" x=\"336.5\" y=\"-409.8\" font-family=\"Times New Roman,serif\" font-size=\"14.00\">X[3] &lt;= 100.5</text>\r\n",
       "<text text-anchor=\"middle\" x=\"336.5\" y=\"-394.8\" font-family=\"Times New Roman,serif\" font-size=\"14.00\">gini = 0.464</text>\r\n",
       "<text text-anchor=\"middle\" x=\"336.5\" y=\"-379.8\" font-family=\"Times New Roman,serif\" font-size=\"14.00\">samples = 355</text>\r\n",
       "<text text-anchor=\"middle\" x=\"336.5\" y=\"-364.8\" font-family=\"Times New Roman,serif\" font-size=\"14.00\">value = [130, 225]</text>\r\n",
       "<text text-anchor=\"middle\" x=\"336.5\" y=\"-349.8\" font-family=\"Times New Roman,serif\" font-size=\"14.00\">class = YES</text>\r\n",
       "</g>\r\n",
       "<!-- 1 -->\r\n",
       "<g id=\"node2\" class=\"node\"><title>1</title>\r\n",
       "<polygon fill=\"none\" stroke=\"black\" points=\"328,-306 217,-306 217,-223 328,-223 328,-306\"/>\r\n",
       "<text text-anchor=\"middle\" x=\"272.5\" y=\"-290.8\" font-family=\"Times New Roman,serif\" font-size=\"14.00\">X[5] &lt;= 3.754</text>\r\n",
       "<text text-anchor=\"middle\" x=\"272.5\" y=\"-275.8\" font-family=\"Times New Roman,serif\" font-size=\"14.00\">gini = 0.411</text>\r\n",
       "<text text-anchor=\"middle\" x=\"272.5\" y=\"-260.8\" font-family=\"Times New Roman,serif\" font-size=\"14.00\">samples = 152</text>\r\n",
       "<text text-anchor=\"middle\" x=\"272.5\" y=\"-245.8\" font-family=\"Times New Roman,serif\" font-size=\"14.00\">value = [108, 44]</text>\r\n",
       "<text text-anchor=\"middle\" x=\"272.5\" y=\"-230.8\" font-family=\"Times New Roman,serif\" font-size=\"14.00\">class = NO</text>\r\n",
       "</g>\r\n",
       "<!-- 0&#45;&gt;1 -->\r\n",
       "<g id=\"edge1\" class=\"edge\"><title>0&#45;&gt;1</title>\r\n",
       "<path fill=\"none\" stroke=\"black\" d=\"M314.296,-341.907C309.53,-333.195 304.444,-323.897 299.519,-314.893\"/>\r\n",
       "<polygon fill=\"black\" stroke=\"black\" points=\"302.535,-313.114 294.665,-306.021 296.394,-316.474 302.535,-313.114\"/>\r\n",
       "<text text-anchor=\"middle\" x=\"287.64\" y=\"-326.313\" font-family=\"Times New Roman,serif\" font-size=\"14.00\">True</text>\r\n",
       "</g>\r\n",
       "<!-- 8 -->\r\n",
       "<g id=\"node9\" class=\"node\"><title>8</title>\r\n",
       "<polygon fill=\"none\" stroke=\"black\" points=\"457,-306 346,-306 346,-223 457,-223 457,-306\"/>\r\n",
       "<text text-anchor=\"middle\" x=\"401.5\" y=\"-290.8\" font-family=\"Times New Roman,serif\" font-size=\"14.00\">X[5] &lt;= 8.047</text>\r\n",
       "<text text-anchor=\"middle\" x=\"401.5\" y=\"-275.8\" font-family=\"Times New Roman,serif\" font-size=\"14.00\">gini = 0.193</text>\r\n",
       "<text text-anchor=\"middle\" x=\"401.5\" y=\"-260.8\" font-family=\"Times New Roman,serif\" font-size=\"14.00\">samples = 203</text>\r\n",
       "<text text-anchor=\"middle\" x=\"401.5\" y=\"-245.8\" font-family=\"Times New Roman,serif\" font-size=\"14.00\">value = [22, 181]</text>\r\n",
       "<text text-anchor=\"middle\" x=\"401.5\" y=\"-230.8\" font-family=\"Times New Roman,serif\" font-size=\"14.00\">class = YES</text>\r\n",
       "</g>\r\n",
       "<!-- 0&#45;&gt;8 -->\r\n",
       "<g id=\"edge8\" class=\"edge\"><title>0&#45;&gt;8</title>\r\n",
       "<path fill=\"none\" stroke=\"black\" d=\"M359.051,-341.907C363.891,-333.195 369.057,-323.897 374.059,-314.893\"/>\r\n",
       "<polygon fill=\"black\" stroke=\"black\" points=\"377.192,-316.462 378.988,-306.021 371.072,-313.063 377.192,-316.462\"/>\r\n",
       "<text text-anchor=\"middle\" x=\"385.856\" y=\"-326.359\" font-family=\"Times New Roman,serif\" font-size=\"14.00\">False</text>\r\n",
       "</g>\r\n",
       "<!-- 2 -->\r\n",
       "<g id=\"node3\" class=\"node\"><title>2</title>\r\n",
       "<polygon fill=\"none\" stroke=\"black\" points=\"208.5,-187 104.5,-187 104.5,-104 208.5,-104 208.5,-187\"/>\r\n",
       "<text text-anchor=\"middle\" x=\"156.5\" y=\"-171.8\" font-family=\"Times New Roman,serif\" font-size=\"14.00\">X[3] &lt;= 24.5</text>\r\n",
       "<text text-anchor=\"middle\" x=\"156.5\" y=\"-156.8\" font-family=\"Times New Roman,serif\" font-size=\"14.00\">gini = 0.324</text>\r\n",
       "<text text-anchor=\"middle\" x=\"156.5\" y=\"-141.8\" font-family=\"Times New Roman,serif\" font-size=\"14.00\">samples = 54</text>\r\n",
       "<text text-anchor=\"middle\" x=\"156.5\" y=\"-126.8\" font-family=\"Times New Roman,serif\" font-size=\"14.00\">value = [11, 43]</text>\r\n",
       "<text text-anchor=\"middle\" x=\"156.5\" y=\"-111.8\" font-family=\"Times New Roman,serif\" font-size=\"14.00\">class = YES</text>\r\n",
       "</g>\r\n",
       "<!-- 1&#45;&gt;2 -->\r\n",
       "<g id=\"edge2\" class=\"edge\"><title>1&#45;&gt;2</title>\r\n",
       "<path fill=\"none\" stroke=\"black\" d=\"M232.254,-222.907C223.077,-213.651 213.243,-203.732 203.801,-194.209\"/>\r\n",
       "<polygon fill=\"black\" stroke=\"black\" points=\"206.201,-191.658 196.674,-187.021 201.23,-196.586 206.201,-191.658\"/>\r\n",
       "</g>\r\n",
       "<!-- 5 -->\r\n",
       "<g id=\"node6\" class=\"node\"><title>5</title>\r\n",
       "<polygon fill=\"none\" stroke=\"black\" points=\"324.5,-187 226.5,-187 226.5,-104 324.5,-104 324.5,-187\"/>\r\n",
       "<text text-anchor=\"middle\" x=\"275.5\" y=\"-171.8\" font-family=\"Times New Roman,serif\" font-size=\"14.00\">X[5] &lt;= 4.0</text>\r\n",
       "<text text-anchor=\"middle\" x=\"275.5\" y=\"-156.8\" font-family=\"Times New Roman,serif\" font-size=\"14.00\">gini = 0.02</text>\r\n",
       "<text text-anchor=\"middle\" x=\"275.5\" y=\"-141.8\" font-family=\"Times New Roman,serif\" font-size=\"14.00\">samples = 98</text>\r\n",
       "<text text-anchor=\"middle\" x=\"275.5\" y=\"-126.8\" font-family=\"Times New Roman,serif\" font-size=\"14.00\">value = [97, 1]</text>\r\n",
       "<text text-anchor=\"middle\" x=\"275.5\" y=\"-111.8\" font-family=\"Times New Roman,serif\" font-size=\"14.00\">class = NO</text>\r\n",
       "</g>\r\n",
       "<!-- 1&#45;&gt;5 -->\r\n",
       "<g id=\"edge5\" class=\"edge\"><title>1&#45;&gt;5</title>\r\n",
       "<path fill=\"none\" stroke=\"black\" d=\"M273.541,-222.907C273.755,-214.558 273.983,-205.671 274.205,-197.02\"/>\r\n",
       "<polygon fill=\"black\" stroke=\"black\" points=\"277.703,-197.107 274.461,-187.021 270.706,-196.928 277.703,-197.107\"/>\r\n",
       "</g>\r\n",
       "<!-- 3 -->\r\n",
       "<g id=\"node4\" class=\"node\"><title>3</title>\r\n",
       "<polygon fill=\"none\" stroke=\"black\" points=\"91,-68 0,-68 0,-0 91,-0 91,-68\"/>\r\n",
       "<text text-anchor=\"middle\" x=\"45.5\" y=\"-52.8\" font-family=\"Times New Roman,serif\" font-size=\"14.00\">gini = 0.0</text>\r\n",
       "<text text-anchor=\"middle\" x=\"45.5\" y=\"-37.8\" font-family=\"Times New Roman,serif\" font-size=\"14.00\">samples = 8</text>\r\n",
       "<text text-anchor=\"middle\" x=\"45.5\" y=\"-22.8\" font-family=\"Times New Roman,serif\" font-size=\"14.00\">value = [8, 0]</text>\r\n",
       "<text text-anchor=\"middle\" x=\"45.5\" y=\"-7.8\" font-family=\"Times New Roman,serif\" font-size=\"14.00\">class = NO</text>\r\n",
       "</g>\r\n",
       "<!-- 2&#45;&gt;3 -->\r\n",
       "<g id=\"edge3\" class=\"edge\"><title>2&#45;&gt;3</title>\r\n",
       "<path fill=\"none\" stroke=\"black\" d=\"M115.168,-103.726C105.829,-94.5142 95.9178,-84.7364 86.5896,-75.5343\"/>\r\n",
       "<polygon fill=\"black\" stroke=\"black\" points=\"88.8328,-72.8308 79.2558,-68.2996 83.9168,-77.8141 88.8328,-72.8308\"/>\r\n",
       "</g>\r\n",
       "<!-- 4 -->\r\n",
       "<g id=\"node5\" class=\"node\"><title>4</title>\r\n",
       "<polygon fill=\"none\" stroke=\"black\" points=\"207.5,-68 109.5,-68 109.5,-0 207.5,-0 207.5,-68\"/>\r\n",
       "<text text-anchor=\"middle\" x=\"158.5\" y=\"-52.8\" font-family=\"Times New Roman,serif\" font-size=\"14.00\">gini = 0.122</text>\r\n",
       "<text text-anchor=\"middle\" x=\"158.5\" y=\"-37.8\" font-family=\"Times New Roman,serif\" font-size=\"14.00\">samples = 46</text>\r\n",
       "<text text-anchor=\"middle\" x=\"158.5\" y=\"-22.8\" font-family=\"Times New Roman,serif\" font-size=\"14.00\">value = [3, 43]</text>\r\n",
       "<text text-anchor=\"middle\" x=\"158.5\" y=\"-7.8\" font-family=\"Times New Roman,serif\" font-size=\"14.00\">class = YES</text>\r\n",
       "</g>\r\n",
       "<!-- 2&#45;&gt;4 -->\r\n",
       "<g id=\"edge4\" class=\"edge\"><title>2&#45;&gt;4</title>\r\n",
       "<path fill=\"none\" stroke=\"black\" d=\"M157.245,-103.726C157.395,-95.5175 157.553,-86.8595 157.704,-78.56\"/>\r\n",
       "<polygon fill=\"black\" stroke=\"black\" points=\"161.208,-78.3619 157.892,-68.2996 154.21,-78.234 161.208,-78.3619\"/>\r\n",
       "</g>\r\n",
       "<!-- 6 -->\r\n",
       "<g id=\"node7\" class=\"node\"><title>6</title>\r\n",
       "<polygon fill=\"none\" stroke=\"black\" points=\"320,-68 229,-68 229,-0 320,-0 320,-68\"/>\r\n",
       "<text text-anchor=\"middle\" x=\"274.5\" y=\"-52.8\" font-family=\"Times New Roman,serif\" font-size=\"14.00\">gini = 0.444</text>\r\n",
       "<text text-anchor=\"middle\" x=\"274.5\" y=\"-37.8\" font-family=\"Times New Roman,serif\" font-size=\"14.00\">samples = 3</text>\r\n",
       "<text text-anchor=\"middle\" x=\"274.5\" y=\"-22.8\" font-family=\"Times New Roman,serif\" font-size=\"14.00\">value = [2, 1]</text>\r\n",
       "<text text-anchor=\"middle\" x=\"274.5\" y=\"-7.8\" font-family=\"Times New Roman,serif\" font-size=\"14.00\">class = NO</text>\r\n",
       "</g>\r\n",
       "<!-- 5&#45;&gt;6 -->\r\n",
       "<g id=\"edge6\" class=\"edge\"><title>5&#45;&gt;6</title>\r\n",
       "<path fill=\"none\" stroke=\"black\" d=\"M275.128,-103.726C275.053,-95.5175 274.974,-86.8595 274.898,-78.56\"/>\r\n",
       "<polygon fill=\"black\" stroke=\"black\" points=\"278.395,-78.2672 274.804,-68.2996 271.396,-78.3312 278.395,-78.2672\"/>\r\n",
       "</g>\r\n",
       "<!-- 7 -->\r\n",
       "<g id=\"node8\" class=\"node\"><title>7</title>\r\n",
       "<polygon fill=\"none\" stroke=\"black\" points=\"436.5,-68 338.5,-68 338.5,-0 436.5,-0 436.5,-68\"/>\r\n",
       "<text text-anchor=\"middle\" x=\"387.5\" y=\"-52.8\" font-family=\"Times New Roman,serif\" font-size=\"14.00\">gini = 0.0</text>\r\n",
       "<text text-anchor=\"middle\" x=\"387.5\" y=\"-37.8\" font-family=\"Times New Roman,serif\" font-size=\"14.00\">samples = 95</text>\r\n",
       "<text text-anchor=\"middle\" x=\"387.5\" y=\"-22.8\" font-family=\"Times New Roman,serif\" font-size=\"14.00\">value = [95, 0]</text>\r\n",
       "<text text-anchor=\"middle\" x=\"387.5\" y=\"-7.8\" font-family=\"Times New Roman,serif\" font-size=\"14.00\">class = NO</text>\r\n",
       "</g>\r\n",
       "<!-- 5&#45;&gt;7 -->\r\n",
       "<g id=\"edge7\" class=\"edge\"><title>5&#45;&gt;7</title>\r\n",
       "<path fill=\"none\" stroke=\"black\" d=\"M317.205,-103.726C326.627,-94.5142 336.628,-84.7364 346.04,-75.5343\"/>\r\n",
       "<polygon fill=\"black\" stroke=\"black\" points=\"348.736,-77.7931 353.44,-68.2996 343.843,-72.7878 348.736,-77.7931\"/>\r\n",
       "</g>\r\n",
       "<!-- 9 -->\r\n",
       "<g id=\"node10\" class=\"node\"><title>9</title>\r\n",
       "<polygon fill=\"none\" stroke=\"black\" points=\"451.5,-179.5 347.5,-179.5 347.5,-111.5 451.5,-111.5 451.5,-179.5\"/>\r\n",
       "<text text-anchor=\"middle\" x=\"399.5\" y=\"-164.3\" font-family=\"Times New Roman,serif\" font-size=\"14.00\">gini = 0.0</text>\r\n",
       "<text text-anchor=\"middle\" x=\"399.5\" y=\"-149.3\" font-family=\"Times New Roman,serif\" font-size=\"14.00\">samples = 158</text>\r\n",
       "<text text-anchor=\"middle\" x=\"399.5\" y=\"-134.3\" font-family=\"Times New Roman,serif\" font-size=\"14.00\">value = [0, 158]</text>\r\n",
       "<text text-anchor=\"middle\" x=\"399.5\" y=\"-119.3\" font-family=\"Times New Roman,serif\" font-size=\"14.00\">class = YES</text>\r\n",
       "</g>\r\n",
       "<!-- 8&#45;&gt;9 -->\r\n",
       "<g id=\"edge9\" class=\"edge\"><title>8&#45;&gt;9</title>\r\n",
       "<path fill=\"none\" stroke=\"black\" d=\"M400.806,-222.907C400.623,-212.204 400.425,-200.615 400.24,-189.776\"/>\r\n",
       "<polygon fill=\"black\" stroke=\"black\" points=\"403.737,-189.606 400.067,-179.667 396.738,-189.725 403.737,-189.606\"/>\r\n",
       "</g>\r\n",
       "<!-- 10 -->\r\n",
       "<g id=\"node11\" class=\"node\"><title>10</title>\r\n",
       "<polygon fill=\"none\" stroke=\"black\" points=\"573.5,-187 469.5,-187 469.5,-104 573.5,-104 573.5,-187\"/>\r\n",
       "<text text-anchor=\"middle\" x=\"521.5\" y=\"-171.8\" font-family=\"Times New Roman,serif\" font-size=\"14.00\">X[3] &lt;= 140.5</text>\r\n",
       "<text text-anchor=\"middle\" x=\"521.5\" y=\"-156.8\" font-family=\"Times New Roman,serif\" font-size=\"14.00\">gini = 0.5</text>\r\n",
       "<text text-anchor=\"middle\" x=\"521.5\" y=\"-141.8\" font-family=\"Times New Roman,serif\" font-size=\"14.00\">samples = 45</text>\r\n",
       "<text text-anchor=\"middle\" x=\"521.5\" y=\"-126.8\" font-family=\"Times New Roman,serif\" font-size=\"14.00\">value = [22, 23]</text>\r\n",
       "<text text-anchor=\"middle\" x=\"521.5\" y=\"-111.8\" font-family=\"Times New Roman,serif\" font-size=\"14.00\">class = YES</text>\r\n",
       "</g>\r\n",
       "<!-- 8&#45;&gt;10 -->\r\n",
       "<g id=\"edge10\" class=\"edge\"><title>8&#45;&gt;10</title>\r\n",
       "<path fill=\"none\" stroke=\"black\" d=\"M443.133,-222.907C452.627,-213.651 462.8,-203.732 472.568,-194.209\"/>\r\n",
       "<polygon fill=\"black\" stroke=\"black\" points=\"475.224,-196.508 479.94,-187.021 470.337,-191.496 475.224,-196.508\"/>\r\n",
       "</g>\r\n",
       "<!-- 11 -->\r\n",
       "<g id=\"node12\" class=\"node\"><title>11</title>\r\n",
       "<polygon fill=\"none\" stroke=\"black\" points=\"561.5,-68 463.5,-68 463.5,-0 561.5,-0 561.5,-68\"/>\r\n",
       "<text text-anchor=\"middle\" x=\"512.5\" y=\"-52.8\" font-family=\"Times New Roman,serif\" font-size=\"14.00\">gini = 0.0</text>\r\n",
       "<text text-anchor=\"middle\" x=\"512.5\" y=\"-37.8\" font-family=\"Times New Roman,serif\" font-size=\"14.00\">samples = 22</text>\r\n",
       "<text text-anchor=\"middle\" x=\"512.5\" y=\"-22.8\" font-family=\"Times New Roman,serif\" font-size=\"14.00\">value = [22, 0]</text>\r\n",
       "<text text-anchor=\"middle\" x=\"512.5\" y=\"-7.8\" font-family=\"Times New Roman,serif\" font-size=\"14.00\">class = NO</text>\r\n",
       "</g>\r\n",
       "<!-- 10&#45;&gt;11 -->\r\n",
       "<g id=\"edge11\" class=\"edge\"><title>10&#45;&gt;11</title>\r\n",
       "<path fill=\"none\" stroke=\"black\" d=\"M518.149,-103.726C517.467,-95.4263 516.747,-86.6671 516.058,-78.2834\"/>\r\n",
       "<polygon fill=\"black\" stroke=\"black\" points=\"519.544,-77.9793 515.237,-68.2996 512.568,-78.5527 519.544,-77.9793\"/>\r\n",
       "</g>\r\n",
       "<!-- 12 -->\r\n",
       "<g id=\"node13\" class=\"node\"><title>12</title>\r\n",
       "<polygon fill=\"none\" stroke=\"black\" points=\"677.5,-68 579.5,-68 579.5,-0 677.5,-0 677.5,-68\"/>\r\n",
       "<text text-anchor=\"middle\" x=\"628.5\" y=\"-52.8\" font-family=\"Times New Roman,serif\" font-size=\"14.00\">gini = 0.0</text>\r\n",
       "<text text-anchor=\"middle\" x=\"628.5\" y=\"-37.8\" font-family=\"Times New Roman,serif\" font-size=\"14.00\">samples = 23</text>\r\n",
       "<text text-anchor=\"middle\" x=\"628.5\" y=\"-22.8\" font-family=\"Times New Roman,serif\" font-size=\"14.00\">value = [0, 23]</text>\r\n",
       "<text text-anchor=\"middle\" x=\"628.5\" y=\"-7.8\" font-family=\"Times New Roman,serif\" font-size=\"14.00\">class = YES</text>\r\n",
       "</g>\r\n",
       "<!-- 10&#45;&gt;12 -->\r\n",
       "<g id=\"edge12\" class=\"edge\"><title>10&#45;&gt;12</title>\r\n",
       "<path fill=\"none\" stroke=\"black\" d=\"M561.343,-103.726C570.345,-94.5142 579.899,-84.7364 588.891,-75.5343\"/>\r\n",
       "<polygon fill=\"black\" stroke=\"black\" points=\"591.475,-77.898 595.961,-68.2996 586.468,-73.0057 591.475,-77.898\"/>\r\n",
       "</g>\r\n",
       "</g>\r\n",
       "</svg>\r\n"
      ],
      "text/plain": [
       "<graphviz.files.Source at 0x225c2257340>"
      ]
     },
     "execution_count": 236,
     "metadata": {},
     "output_type": "execute_result"
    }
   ],
   "source": [
    "# Alternatively for class_names use gini_model2.classes_\n",
    "data = tree.export_graphviz(gini_model2, out_file=None,\n",
    "                           class_names=gini_model2.classes_)\n",
    "graph = graphviz.Source(data)\n",
    "graph"
   ]
  },
  {
   "cell_type": "code",
   "execution_count": 237,
   "metadata": {
    "colab": {},
    "colab_type": "code",
    "id": "R4t7e9-GDuW9"
   },
   "outputs": [
    {
     "name": "stdout",
     "output_type": "stream",
     "text": [
      "Gini impurity  model - max depth 3\n",
      "Accuracy: 0.9747899159663865\n",
      "Balanced accuracy: 0.9691994996873046\n",
      "Precision score 0.9746835443037974\n",
      "Recall score 0.9512195121951219\n"
     ]
    }
   ],
   "source": [
    "print(\"Gini impurity  model - max depth 3\")\n",
    "print(\"Accuracy:\", metrics.accuracy_score(y_test,y_pred))\n",
    "print(\"Balanced accuracy:\", metrics.balanced_accuracy_score(y_test,y_pred))\n",
    "print('Precision score' , metrics.precision_score(y_test,y_pred, pos_label = \"YES\"))\n",
    "print('Recall score' , metrics.recall_score(y_test,y_pred, pos_label = \"NO\"))"
   ]
  },
  {
   "cell_type": "markdown",
   "metadata": {
    "colab_type": "text",
    "id": "UzGThBXSDuW-"
   },
   "source": [
    "Now this is an elegant tree. Its accuracy might not be the highest, but it's still the best model we've produced so far. Why is that? Write your answer here: \n",
    "\n",
    "It is nearly as accurate as the models with no depth limit, but it also has a viable sample size at the deepest parts of the treee.  So I'm not concerned that it is overfit for these data.  It should well better on other data sets."
   ]
  },
  {
   "cell_type": "markdown",
   "metadata": {
    "colab_type": "text",
    "id": "jS1niFlCDuW_"
   },
   "source": [
    "# 4. Evaluating and concluding\n",
    "## 4a. How many customers will buy Hidden Farm coffee? \n",
    "Let's first ascertain how many loyal customers claimed, in the survey, that they will purchase the Hidden Farm coffee. "
   ]
  },
  {
   "cell_type": "code",
   "execution_count": 253,
   "metadata": {
    "colab": {},
    "colab_type": "code",
    "id": "QPHXnHZvDuXC"
   },
   "outputs": [
    {
     "data": {
      "text/plain": [
       "303"
      ]
     },
     "execution_count": 253,
     "metadata": {},
     "output_type": "execute_result"
    }
   ],
   "source": [
    "# Call value_counts() on the 'Decision' column of the original coffeeData\n",
    "coffeeData['Decision'].value_counts()[0]"
   ]
  },
  {
   "cell_type": "markdown",
   "metadata": {
    "colab_type": "text",
    "id": "kw_5g_ZEDuXD"
   },
   "source": [
    "Let's now determine the number of people that, according to the model, will be willing to buy the Hidden Farm coffee. \n",
    "1. First we subset the Prediction dataset into `new_X` considering all the variables except `Decision` \n",
    "2. Use that dataset to predict a new variable called `potential_buyers`"
   ]
  },
  {
   "cell_type": "code",
   "execution_count": 241,
   "metadata": {
    "colab": {},
    "colab_type": "code",
    "id": "mwypR8ymDuXE"
   },
   "outputs": [],
   "source": [
    "# Feature selection\n",
    "# Make a variable called feature_cols, and assign it a list containing all the column names except 'Decision'\n",
    "feature_cols = ['Age', 'Gender', 'num_coffeeBags_per_year', 'spent_last_week',\n",
    "       'spent_last_month', 'salary', 'Distance', 'Online']\n",
    "\n",
    "# Make a variable called new_X, and assign it the subset of Prediction, containing just the feature_cols \n",
    "new_X = Prediction[feature_cols]"
   ]
  },
  {
   "cell_type": "code",
   "execution_count": 243,
   "metadata": {
    "colab": {},
    "colab_type": "code",
    "id": "0ajvbeRSDuXG"
   },
   "outputs": [],
   "source": [
    "# Call get_dummies() on the Pandas object pd, with new_X plugged in, to one-hot encode all features in the training set\n",
    "new_X = pd.get_dummies(new_X).drop('Gender_Male', axis=1)"
   ]
  },
  {
   "cell_type": "code",
   "execution_count": 250,
   "metadata": {
    "colab": {},
    "colab_type": "code",
    "id": "0ajvbeRSDuXG"
   },
   "outputs": [],
   "source": [
    "# Make a variable called potential_buyers, and assign it the result of calling predict() on a model of your choice; \n",
    "# don't forget to pass new_X to predict()\n",
    "potential_buyers = gini_model2.predict(new_X)"
   ]
  },
  {
   "cell_type": "code",
   "execution_count": 251,
   "metadata": {
    "colab": {},
    "colab_type": "code",
    "id": "-MO_KWT9DuXI"
   },
   "outputs": [
    {
     "data": {
      "text/plain": [
       "(array(['NO', 'YES'], dtype=object), array([ 45, 183], dtype=int64))"
      ]
     },
     "execution_count": 251,
     "metadata": {},
     "output_type": "execute_result"
    }
   ],
   "source": [
    "# Let's get the numbers of YES's and NO's in the potential buyers \n",
    "# Call unique() on np, and pass potential_buyers and return_counts=True \n",
    "np.unique(potential_buyers, return_counts=True)"
   ]
  },
  {
   "cell_type": "markdown",
   "metadata": {
    "colab_type": "text",
    "id": "3CB7HbiTDuXJ"
   },
   "source": [
    "The total number of potential buyers is 303 + 183 = 486"
   ]
  },
  {
   "cell_type": "code",
   "execution_count": 260,
   "metadata": {},
   "outputs": [
    {
     "data": {
      "text/plain": [
       "45"
      ]
     },
     "execution_count": 260,
     "metadata": {},
     "output_type": "execute_result"
    }
   ],
   "source": [
    "np.unique(potential_buyers, return_counts=True)[1][0]"
   ]
  },
  {
   "cell_type": "code",
   "execution_count": 271,
   "metadata": {
    "colab": {},
    "colab_type": "code",
    "id": "9EGFQcTuDuXK"
   },
   "outputs": [
    {
     "name": "stdout",
     "output_type": "stream",
     "text": [
      "The total number of surveyed people is 303 + 171 + 45 + 183 = 702\n"
     ]
    }
   ],
   "source": [
    "# Print the total number of surveyed people\n",
    "coffeeData_yes = int(coffeeData['Decision'].value_counts()[0])\n",
    "coffeeData_no = int(coffeeData['Decision'].value_counts()[1])\n",
    "potential_buyers_yes = int(np.unique(potential_buyers, return_counts=True)[1][0])\n",
    "potential_buyers_no = int(np.unique(potential_buyers, return_counts=True)[1][1])\n",
    "total_surveyed = coffeeData_yes + coffeeData_no + potential_buyers_yes + potential_buyers_no\n",
    "\n",
    "print('The total number of surveyed people is {} + {} + {} + {} = {}'.format(coffeeData_yes,\n",
    "                                                                            coffeeData_no,\n",
    "                                                                            potential_buyers_yes,\n",
    "                                                                            potential_buyers_no,\n",
    "                                                                             total_surveyed\n",
    "                                                                            )         \n",
    "     )      "
   ]
  },
  {
   "cell_type": "code",
   "execution_count": 272,
   "metadata": {
    "colab": {},
    "colab_type": "code",
    "id": "22_KRMX4DuXM"
   },
   "outputs": [],
   "source": [
    "# Let's calculate the proportion of buyers\n",
    "buyers = (coffeeData_yes + potential_buyers_yes) / total_surveyed"
   ]
  },
  {
   "cell_type": "code",
   "execution_count": 279,
   "metadata": {
    "colab": {},
    "colab_type": "code",
    "id": "xLMCDMpmDuXO"
   },
   "outputs": [
    {
     "name": "stdout",
     "output_type": "stream",
     "text": [
      "The percentage of people who want to buy the Hidden Farm coffee is 49.57%.\n"
     ]
    }
   ],
   "source": [
    "# Print the percentage of people who want to buy the Hidden Farm coffee, by our model \n",
    "print('The percentage of people who want to buy the Hidden Farm coffee is {:.2%}.'.format(buyers))"
   ]
  },
  {
   "cell_type": "markdown",
   "metadata": {
    "colab_type": "text",
    "id": "9bRDyi6rDuXQ"
   },
   "source": [
    "## 4b. Decision\n",
    "Remember how you thought at the start: if more than 70% of the interviewed customers are likely to buy the Hidden Farm coffee, you will strike the deal with the local Hidden Farm farmers and sell the coffee. Otherwise, you won't strike the deal and the Hidden Farm coffee will remain in legends only. Well now's crunch time. Are you going to go ahead with that idea? If so, you won't be striking the deal with the Chinese farmers. \n",
    "\n",
    "They're called `decision trees`, aren't they? So where's the decision? What should you do? (Cue existential cat emoji). \n",
    "\n",
    "Ultimately, though, we can't write an algorithm to actually *make the business decision* for us. This is because such decisions depend on our values, what risks we are willing to take, the stakes of our decisions, and how important it us for us to *know* that we will succeed. What are you going to do with the models you've made? Are you going to risk everything, strike the deal with the *Hidden Farm* farmers, and sell the coffee? \n",
    "\n",
    "The philosopher of language Jason Stanley once wrote that the number of doubts our evidence has to rule out in order for us to know a given proposition depends on our stakes: the higher our stakes, the more doubts our evidence has to rule out, and therefore the harder it is for us to know things. We can end up paralyzed in predicaments; sometimes, we can act to better our situation only if we already know certain things, which we can only if our stakes were lower and we'd *already* bettered our situation. \n",
    "\n",
    "Data science and machine learning can't solve such problems. But what it can do is help us make great use of our data to help *inform* our decisions."
   ]
  },
  {
   "cell_type": "markdown",
   "metadata": {
    "colab_type": "text",
    "id": "crWWrpdox8i-"
   },
   "source": [
    "## 5. Random Forest\n",
    "You might have noticed an important fact about decision trees. Each time we run a given decision tree algorithm to make a prediction (such as whether customers will buy the Hidden Farm coffee) we will actually get a slightly different result. This might seem weird, but it has a simple explanation: machine learning algorithms are by definition ***stochastic***, in that their output is at least partly determined by randomness. \n",
    "\n",
    "To account for this variability and ensure that we get the most accurate prediction, we might want to actually make lots of decision trees, and get a value that captures the centre or average of the outputs of those trees. Luckily, there's a method for this, known as the ***Random Forest***. \n",
    "\n",
    "Essentially, Random Forest involves making lots of trees with similar properties, and then performing summary statistics on the outputs of those trees to reach that central value. Random forests are hugely powerful classifers, and they can improve predictive accuracy and control over-fitting. \n",
    "\n",
    "Why not try to inform your decision with random forest? You'll need to make use of the RandomForestClassifier function within the sklearn.ensemble module, found [here](https://scikit-learn.org/stable/modules/generated/sklearn.ensemble.RandomForestClassifier.html). "
   ]
  },
  {
   "cell_type": "markdown",
   "metadata": {
    "colab_type": "text",
    "id": "fI4fiVWq0IH9"
   },
   "source": [
    "### 5a. Import necessary modules"
   ]
  },
  {
   "cell_type": "code",
   "execution_count": 280,
   "metadata": {
    "colab": {},
    "colab_type": "code",
    "id": "vSRTnHnD0D-O"
   },
   "outputs": [],
   "source": [
    "from sklearn.ensemble import RandomForestClassifier\n",
    "from sklearn.datasets import make_classification"
   ]
  },
  {
   "cell_type": "markdown",
   "metadata": {
    "colab_type": "text",
    "id": "jKmFvvjb0WB9"
   },
   "source": [
    "### 5b. Model\n",
    "You'll use your X_train and y_train variables just as before.\n",
    "\n",
    "You'll then need to make a variable (call it firstRFModel) to store your new Random Forest model. You'll assign this variable the result of calling RandomForestClassifier().\n",
    "\n",
    "Then, just as before, you'll call fit() on that firstRFModel variable, and plug in X_train and y_train.\n",
    "\n",
    "Finally, you should make a variable called y_pred, and assign it the result of calling the predict() method on your new firstRFModel, with the X_test data passed to it. "
   ]
  },
  {
   "cell_type": "code",
   "execution_count": 285,
   "metadata": {
    "colab": {},
    "colab_type": "code",
    "id": "OQEeTiRG1aSm"
   },
   "outputs": [
    {
     "data": {
      "text/plain": [
       "RandomForestClassifier(max_depth=3, random_state=1234)"
      ]
     },
     "execution_count": 285,
     "metadata": {},
     "output_type": "execute_result"
    }
   ],
   "source": [
    "# Plug in appropriate max_depth and random_state parameters \n",
    "RFModel = RandomForestClassifier(max_depth=3, random_state=1234)\n",
    "\n",
    "\n",
    "# Model and fit\n",
    "RFModel.fit(X_train, y_train)\n",
    "y_pred = RFModel.predict(X_test)\n",
    "\n",
    "pd.Series(y_pred)\n",
    "\n",
    "RFModel"
   ]
  },
  {
   "cell_type": "code",
   "execution_count": 286,
   "metadata": {},
   "outputs": [
    {
     "name": "stdout",
     "output_type": "stream",
     "text": [
      "Random Forest model - max depth 3\n",
      "Accuracy: 0.9159663865546218\n",
      "Balanced accuracy: 0.883833646028768\n",
      "Precision score 0.8953488372093024\n",
      "Recall score 0.7804878048780488\n"
     ]
    }
   ],
   "source": [
    "print(\"Random Forest model - max depth 3\")\n",
    "print(\"Accuracy:\", metrics.accuracy_score(y_test,y_pred))\n",
    "print(\"Balanced accuracy:\", metrics.balanced_accuracy_score(y_test,y_pred))\n",
    "print('Precision score' , metrics.precision_score(y_test,y_pred, pos_label = \"YES\"))\n",
    "print('Recall score' , metrics.recall_score(y_test,y_pred, pos_label = \"NO\"))"
   ]
  },
  {
   "cell_type": "markdown",
   "metadata": {
    "colab_type": "text",
    "id": "sCIt6pyn1zpb"
   },
   "source": [
    "### 5c. Revise conclusion\n",
    "\n",
    "Has your conclusion changed? Or is the result of executing random forest the same as your best model reached by a single decision tree? "
   ]
  }
 ],
 "metadata": {
  "colab": {
   "collapsed_sections": [],
   "name": "Springboard Decision Tree Specialty Coffee Case Study - Tier 3.ipynb",
   "provenance": []
  },
  "kernelspec": {
   "display_name": "Python 3",
   "language": "python",
   "name": "python3"
  },
  "language_info": {
   "codemirror_mode": {
    "name": "ipython",
    "version": 3
   },
   "file_extension": ".py",
   "mimetype": "text/x-python",
   "name": "python",
   "nbconvert_exporter": "python",
   "pygments_lexer": "ipython3",
   "version": "3.8.5"
  }
 },
 "nbformat": 4,
 "nbformat_minor": 4
}
